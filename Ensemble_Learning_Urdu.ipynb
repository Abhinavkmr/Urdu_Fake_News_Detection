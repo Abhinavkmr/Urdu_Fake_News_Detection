{
  "nbformat": 4,
  "nbformat_minor": 0,
  "metadata": {
    "colab": {
      "name": "Ensemble_Learning_Urdu.ipynb",
      "provenance": [],
      "collapsed_sections": []
    },
    "kernelspec": {
      "name": "python3",
      "display_name": "Python 3"
    },
    "accelerator": "GPU"
  },
  "cells": [
    {
      "cell_type": "code",
      "metadata": {
        "colab": {
          "base_uri": "https://localhost:8080/"
        },
        "id": "Wef2-9_QrEhk",
        "outputId": "8d56ceb3-19b4-42e0-a041-b36f8bc2d48d"
      },
      "source": [
        "from google.colab import drive\n",
        "drive.mount('/content/drive')"
      ],
      "execution_count": null,
      "outputs": [
        {
          "output_type": "stream",
          "name": "stdout",
          "text": [
            "Mounted at /content/drive\n"
          ]
        }
      ]
    },
    {
      "cell_type": "code",
      "metadata": {
        "id": "dt-7IjR_lGWE"
      },
      "source": [
        "import glob\n",
        "train_real = glob.glob(\"/content/drive/MyDrive/HASOC_2021/Urdu-Fake-news-detection-FIRE2021-main/Training Dataset@FIRE2021/Training Dataset@FIRE2021/Train/Real/*.txt\")\n",
        "train_fake = glob.glob(\"/content/drive/MyDrive/HASOC_2021/Urdu-Fake-news-detection-FIRE2021-main/Training Dataset@FIRE2021/Training Dataset@FIRE2021/Train/Fake/*.txt\")\n",
        "dev_real = glob.glob(\"/content/drive/MyDrive/HASOC_2021/Urdu-Fake-news-detection-FIRE2021-main/Training Dataset@FIRE2021/Training Dataset@FIRE2021/Test/Real/*.txt\")\n",
        "dev_fake = glob.glob(\"/content/drive/MyDrive/HASOC_2021/Urdu-Fake-news-detection-FIRE2021-main/Training Dataset@FIRE2021/Training Dataset@FIRE2021/Test/Fake/*.txt\")\n",
        "\n",
        "test_data = glob.glob(\"/content/drive/MyDrive/HASOC_2021/Urdu-Fake-news-detection-FIRE2021-main/Test Dataset @ FIRE 2021/Test Dataset/*.txt\")\n"
      ],
      "execution_count": null,
      "outputs": []
    },
    {
      "cell_type": "code",
      "metadata": {
        "id": "I2xBxCsvlaLe",
        "colab": {
          "base_uri": "https://localhost:8080/"
        },
        "outputId": "353feac6-b7a0-4ae9-a930-fccb56ea07fc"
      },
      "source": [
        "print(len(train_real), len(train_fake), len(dev_real), len(dev_fake), len(test_data))"
      ],
      "execution_count": null,
      "outputs": [
        {
          "output_type": "stream",
          "name": "stdout",
          "text": [
            "600 438 150 112 300\n"
          ]
        }
      ]
    },
    {
      "cell_type": "code",
      "metadata": {
        "id": "LUG6JAyzld33",
        "colab": {
          "base_uri": "https://localhost:8080/",
          "height": 206
        },
        "outputId": "889a9d8b-e155-4f3a-eb5a-0198074a9e27"
      },
      "source": [
        "train_real_list = []\n",
        "for i in train_real:\n",
        "    f = open(i, encoding='utf-8')\n",
        "    abc = f.read()\n",
        "    train_real_list.append(abc)\n",
        "\n",
        "import pandas as pd\n",
        "df_train_real  = pd.DataFrame({'text':train_real_list})\n",
        "df_train_real['label'] = 'R'\n",
        "\n",
        "import os\n",
        "train_real_file_name = []\n",
        "for i in range(0, len(train_real)):\n",
        "    basefilename = os.path.basename(train_real[i])\n",
        "    #print(basefilename)\n",
        "    file_name = os.path.splitext(basefilename)[0]\n",
        "    train_real_file_name.append(file_name)\n",
        "\n",
        "df_train_real['file number'] = train_real_file_name\n",
        "df_train_real.head()"
      ],
      "execution_count": null,
      "outputs": [
        {
          "output_type": "execute_result",
          "data": {
            "text/html": [
              "<div>\n",
              "<style scoped>\n",
              "    .dataframe tbody tr th:only-of-type {\n",
              "        vertical-align: middle;\n",
              "    }\n",
              "\n",
              "    .dataframe tbody tr th {\n",
              "        vertical-align: top;\n",
              "    }\n",
              "\n",
              "    .dataframe thead th {\n",
              "        text-align: right;\n",
              "    }\n",
              "</style>\n",
              "<table border=\"1\" class=\"dataframe\">\n",
              "  <thead>\n",
              "    <tr style=\"text-align: right;\">\n",
              "      <th></th>\n",
              "      <th>text</th>\n",
              "      <th>label</th>\n",
              "      <th>file number</th>\n",
              "    </tr>\n",
              "  </thead>\n",
              "  <tbody>\n",
              "    <tr>\n",
              "      <th>0</th>\n",
              "      <td>گوگل کا کہنا ہے کہ کروم براؤزر کا ورژن 71 صارف...</td>\n",
              "      <td>R</td>\n",
              "      <td>tch63</td>\n",
              "    </tr>\n",
              "    <tr>\n",
              "      <th>1</th>\n",
              "      <td>ایف آئی ایچ ورلڈ کپ میں کالنگ اسٹیڈیم پر فران...</td>\n",
              "      <td>R</td>\n",
              "      <td>sp68</td>\n",
              "    </tr>\n",
              "    <tr>\n",
              "      <th>2</th>\n",
              "      <td>امریکا نے روس پرایکسپورٹ سیکٹر اور سیکورٹی آل...</td>\n",
              "      <td>R</td>\n",
              "      <td>bs30</td>\n",
              "    </tr>\n",
              "    <tr>\n",
              "      <th>3</th>\n",
              "      <td>برکلے، کیلیفورنیا  انار وہ خوش ذائقہ اور خوبصو...</td>\n",
              "      <td>R</td>\n",
              "      <td>hlth19</td>\n",
              "    </tr>\n",
              "    <tr>\n",
              "      <th>4</th>\n",
              "      <td>سابق امریکی جمناسٹک کے ڈاکٹر لاری نصر کو نوجوا...</td>\n",
              "      <td>R</td>\n",
              "      <td>sp67</td>\n",
              "    </tr>\n",
              "  </tbody>\n",
              "</table>\n",
              "</div>"
            ],
            "text/plain": [
              "                                                text label file number\n",
              "0  گوگل کا کہنا ہے کہ کروم براؤزر کا ورژن 71 صارف...     R       tch63\n",
              "1  ایف آئی ایچ ورلڈ کپ میں کالنگ اسٹیڈیم پر فران...     R        sp68\n",
              "2  امریکا نے روس پرایکسپورٹ سیکٹر اور سیکورٹی آل...     R        bs30\n",
              "3  برکلے، کیلیفورنیا  انار وہ خوش ذائقہ اور خوبصو...     R      hlth19\n",
              "4  سابق امریکی جمناسٹک کے ڈاکٹر لاری نصر کو نوجوا...     R        sp67"
            ]
          },
          "metadata": {},
          "execution_count": 6
        }
      ]
    },
    {
      "cell_type": "code",
      "metadata": {
        "id": "IhsyKKQulhGa",
        "colab": {
          "base_uri": "https://localhost:8080/",
          "height": 206
        },
        "outputId": "2633036e-cece-40ec-b64e-cb9ea144eba7"
      },
      "source": [
        "train_fake_list = []\n",
        "for i in train_fake:\n",
        "    f = open(i, encoding='utf-8')\n",
        "    abc = f.read()\n",
        "    train_fake_list.append(abc)\n",
        "\n",
        "import pandas as pd\n",
        "df_train_fake  = pd.DataFrame({'text':train_fake_list})\n",
        "df_train_fake['label'] = 'F'\n",
        "\n",
        "import os\n",
        "train_fake_file_name = []\n",
        "for i in range(0, len(train_fake)):\n",
        "    basefilename = os.path.basename(train_fake[i])\n",
        "    #print(basefilename)\n",
        "    file_name = os.path.splitext(basefilename)[0]\n",
        "    train_fake_file_name.append(file_name)\n",
        "\n",
        "df_train_fake['file number'] = train_fake_file_name\n",
        "df_train_fake.head()"
      ],
      "execution_count": null,
      "outputs": [
        {
          "output_type": "execute_result",
          "data": {
            "text/html": [
              "<div>\n",
              "<style scoped>\n",
              "    .dataframe tbody tr th:only-of-type {\n",
              "        vertical-align: middle;\n",
              "    }\n",
              "\n",
              "    .dataframe tbody tr th {\n",
              "        vertical-align: top;\n",
              "    }\n",
              "\n",
              "    .dataframe thead th {\n",
              "        text-align: right;\n",
              "    }\n",
              "</style>\n",
              "<table border=\"1\" class=\"dataframe\">\n",
              "  <thead>\n",
              "    <tr style=\"text-align: right;\">\n",
              "      <th></th>\n",
              "      <th>text</th>\n",
              "      <th>label</th>\n",
              "      <th>file number</th>\n",
              "    </tr>\n",
              "  </thead>\n",
              "  <tbody>\n",
              "    <tr>\n",
              "      <th>0</th>\n",
              "      <td>﻿بنیادی حقائق\\n\\nعلم نجوم میں دائرۃ البروج کے1...</td>\n",
              "      <td>F</td>\n",
              "      <td>sbz57</td>\n",
              "    </tr>\n",
              "    <tr>\n",
              "      <th>1</th>\n",
              "      <td>لاہور بڑھتی ہوئی آبادی ایک بہت بڑا مسلہ ہے اس ...</td>\n",
              "      <td>F</td>\n",
              "      <td>hlth9</td>\n",
              "    </tr>\n",
              "    <tr>\n",
              "      <th>2</th>\n",
              "      <td>نظر اتارنے کے لیے کالا ٹیکا لگاتی ہوں ایک دوسر...</td>\n",
              "      <td>F</td>\n",
              "      <td>sbz13</td>\n",
              "    </tr>\n",
              "    <tr>\n",
              "      <th>3</th>\n",
              "      <td>نوجوان محبوب نے اپنی روسی محبوبہ کو علاج کے لی...</td>\n",
              "      <td>F</td>\n",
              "      <td>hlth45</td>\n",
              "    </tr>\n",
              "    <tr>\n",
              "      <th>4</th>\n",
              "      <td>\\n\\nکراچی (کامرس رپورٹر) اوریکل نے مالی سال 20...</td>\n",
              "      <td>F</td>\n",
              "      <td>bs44</td>\n",
              "    </tr>\n",
              "  </tbody>\n",
              "</table>\n",
              "</div>"
            ],
            "text/plain": [
              "                                                text label file number\n",
              "0  ﻿بنیادی حقائق\\n\\nعلم نجوم میں دائرۃ البروج کے1...     F       sbz57\n",
              "1  لاہور بڑھتی ہوئی آبادی ایک بہت بڑا مسلہ ہے اس ...     F       hlth9\n",
              "2  نظر اتارنے کے لیے کالا ٹیکا لگاتی ہوں ایک دوسر...     F       sbz13\n",
              "3  نوجوان محبوب نے اپنی روسی محبوبہ کو علاج کے لی...     F      hlth45\n",
              "4  \\n\\nکراچی (کامرس رپورٹر) اوریکل نے مالی سال 20...     F        bs44"
            ]
          },
          "metadata": {},
          "execution_count": 7
        }
      ]
    },
    {
      "cell_type": "code",
      "metadata": {
        "id": "fgWp8IoKljxp",
        "colab": {
          "base_uri": "https://localhost:8080/",
          "height": 206
        },
        "outputId": "10048e9b-52f1-47df-8817-b12ab6f69a47"
      },
      "source": [
        "dev_real_list = []\n",
        "for i in dev_real:\n",
        "    f = open(i, encoding='utf-8')\n",
        "    abc = f.read()\n",
        "    dev_real_list.append(abc)\n",
        "\n",
        "import pandas as pd\n",
        "df_dev_real  = pd.DataFrame({'text':dev_real_list})\n",
        "df_dev_real['label'] = 'R'\n",
        "\n",
        "import os\n",
        "dev_real_file_name = []\n",
        "for i in range(0, len(dev_real)):\n",
        "    basefilename = os.path.basename(dev_real[i])\n",
        "    #print(basefilename)\n",
        "    file_name = os.path.splitext(basefilename)[0]\n",
        "    dev_real_file_name.append(file_name)\n",
        "\n",
        "df_dev_real['file number'] = dev_real_file_name\n",
        "df_dev_real.head()"
      ],
      "execution_count": null,
      "outputs": [
        {
          "output_type": "execute_result",
          "data": {
            "text/html": [
              "<div>\n",
              "<style scoped>\n",
              "    .dataframe tbody tr th:only-of-type {\n",
              "        vertical-align: middle;\n",
              "    }\n",
              "\n",
              "    .dataframe tbody tr th {\n",
              "        vertical-align: top;\n",
              "    }\n",
              "\n",
              "    .dataframe thead th {\n",
              "        text-align: right;\n",
              "    }\n",
              "</style>\n",
              "<table border=\"1\" class=\"dataframe\">\n",
              "  <thead>\n",
              "    <tr style=\"text-align: right;\">\n",
              "      <th></th>\n",
              "      <th>text</th>\n",
              "      <th>label</th>\n",
              "      <th>file number</th>\n",
              "    </tr>\n",
              "  </thead>\n",
              "  <tbody>\n",
              "    <tr>\n",
              "      <th>0</th>\n",
              "      <td>cnnurdu نے Friday، 18 May 2018 کو شائع کیا.\\n\\...</td>\n",
              "      <td>R</td>\n",
              "      <td>sbz92</td>\n",
              "    </tr>\n",
              "    <tr>\n",
              "      <th>1</th>\n",
              "      <td>کہتے ہیں اگرخود پریقین ہوتو انسان ہمالیہ بھی س...</td>\n",
              "      <td>R</td>\n",
              "      <td>sp81</td>\n",
              "    </tr>\n",
              "    <tr>\n",
              "      <th>2</th>\n",
              "      <td>بچپن بے شک زندگی کا سب سے خوبصورت حصہ ہے کیونک...</td>\n",
              "      <td>R</td>\n",
              "      <td>sbz100</td>\n",
              "    </tr>\n",
              "    <tr>\n",
              "      <th>3</th>\n",
              "      <td>معروف کھلاڑی سنتھ جے سوریا سمگلنگ کرتے پکڑے گئ...</td>\n",
              "      <td>R</td>\n",
              "      <td>sp99</td>\n",
              "    </tr>\n",
              "    <tr>\n",
              "      <th>4</th>\n",
              "      <td>2 مئی کو دنیا بھر میں ورلڈ ٹونا ڈے کے طورپر من...</td>\n",
              "      <td>R</td>\n",
              "      <td>hlth80</td>\n",
              "    </tr>\n",
              "  </tbody>\n",
              "</table>\n",
              "</div>"
            ],
            "text/plain": [
              "                                                text label file number\n",
              "0  cnnurdu نے Friday، 18 May 2018 کو شائع کیا.\\n\\...     R       sbz92\n",
              "1  کہتے ہیں اگرخود پریقین ہوتو انسان ہمالیہ بھی س...     R        sp81\n",
              "2  بچپن بے شک زندگی کا سب سے خوبصورت حصہ ہے کیونک...     R      sbz100\n",
              "3  معروف کھلاڑی سنتھ جے سوریا سمگلنگ کرتے پکڑے گئ...     R        sp99\n",
              "4  2 مئی کو دنیا بھر میں ورلڈ ٹونا ڈے کے طورپر من...     R      hlth80"
            ]
          },
          "metadata": {},
          "execution_count": 8
        }
      ]
    },
    {
      "cell_type": "code",
      "metadata": {
        "id": "PwlfwfxQlmou",
        "colab": {
          "base_uri": "https://localhost:8080/",
          "height": 206
        },
        "outputId": "eee931b3-cf05-4169-a876-fcece49ec831"
      },
      "source": [
        "dev_fake_list = []\n",
        "for i in dev_fake:\n",
        "    f = open(i, encoding='utf-8')\n",
        "    abc = f.read()\n",
        "    dev_fake_list.append(abc)\n",
        "\n",
        "import pandas as pd\n",
        "df_dev_fake  = pd.DataFrame({'text':dev_fake_list})\n",
        "df_dev_fake['label'] = 'F'\n",
        "\n",
        "import os\n",
        "dev_fake_file_name = []\n",
        "for i in range(0, len(dev_fake)):\n",
        "    basefilename = os.path.basename(dev_fake[i])\n",
        "    #print(basefilename)\n",
        "    file_name = os.path.splitext(basefilename)[0]\n",
        "    dev_fake_file_name.append(file_name)\n",
        "\n",
        "df_dev_fake['file number'] = dev_fake_file_name\n",
        "df_dev_fake.head()"
      ],
      "execution_count": null,
      "outputs": [
        {
          "output_type": "execute_result",
          "data": {
            "text/html": [
              "<div>\n",
              "<style scoped>\n",
              "    .dataframe tbody tr th:only-of-type {\n",
              "        vertical-align: middle;\n",
              "    }\n",
              "\n",
              "    .dataframe tbody tr th {\n",
              "        vertical-align: top;\n",
              "    }\n",
              "\n",
              "    .dataframe thead th {\n",
              "        text-align: right;\n",
              "    }\n",
              "</style>\n",
              "<table border=\"1\" class=\"dataframe\">\n",
              "  <thead>\n",
              "    <tr style=\"text-align: right;\">\n",
              "      <th></th>\n",
              "      <th>text</th>\n",
              "      <th>label</th>\n",
              "      <th>file number</th>\n",
              "    </tr>\n",
              "  </thead>\n",
              "  <tbody>\n",
              "    <tr>\n",
              "      <th>0</th>\n",
              "      <td>بوسٹن بہت سی دل سمیت کامیاب جینیاتی بیماریوں ...</td>\n",
              "      <td>F</td>\n",
              "      <td>hlth90</td>\n",
              "    </tr>\n",
              "    <tr>\n",
              "      <th>1</th>\n",
              "      <td>جرنل آف فیزیئولوجی میں شائع ہونے والی اس تحقیق...</td>\n",
              "      <td>F</td>\n",
              "      <td>hlth81</td>\n",
              "    </tr>\n",
              "    <tr>\n",
              "      <th>2</th>\n",
              "      <td>کراچی پیڈیاٹرک کنجینیٹیل ہارٹ ڈیزیز (پیدائشی ...</td>\n",
              "      <td>F</td>\n",
              "      <td>hlth79</td>\n",
              "    </tr>\n",
              "    <tr>\n",
              "      <th>3</th>\n",
              "      <td>\\nاسلام آباد (اُردو پوائنٹ اخبارتازہ ترین 05 ...</td>\n",
              "      <td>F</td>\n",
              "      <td>bus86</td>\n",
              "    </tr>\n",
              "    <tr>\n",
              "      <th>4</th>\n",
              "      <td>﻿ٹی وی اداکار اور قلمدان عامر لیاقت حسین اور ا...</td>\n",
              "      <td>F</td>\n",
              "      <td>sbz75</td>\n",
              "    </tr>\n",
              "  </tbody>\n",
              "</table>\n",
              "</div>"
            ],
            "text/plain": [
              "                                                text label file number\n",
              "0   بوسٹن بہت سی دل سمیت کامیاب جینیاتی بیماریوں ...     F      hlth90\n",
              "1  جرنل آف فیزیئولوجی میں شائع ہونے والی اس تحقیق...     F      hlth81\n",
              "2   کراچی پیڈیاٹرک کنجینیٹیل ہارٹ ڈیزیز (پیدائشی ...     F      hlth79\n",
              "3  \\nاسلام آباد (اُردو پوائنٹ اخبارتازہ ترین 05 ...     F       bus86\n",
              "4  ﻿ٹی وی اداکار اور قلمدان عامر لیاقت حسین اور ا...     F       sbz75"
            ]
          },
          "metadata": {},
          "execution_count": 9
        }
      ]
    },
    {
      "cell_type": "code",
      "metadata": {
        "id": "cYTFD3Fklnjm",
        "colab": {
          "base_uri": "https://localhost:8080/",
          "height": 206
        },
        "outputId": "986a7f12-e837-49a3-8628-77d479680bfb"
      },
      "source": [
        "test_list = []\n",
        "for i in test_data:\n",
        "    f = open(i, encoding='utf-8')\n",
        "    abc = f.read()\n",
        "    test_list.append(abc)\n",
        "\n",
        "import pandas as pd\n",
        "df_test  = pd.DataFrame({'text':test_list})\n",
        "\n",
        "import os\n",
        "test_file_name = []\n",
        "for i in range(0, len(test_data)):\n",
        "    basefilename = os.path.basename(test_data[i])\n",
        "    #print(basefilename)\n",
        "    file_name = os.path.splitext(basefilename)[0]\n",
        "    test_file_name.append(file_name)\n",
        "\n",
        "df_test['file number'] = test_file_name\n",
        "df_test.head()"
      ],
      "execution_count": null,
      "outputs": [
        {
          "output_type": "execute_result",
          "data": {
            "text/html": [
              "<div>\n",
              "<style scoped>\n",
              "    .dataframe tbody tr th:only-of-type {\n",
              "        vertical-align: middle;\n",
              "    }\n",
              "\n",
              "    .dataframe tbody tr th {\n",
              "        vertical-align: top;\n",
              "    }\n",
              "\n",
              "    .dataframe thead th {\n",
              "        text-align: right;\n",
              "    }\n",
              "</style>\n",
              "<table border=\"1\" class=\"dataframe\">\n",
              "  <thead>\n",
              "    <tr style=\"text-align: right;\">\n",
              "      <th></th>\n",
              "      <th>text</th>\n",
              "      <th>file number</th>\n",
              "    </tr>\n",
              "  </thead>\n",
              "  <tbody>\n",
              "    <tr>\n",
              "      <th>0</th>\n",
              "      <td>موٹرولا کی 3 میٹر دوری سے فون چارج کرنے والی ن...</td>\n",
              "      <td>106</td>\n",
              "    </tr>\n",
              "    <tr>\n",
              "      <th>1</th>\n",
              "      <td>ٹک ٹاک نے ایک اور بڑا سنگ میل طے کرلیاٹک ٹاک ک...</td>\n",
              "      <td>227</td>\n",
              "    </tr>\n",
              "    <tr>\n",
              "      <th>2</th>\n",
              "      <td>جرمن حکومت کا وہ منصوبہ جو اسمارٹ فونز صنعت کو...</td>\n",
              "      <td>49</td>\n",
              "    </tr>\n",
              "    <tr>\n",
              "      <th>3</th>\n",
              "      <td>گیمنگ کے لیے شوقین افراد کیلئے طاقتور ترین اسم...</td>\n",
              "      <td>206</td>\n",
              "    </tr>\n",
              "    <tr>\n",
              "      <th>4</th>\n",
              "      <td>سام سنگ کی دنگ کردینے والی منفرد ڈیوائسسام سنگ...</td>\n",
              "      <td>18</td>\n",
              "    </tr>\n",
              "  </tbody>\n",
              "</table>\n",
              "</div>"
            ],
            "text/plain": [
              "                                                text file number\n",
              "0  موٹرولا کی 3 میٹر دوری سے فون چارج کرنے والی ن...         106\n",
              "1  ٹک ٹاک نے ایک اور بڑا سنگ میل طے کرلیاٹک ٹاک ک...         227\n",
              "2  جرمن حکومت کا وہ منصوبہ جو اسمارٹ فونز صنعت کو...          49\n",
              "3  گیمنگ کے لیے شوقین افراد کیلئے طاقتور ترین اسم...         206\n",
              "4  سام سنگ کی دنگ کردینے والی منفرد ڈیوائسسام سنگ...          18"
            ]
          },
          "metadata": {},
          "execution_count": 10
        }
      ]
    },
    {
      "cell_type": "code",
      "metadata": {
        "id": "HXI2WJ93lnm1"
      },
      "source": [
        "Training_text_combined  = pd.concat([df_train_real, df_train_fake], ignore_index=True)\n",
        "dev_text_combined  = pd.concat([df_dev_real, df_dev_fake], ignore_index=True)"
      ],
      "execution_count": null,
      "outputs": []
    },
    {
      "cell_type": "code",
      "metadata": {
        "id": "qSGDkyjRltqE"
      },
      "source": [
        "text_train = Training_text_combined['text']\n",
        "class_label_train = Training_text_combined['label']\n",
        "\n",
        "text_dev = dev_text_combined['text']\n",
        "class_label_dev = dev_text_combined['label']\n",
        "\n",
        "text_test = df_test['text']"
      ],
      "execution_count": null,
      "outputs": []
    },
    {
      "cell_type": "code",
      "metadata": {
        "id": "83oQnY8ultvE",
        "colab": {
          "base_uri": "https://localhost:8080/"
        },
        "outputId": "912d2609-38a0-41bf-ce36-0db4df4997a2"
      },
      "source": [
        "from sklearn import preprocessing\n",
        "import numpy as np\n",
        "from keras.utils.np_utils import to_categorical\n",
        "\n",
        "le = preprocessing.LabelEncoder()\n",
        "le.fit(class_label_train)\n",
        "print(le.classes_)\n",
        "y_train_index = le.transform(class_label_train)\n",
        "#le.inverse_transform(y_train_index)\n",
        "y_dev_index = le.transform(class_label_dev)\n",
        "#y_test_index = le.transform(class_label_test)\n",
        "\n",
        "label_train = to_categorical(np.asarray(y_train_index))\n",
        "label_dev = to_categorical(np.asarray(y_dev_index))"
      ],
      "execution_count": null,
      "outputs": [
        {
          "output_type": "stream",
          "name": "stdout",
          "text": [
            "['F' 'R']\n"
          ]
        }
      ]
    },
    {
      "cell_type": "code",
      "metadata": {
        "id": "gvV_QsWdltnl",
        "colab": {
          "base_uri": "https://localhost:8080/"
        },
        "outputId": "b257576c-fdec-4063-c89a-0cef4a370936"
      },
      "source": [
        "from sklearn.feature_extraction.text import TfidfVectorizer\n",
        "tfidf_vect_c = TfidfVectorizer(ngram_range=(1,3), max_features=30000, analyzer='char_wb')\n",
        "#tfidf_vect = TfidfVectorizer(ngram_range=(1,3),max_features= 30000, analyzer='word')\n",
        "#max_features= 10000\n",
        "#analyzer='char_wb'\n",
        "x_train_c = tfidf_vect_c.fit_transform(text_train).toarray()\n",
        "x_dev_c = tfidf_vect_c.transform(text_dev).toarray()\n",
        "x_test_sub = tfidf_vect_c.transform(text_test).toarray()\n",
        "print(tfidf_vect_c.get_feature_names())\n",
        "print(x_train_c.shape, x_dev_c.shape, x_test_sub.shape)"
      ],
      "execution_count": null,
      "outputs": [
        {
          "output_type": "stream",
          "name": "stdout",
          "text": [
            "[' ', ' !', ' !!', ' \"', ' \" ', ' \"w', ' \"آ', ' \"ا', ' \"ب', ' \"ج', ' \"د', ' \"س', ' \"ص', ' \"ط', ' \"غ', ' \"ف', ' \"م', ' \"ن', ' \"و', ' \"ہ', ' \"ی', ' #', ' #i', ' #j', ' #t', ' #w', ' %', ' %4', ' &', ' & ', \" '\", \" ' \", \" '1\", \" '2\", \" 'آ\", \" 'ا\", \" 'ب\", \" 'ت\", \" 'ج\", \" 'ح\", \" 'د\", \" 'ر\", \" 'ز\", \" 'س\", \" 'ش\", \" 'ص\", \" 'ط\", \" 'ظ\", \" 'ف\", \" 'ق\", \" 'ل\", \" 'م\", \" 'ن\", \" 'و\", \" 'ٹ\", \" 'پ\", \" 'چ\", \" 'ڈ\", \" 'ک\", \" 'گ\", \" 'ہ\", \" 'ی\", ' (', ' ( ', ' ($', ' ((', ' (0', ' (1', ' (2', ' (3', ' (4', ' (5', ' (7', ' (8', ' (@', ' (a', ' (b', ' (c', ' (e', ' (f', ' (h', ' (i', ' (m', ' (p', ' (r', ' (s', ' (t', ' (آ', ' (ا', ' (ب', ' (ت', ' (ج', ' (خ', ' (د', ' (ر', ' (ز', ' (س', ' (ش', ' (ص', ' (ع', ' (ف', ' (ل', ' (م', ' (ن', ' (و', ' (پ', ' (ڈ', ' (ک', ' (گ', ' (ہ', ' (ی', ' )', ' ) ', ' )آ', ' )ا', ' )د', ' )ر', ' )ش', ' )پ', ' )چ', ' )ک', ' ,', ' , ', ' ,6', ' ,ا', ' -', ' - ', ' --', ' -ا', ' .', ' . ', ' ..', ' .2', ' .ا', ' /', ' / ', ' /5', ' /ڈ', ' 0', ' 0 ', ' 0-', ' 0.', ' 04', ' 05', ' 06', ' 07', ' 08', ' 0۔', ' 1', ' 1 ', ' 1-', ' 1.', ' 1/', ' 10', ' 11', ' 12', ' 13', ' 14', ' 15', ' 16', ' 17', ' 18', ' 19', ' 1x', ' 1،', ' 1ا', ' 1ر', ' 1ل', ' 1ہ', ' 1۔', ' 1‘', ' 2', ' 2 ', ' 2(', ' 2,', ' 2-', ' 2.', ' 20', ' 21', ' 22', ' 23', ' 24', ' 25', ' 26', ' 27', ' 28', ' 29', ' 2d', ' 2x', ' 2،', ' 2ا', ' 2ج', ' 2س', ' 2ل', ' 2م', ' 2ک', ' 2گ', ' 2۔', ' 3', ' 3 ', ' 3-', ' 3.', ' 30', ' 31', ' 32', ' 33', ' 34', ' 35', ' 36', ' 37', ' 38', ' 39', ' 3d', ' 3x', ' 3،', ' 3ا', ' 3ب', ' 3ج', ' 3س', ' 3ف', ' 3م', ' 3ڈ', ' 3ک', ' 3ہ', ' 3۔', ' 4', ' 4 ', ' 4,', ' 4-', ' 4.', ' 4/', ' 40', ' 41', ' 42', ' 43', ' 44', ' 45', ' 46', ' 47', ' 48', ' 49', ' 4:', ' 4d', ' 4g', ' 4k', ' 4،', ' 4س', ' 4ک', ' 4گ', ' 4۔', ' 5', ' 5 ', ' 5-', ' 5.', ' 50', ' 51', ' 52', ' 53', ' 54', ' 55', ' 56', ' 57', ' 58', ' 59', ' 5g', ' 5،', ' 5ج', ' 5س', ' 5م', ' 5و', ' 5گ', ' 5ہ', ' 5۔', ' 6', ' 6 ', ' 6-', ' 6.', ' 60', ' 61', ' 62', ' 63', ' 64', ' 65', ' 66', ' 67', ' 68', ' 69', ' 6e', ' 6g', ' 6ا', ' 6س', ' 6م', ' 6ک', ' 6۔', ' 7', ' 7 ', ' 7(', ' 7)', ' 7-', ' 7.', ' 70', ' 71', ' 72', ' 73', ' 74', ' 75', ' 76', ' 77', ' 78', ' 79', ' 7،', ' 7ر', ' 7م', ' 7پ', ' 7ہ', ' 7۔', ' 8', ' 8 ', ' 8.', ' 80', ' 81', ' 82', ' 83', ' 84', ' 85', ' 86', ' 87', ' 88', ' 89', ' 8g', ' 8k', ' 8،', ' 8آ', ' 8ا', ' 8ب', ' 8م', ' 8و', ' 8پ', ' 8۔', ' 9', ' 9 ', ' 9(', ' 9.', ' 90', ' 91', ' 92', ' 93', ' 94', ' 95', ' 96', ' 97', ' 98', ' 99', ' 9e', ' 9م', ' 9ک', ' 9۔', ' :', ' : ', ' :ا', ' :م', ' :ی', ' :۲', ' @', ' @a', ' [', ' [ا', ' a', ' a ', ' a7', ' ab', ' ad', ' af', ' ak', ' am', ' an', ' ap', ' ar', ' as', ' a،', ' aج', ' aس', ' aہ', ' aی', ' b', ' b6', ' bc', ' bg', ' bh', ' br', ' bu', ' c', ' c ', ' ca', ' cc', ' ce', ' cf', ' ci', ' cl', ' cm', ' cn', ' co', ' cu', ' c،', ' cا', ' cک', ' d', ' de', ' di', ' do', ' dr', ' dt', ' du', ' e', ' ed', ' en', ' eo', ' ep', ' ex', ' eا', ' eب', ' f', ' f/', ' f1', ' f2', ' f4', ' fa', ' fe', ' fl', ' fr', ' g', ' g ', ' g5', ' ga', ' ge', ' gp', ' h', ' h.', ' ha', ' hd', ' hi', ' hl', ' ho', ' i', ' ii', ' im', ' in', ' is', ' j', ' ja', ' jo', ' ju', ' k', ' ki', ' kم', ' l', ' l ', ' la', ' le', ' li', ' lo', ' lp', ' lu', ' m', ' m&', ' ma', ' me', ' mf', ' mi', ' mo', ' mu', ' my', ' n', ' na', ' ne', ' no', ' nu', ' o', ' of', ' oi', ' ox', ' p', ' pa', ' pe', ' ph', ' pi', ' po', ' pq', ' pr', ' pt', ' r', ' r)', ' r5', ' r6', ' ra', ' re', ' rf', ' ri', ' ro', ' s', ' s5', ' s8', ' sc', ' sd', ' se', ' so', ' sp', ' st', ' su', ' sy', ' t', ' t2', ' ta', ' te', ' th', ' to', ' u', ' uh', ' ui', ' up', ' us', ' uv', ' v', ' ve', ' vi', ' vs', ' w', ' w ', ' wa', ' we', ' wf', ' wh', ' wi', ' wo', ' x', ' x ', ' xb', ' y', ' ya', ' z', ' z1', ' ze', ' zt', ' ،', ' ، ', ' ،1', ' ،2', ' ،آ', ' ،ا', ' ،ب', ' ،ت', ' ،ج', ' ،ح', ' ،خ', ' ،د', ' ،ذ', ' ،ر', ' ،س', ' ،ش', ' ،ص', ' ،ع', ' ،ف', ' ،ق', ' ،ل', ' ،م', ' ،ن', ' ،و', ' ،ٹ', ' ،پ', ' ،چ', ' ،ڈ', ' ،ک', ' ،گ', ' ،ہ', ' ،ی', ' ؟', ' ؟ ', ' ء', ' ء ', ' ء)', ' ءم', ' ءک', ' آ', ' آ ', ' آؤ', ' آئ', ' آب', ' آت', ' آث', ' آج', ' آح', ' آخ', ' آد', ' آذ', ' آر', ' آز', ' آس', ' آش', ' آص', ' آط', ' آع', ' آغ', ' آف', ' آق', ' آل', ' آم', ' آن', ' آو', ' آي', ' آٹ', ' آپ', ' آچ', ' آڈ', ' آڑ', ' آک', ' آگ', ' آہ', ' آی', ' آۓ', ' ؤ', ' ؤ ', ' ئ', ' ئد', ' ئل', ' ئم', ' ئو', ' ئی', ' ئے', ' ا', ' ا ', ' ا?', ' ا،', ' اؤ', ' ائ', ' اا', ' اب', ' ات', ' اث', ' اج', ' اح', ' اخ', ' اد', ' اذ', ' ار', ' از', ' اس', ' اش', ' اص', ' اض', ' اط', ' اظ', ' اع', ' اغ', ' اف', ' اق', ' ال', ' ام', ' ان', ' او', ' اي', ' اَ', ' اُ', ' اِ', ' اْ', ' آ', ' اٴ', ' اٹ', ' اپ', ' اچ', ' اڈ', ' اڑ', ' اک', ' اگ', ' اں', ' اہ', ' ای', ' اے', ' ب', ' ب ', ' بآ', ' بئ', ' با', ' بب', ' بت', ' بج', ' بح', ' بخ', ' بد', ' بذ', ' بر', ' بز', ' بس', ' بش', ' بص', ' بط', ' بظ', ' بع', ' بغ', ' بق', ' بل', ' بم', ' بن', ' بو', ' بي', ' بُ', ' بِ', ' بٹ', ' بپ', ' بچ', ' بڑ', ' بک', ' بگ', ' بھ', ' بہ', ' بی', ' بے', ' ت', ' ت ', ' تئ', ' تا', ' تب', ' تج', ' تح', ' تخ', ' تد', ' تذ', ' تر', ' تز', ' تس', ' تش', ' تص', ' تض', ' تع', ' تف', ' تق', ' تل', ' تم', ' تن', ' تو', ' تي', ' تِ', ' تڑ', ' تک', ' تھ', ' تہ', ' تی', ' تے', ' ث', ' ثا', ' ثب', ' ثر', ' ثق', ' ثن', ' ج', ' جئ', ' جا', ' جب', ' جت', ' جج', ' جد', ' جذ', ' جر', ' جز', ' جس', ' جش', ' جع', ' جغ', ' جل', ' جم', ' جن', ' جو', ' جي', ' جُ', ' جِ', ' جٹ', ' جڑ', ' جک', ' جگ', ' جھ', ' جہ', ' جی', ' جے', ' ح', ' ح ', ' حآ', ' حا', ' حب', ' حت', ' حج', ' حد', ' حذ', ' حر', ' حز', ' حس', ' حش', ' حص', ' حض', ' حف', ' حق', ' حل', ' حم', ' حن', ' حو', ' حي', ' حُ', ' حِ', ' حٖ', ' حک', ' حی', ' خ', ' خآ', ' خؤ', ' خا', ' خب', ' خت', ' خد', ' خر', ' خز', ' خس', ' خش', ' خص', ' خط', ' خف', ' خل', ' خم', ' خن', ' خو', ' خي', ' خی', ' د', ' د ', ' د(', ' دئ', ' دا', ' دب', ' دت', ' دخ', ' در', ' دس', ' دش', ' دع', ' دف', ' دق', ' دل', ' دم', ' دن', ' دو', ' دي', ' دَ', ' دُ', ' دِ', ' دپ', ' دک', ' دگ', ' دھ', ' دہ', ' دی', ' دے', ' ذ', ' ذا', ' ذب', ' ذخ', ' ذر', ' ذم', ' ذو', ' ذي', ' ذک', ' ذہ', ' ذی', ' ر', ' ر ', ' ر)', ' رآ', ' رؤ', ' رئ', ' را', ' رب', ' رت', ' رج', ' رح', ' رخ', ' رد', ' رز', ' رس', ' رش', ' رض', ' رط', ' رع', ' رغ', ' رف', ' رق', ' رم', ' رن', ' رو', ' ري', ' رُ', ' رِ', ' رٹ', ' رپ', ' رچ', ' رڈ', ' رک', ' رگ', ' رھ', ' رہ', ' ری', ' رے', ' ز', ' ز ', ' زا', ' زب', ' زح', ' زخ', ' زد', ' زر', ' زل', ' زم', ' زن', ' زو', ' زي', ' زِ', ' زچ', ' زڈ', ' زک', ' زگ', ' زہ', ' زی', ' س', ' س ', ' سؤ', ' سا', ' سب', ' ست', ' سج', ' سح', ' سخ', ' سد', ' سر', ' سز', ' سس', ' سش', ' سط', ' سع', ' سف', ' سق', ' سل', ' سم', ' سن', ' سو', ' سي', ' سَ', ' سُ', ' سِ', ' سٹ', ' سپ', ' سچ', ' سڈ', ' سڑ', ' سک', ' سگ', ' سہ', ' سی', ' سے', ' ش', ' ش ', ' شئ', ' شا', ' شب', ' شت', ' شج', ' شخ', ' شد', ' شر', ' شس', ' شش', ' شع', ' شف', ' شق', ' شل', ' شم', ' شن', ' شو', ' شي', ' شٹ', ' شپ', ' شک', ' شگ', ' شھ', ' شہ', ' شی', ' شے', ' ص', ' ص ', ' صا', ' صب', ' صح', ' صد', ' صر', ' صع', ' صف', ' صل', ' صن', ' صو', ' صی', ' صے', ' ض', ' ض ', ' ضا', ' ضد', ' ضر', ' ضع', ' ضل', ' ضم', ' ضو', ' ضی', ' ط', ' طا', ' طب', ' طر', ' طع', ' طف', ' طل', ' طن', ' طو', ' طہ', ' طی', ' طے', ' ظ', ' ظا', ' ظر', ' ظف', ' ظل', ' ظہ', ' ع', ' عا', ' عب', ' عث', ' عج', ' عد', ' عذ', ' عر', ' عز', ' عس', ' عش', ' عص', ' عض', ' عط', ' عظ', ' عف', ' عق', ' عل', ' عم', ' عن', ' عو', ' عي', ' عک', ' عہ', ' عی', ' غ', ' غا', ' غد', ' غذ', ' غر', ' غز', ' غص', ' غط', ' غف', ' غل', ' غم', ' غن', ' غو', ' غي', ' غی', ' ف', ' ف ', ' فا', ' فب', ' فت', ' فج', ' فح', ' فخ', ' فر', ' فز', ' فش', ' فص', ' فض', ' فط', ' فع', ' فق', ' فل', ' فن', ' فو', ' في', ' فُ', ' فِ', ' فٹ', ' فچ', ' فک', ' فہ', ' فی', ' ق', ' ق ', ' قا', ' قب', ' قت', ' قح', ' قد', ' قر', ' قز', ' قس', ' قص', ' قط', ' قل', ' قم', ' قن', ' قو', ' قي', ' قُ', ' قہ', ' قی', ' قے', ' ك', ' كے', ' ل', ' ل ', ' لئ', ' لا', ' لب', ' لت', ' لح', ' لد', ' لذ', ' لر', ' لز', ' لس', ' لش', ' لط', ' لع', ' لف', ' لق', ' لل', ' لم', ' لن', ' لو', ' لي', ' لَ', ' لِ', ' لٹ', ' لپ', ' لچ', ' لڈ', ' لڑ', ' لک', ' لگ', ' لھ', ' لہ', ' لی', ' لے', ' م', ' م ', ' م4', ' مؤ', ' مئ', ' ما', ' مب', ' مت', ' مث', ' مج', ' مح', ' مخ', ' مد', ' مذ', ' مر', ' مز', ' مس', ' مش', ' مص', ' مض', ' مط', ' مظ', ' مع', ' مغ', ' مف', ' مق', ' مل', ' مم', ' من', ' مو', ' مي', ' مَ', ' مُ', ' مِ', ' مٰ', ' مٹ', ' مپ', ' مچ', ' مڈ', ' مڑ', ' مک', ' مگ', ' مں', ' مہ', ' می', ' مے', ' ن', ' ن ', ' نئ', ' نا', ' نب', ' نت', ' نث', ' نج', ' ند', ' نذ', ' نر', ' نز', ' نس', ' نش', ' نص', ' نظ', ' نع', ' نغ', ' نف', ' نق', ' نل', ' نم', ' نن', ' نو', ' ني', ' نِ', ' نٹ', ' نپ', ' نچ', ' نڈ', ' نژ', ' نک', ' نگ', ' نھ', ' نہ', ' نی', ' نے', ' و', ' و ', ' وئ', ' وا', ' وب', ' وت', ' وث', ' وج', ' وح', ' ود', ' ور', ' وز', ' وس', ' وش', ' وص', ' وض', ' وط', ' وظ', ' وع', ' وغ', ' وف', ' وق', ' ول', ' وم', ' ون', ' وو', ' وي', ' وِ', ' وٖ', ' وٴ', ' وٹ', ' وچ', ' وڈ', ' وژ', ' وک', ' وگ', ' وں', ' وھ', ' وہ', ' وی', ' وے', ' ي', ' يا', ' ين', ' يو', ' يک', ' يہ', ' ً', ' ً ', ' ًپ', ' ِ', ' ِ ', ' ِح', ' ِش', ' ٔ', ' ٔ ', ' ٔا', ' ٔح', ' ٖ', ' ٖض', ' ٖف', ' ٪', ' ٪ ', ' ٭', ' ٭ ', ' ٭م', ' ٭و', ' ٭پ', ' ٭ڈ', ' ٭ک', ' ٰ', ' ٰا', ' ٹ', ' ٹ ', ' ٹؤ', ' ٹا', ' ٹب', ' ٹح', ' ٹر', ' ٹس', ' ٹش', ' ٹغ', ' ٹف', ' ٹم', ' ٹن', ' ٹو', ' ٹي', ' ٹِ', ' ٹپ', ' ٹچ', ' ٹک', ' ٹھ', ' ٹی', ' ٹے', ' پ', ' پئ', ' پا', ' پب', ' پت', ' پث', ' پخ', ' پد', ' پذ', ' پر', ' پز', ' پس', ' پش', ' پف', ' پل', ' پم', ' پن', ' پو', ' پي', ' پُ', ' پِ', ' پْ', ' پٹ', ' پپ', ' پچ', ' پڈ', ' پڑ', ' پک', ' پگ', ' پھ', ' پہ', ' پی', ' پے', ' چ', ' چ ', ' چئ', ' چا', ' چب', ' چت', ' چر', ' چس', ' چش', ' چق', ' چل', ' چم', ' چن', ' چو', ' چي', ' چُ', ' چٹ', ' چپ', ' چڈ', ' چڑ', ' چک', ' چگ', ' چھ', ' چہ', ' چی', ' چے', ' ڈ', ' ڈ ', ' ڈآ', ' ڈا', ' ڈب', ' ڈر', ' ڈز', ' ڈس', ' ڈش', ' ڈف', ' ڈل', ' ڈم', ' ڈن', ' ڈو', ' ڈي', ' ڈٹ', ' ڈپ', ' ڈچ', ' ڈک', ' ڈگ', ' ڈھ', ' ڈی', ' ڈے', ' ڑ', ' ڑو', ' ڑی', ' ژ', ' ژا', ' ژن', ' ژی', ' ک', ' ک ', ' کئ', ' کا', ' کب', ' کت', ' کث', ' کج', ' کد', ' کر', ' کس', ' کش', ' کع', ' کف', ' کل', ' کم', ' کن', ' کو', ' کي', ' کُ', ' کِ', ' کٹ', ' کپ', ' کچ', ' کڈ', ' کڑ', ' کک', ' کگ', ' کھ', ' کہ', ' کی', ' کے', ' گ', ' گ ', ' گئ', ' گا', ' گت', ' گج', ' گد', ' گذ', ' گر', ' گز', ' گف', ' گل', ' گم', ' گن', ' گو', ' گي', ' گُ', ' گِ', ' گٹ', ' گپ', ' گچ', ' گڈ', ' گڑ', ' گھ', ' گہ', ' گی', ' گے', ' ں', ' ں ', ' ھ', ' ھا', ' ھد', ' ھل', ' ھم', ' ھو', ' ھي', ' ھی', ' ھے', ' ہ', ' ہ ', ' ہئ', ' ہا', ' ہب', ' ہت', ' ہج', ' ہد', ' ہر', ' ہز', ' ہس', ' ہش', ' ہض', ' ہع', ' ہف', ' ہل', ' ہم', ' ہن', ' ہو', ' ہي', ' ہُ', ' ہٹ', ' ہپ', ' ہچ', ' ہڈ', ' ہڑ', ' ہک', ' ہی', ' ہے', ' ی', ' ی ', ' یئ', ' یا', ' یب', ' یت', ' یح', ' ید', ' یر', ' یز', ' یس', ' یش', ' یع', ' یق', ' یل', ' یم', ' ین', ' یو', ' یٹ', ' یچ', ' یڈ', ' یک', ' یگ', ' یں', ' یہ', ' یی', ' یے', ' ے', ' ے ', ' ۔', ' ۔ ', ' ۔1', ' ۔2', ' ۔3', ' ۔5', ' ۔آ', ' ۔ا', ' ۔ب', ' ۔ت', ' ۔ج', ' ۔ح', ' ۔خ', ' ۔د', ' ۔ذ', ' ۔س', ' ۔ص', ' ۔ض', ' ۔ط', ' ۔ع', ' ۔غ', ' ۔ف', ' ۔ل', ' ۔م', ' ۔ن', ' ۔و', ' ۔ٹ', ' ۔پ', ' ۔چ', ' ۔ڈ', ' ۔ک', ' ۔گ', ' ۔ہ', ' ۔ی', ' ۔۔', ' ۱', ' ۱۔', ' ۱۰', ' ۱۱', ' ۲', ' ۲۔', ' ۳', ' ۳۔', ' ۴', ' ۴ ', ' ۵', ' ۵۔', ' ۶', ' ۶ ', ' ۷', ' ۷۔', ' ۸', ' ۸۔', ' ۹', ' ۹۔', ' \\u200b', ' \\u200b\\u200b', ' \\u200f', ' \\u200fا', ' \\u200fب', ' \\u200fو', ' —', ' — ', ' —ا', ' ‘', ' ‘ ', ' ‘g', ' ‘،', ' ‘ا', ' ‘ب', ' ‘خ', ' ‘د', ' ‘س', ' ‘ع', ' ‘ن', ' ‘پ', ' ‘ک', ' ‘۔', ' ‘‘', ' ’', ' ’ ', ' ’3', ' ’s', ' ’آ', ' ’ا', ' ’ب', ' ’ت', ' ’ج', ' ’ح', ' ’خ', ' ’د', ' ’ر', ' ’ز', ' ’س', ' ’ش', ' ’ص', ' ’ط', ' ’ع', ' ’ف', ' ’ق', ' ’ل', ' ’م', ' ’ن', ' ’و', ' ’ٹ', ' ’پ', ' ’چ', ' ’ڈ', ' ’ک', ' ’گ', ' ’ہ', ' ’ی', ' ’’', ' “', ' “ ', ' “ی', ' ”', ' ” ', ' ”ا', ' ”ب', ' ”س', ' ”ش', ' ”ص', ' ”ل', ' ”م', ' ”ن', ' ”ہ', ' ․', ' ․․', ' ﷺ', ' ﷺ ', ' \\ufeff', ' \\ufeff ', ' \\ufeffآ', ' \\ufeffا', ' \\ufeffب', ' \\ufeffج', ' \\ufeffز', ' \\ufeffس', ' \\ufeffل', ' \\ufeffم', ' \\ufeffن', ' \\ufeffو', ' \\ufeffٹ', ' \\ufeffپ', ' \\ufeffچ', ' \\ufeffڈ', ' \\ufeffک', ' \\ufeffگ', ' \\ufeffہ', ' \\ufeffی', ' 👍', ' 👍🏾', '!', '! ', '!!', '!! ', '!‘', '!‘ ', '\"', '\" ', '\"w', '\"wi', '\"،', '\"، ', '\"آ', '\"آئ', '\"ا', '\"ال', '\"اِ', '\"ای', '\"ب', '\"بو', '\"ج', '\"جگ', '\"د', '\"دی', '\"س', '\"سل', '\"ص', '\"صن', '\"ط', '\"طو', '\"غ', '\"غص', '\"غی', '\"ف', '\"فو', '\"م', '\"می', '\"ن', '\"نا', '\"و', '\"وی', '\"ک', '\"کا', '\"کے', '\"ہ', '\"ہو', '\"ہی', '\"ی', '\"یو', '\"یہ', '\"۔', '\"۔ ', '\"۔ج', '#', '#f', '#fi', '#i', '#in', '#j', '#ja', '#t', '#ta', '#w', '#wo', '$', '$)', '$) ', '%', '%4', '%42', '&', '& ', '&p', '&p ', '&p)', \"'\", \"' \", \"'!\", \"'! \", \"'1\", \"'13\", \"'2\", \"'20\", \"'،\", \"'، \", \"'آ\", \"'آئ\", \"'آپ\", \"'ا\", \"'اب\", \"'اس\", \"'ام\", \"'ان\", \"'او\", \"'اي\", \"'اگ\", \"'ای\", \"'اے\", \"'ب\", \"'با\", \"'بج\", \"'بر\", \"'بغ\", \"'بل\", \"'بِ\", \"'بڑ\", \"'بگ\", \"'بی\", \"'بے\", \"'ت\", \"'تج\", \"'تر\", \"'تھ\", \"'ج\", \"'جا\", \"'جب\", \"'جت\", \"'جن\", \"'جو\", \"'جی\", \"'ح\", \"'حک\", \"'حی\", \"'د\", \"'در\", \"'دس\", \"'دن\", \"'دو\", \"'دی\", \"'ر\", \"'را\", \"'رو\", \"'ری\", \"'ز\", \"'زن\", \"'زی\", \"'س\", \"'سا\", \"'سخ\", \"'سف\", \"'سل\", \"'سن\", \"'سُ\", \"'ش\", \"'شو\", \"'ص\", \"'صر\", \"'ط\", \"'طا\", \"'ظ\", \"'ظا\", \"'ف\", \"'فئ\", \"'فا\", \"'فی\", \"'ق\", \"'قا\", \"'قو\", \"'ل\", \"'لف\", \"'م\", \"'ما\", \"'مج\", \"'مذ\", \"'مو\", \"'می\", \"'ن\", \"'نا\", \"'نف\", \"'نی\", \"'و\", \"'وح\", \"'ور\", \"'وز\", \"'وط\", \"'ون\", \"'وہ\", \"'وی\", \"'ٹ\", \"'ٹو\", \"'ٹک\", \"'ٹی\", \"'پ\", \"'پا\", \"'پب\", \"'پت\", \"'پو\", \"'پی\", \"'چ\", \"'چی\", \"'ڈ\", \"'ڈر\", \"'ڈز\", \"'ڈی\", \"'ک\", \"'کر\", \"'کل\", \"'کم\", \"'کو\", \"'کک\", \"'کی\", \"'گ\", \"'گا\", \"'گذ\", \"'گز\", \"'گو\", \"'گی\", \"'ہ\", \"'ہا\", \"'ہم\", \"'ہی\", \"'ی\", \"'یق\", \"'یو\", \"'یہ\", \"'۔\", \"'۔ \", \"'۔س\", '(', '( ', '($', '($)', '((', '((a', '((h', '((n', '((r', '(0', '(0.', '(1', '(1.', '(10', '(11', '(12', '(14', '(16', '(17', '(2', '(20', '(22', '(25', '(27', '(28', '(3', '(3 ', '(30', '(34', '(3d', '(4', '(4 ', '(41', '(43', '(5', '(5 ', '(55', '(7', '(7-', '(7/', '(72', '(73', '(74', '(76', '(77', '(79', '(7ہ', '(8', '(8/', '(80', '(81', '(@', '(@a', '(a', '(ab', '(ad', '(al', '(au', '(b', '(br', '(bu', '(c', '(co', '(e', '(el', '(eo', '(f', '(fo', '(fu', '(h', '(hi', '(i', '(id', '(in', '(ir', '(is', '(l', '(le', '(m', '(ma', '(me', '(mo', '(n', '(ne', '(ny', '(p', '(p9', '(pa', '(ps', '(q', '(qu', '(r', '(ra', '(re', '(s', '(sa', '(sc', '(si', '(sl', '(st', '(t', '(th', '(w', '(wh', '(£', '(£)', '(آ', '(آئ', '(آر', '(آس', '(آٹ', '(آپ', '(ا', '(اد', '(ار', '(اس', '(اع', '(اق', '(ال', '(ام', '(ان', '(اُ', '(آ', '(اک', '(ای', '(اے', '(ب', '(با', '(بر', '(بز', '(بش', '(بن', '(بي', '(بگ', '(بی', '(ت', '(تق', '(تو', '(تھ', '(ج', '(جا', '(جب', '(جس', '(جو', '(جگ', '(جی', '(جے', '(خ', '(خس', '(د', '(دل', '(دو', '(دھ', '(ر', '(ر)', '(رس', '(رع', '(رو', '(ری', '(ز', '(زا', '(زل', '(س', '(سا', '(سب', '(سر', '(سف', '(سن', '(سو', '(سٹ', '(سپ', '(سگ', '(سی', '(ش', '(شر', '(شو', '(ص', '(صب', '(صر', '(ع', '(عی', '(ف', '(فا', '(ل', '(لو', '(لی', '(م', '(ما', '(مح', '(مر', '(مس', '(مص', '(من', '(مي', '(مہ', '(می', '(ن', '(نا', '(نج', '(نر', '(نس', '(نم', '(نی', '(و', '(وک', '(وی', '(پ', '(پ ', '(پا', '(پر', '(پي', '(پک', '(پی', '(ڈ', '(ڈب', '(ڈر', '(ڈی', '(ک', '(کا', '(کس', '(کل', '(کو', '(کپ', '(کچ', '(کے', '(گ', '(گا', '(گل', '(ہ', '(ہم', '(ہڈ', '(ہی', '(ی', '(یا', '(یو', ')', ') ', ')،', ')، ', ')،ا', ')آ', ')آف', ')ا', ')اس', ')ام', ')ان', ')او', ')ای', ')ب', ')بو', ')بھ', ')بی', ')د', ')دو', ')ر', ')رک', ')ز', ')زی', ')س', ')سا', ')سک', ')سی', ')سے', ')ش', ')شا', ')ع', ')عا', ')م', ')مش', ')مع', ')ن', ')نے', ')و', ')وف', ')پ', ')پا', ')پر', ')پن', ')پو', ')چ', ')چی', ')ڈ', ')ڈا', ')ک', ')کا', ')کر', ')کس', ')کو', ')کی', ')کے', ')ہ', ')ہا', ')ہے', ')۔', ')۔ ', ',', ', ', ',1', ',18', ',2', ',27', ',3', ',38', ',4', ',40', ',5', ',50', ',53', ',6', ',61', ',64', ',67', ',7', ',75', ',9', ',97', ',98', ',ا', ',اس', ',ح', ',حک', ',خ', ',خا', ',پ', ',پو', ',ک', ',کھ', ',گ', ',گن', '-', '- ', '--', '-- ', '---', '-0', '-0 ', '-09', '-1', '-1 ', '-10', '-11', '-12', '-16', '-17', '-18', '-19', '-2', '-2 ', '-20', '-21', '-3', '-3 ', '-37', '-4', '-4 ', '-4)', '-5', '-5 ', '-50', '-57', '-5س', '-6', '-6 ', '-6(', '-66', '-6ا', '-7', '-7.', '-8', '-8 ', '-81', '-b', '-be', '-bi', '-c', '-c ', '-e', '-e6', '-f', '-fi', '-h', '-ho', '-i', '-ii', '-r', '-r1', '-s', '-st', '-t', '-te', '-x', '-x ', '-ا', '-اف', '-اي', '-ای', '-س', '-سع', '-م', '-مح', '-ٹ', '-ٹا', '-پ', '-پٹ', '-چ', '-چی', '.', '. ', '.#', '.#w', '..', '.. ', '...', '.0', '.0 ', '.02', '.05', '.09', '.1', '.1 ', '.10', '.11', '.12', '.13', '.15', '.16', '.18', '.19', '.1ا', '.2', '.2 ', '.20', '.21', '.24', '.25', '.26', '.28', '.2ا', '.3', '.3 ', '.30', '.33', '.34', '.38', '.39', '.3م', '.4', '.4 ', '.41', '.43', '.44', '.48', '.4g', '.4x', '.5', '.5 ', '.5-', '.50', '.53', '.55', '.5:', '.5x', '.5ف', '.6', '.6 ', '.60', '.62', '.63', '.69', '.7', '.7 ', '.70', '.72', '.75', '.76', '.77', '.78', '.8', '.8 ', '.80', '.82', '.85', '.88', '.89', '.9', '.9 ', '.90', '.91', '.94', '.95', '.97', '.98', '.c', '.co', '.g', '.go', '.p', '.pk', '.pt', '.t', '.tw', '.؟', '.؟ ', '.ا', '.اس', '.ای', '.ب', '.بھ', '/', '/ ', '/1', '/1)', '/12', '/16', '/2', '/2.', '/20', '/3', '/30', '/31', '/4', '/4 ', '/5', '/5 ', '/6', '/6)', '/g', '/ge', '/i', '/i0', '/o', '/oa', '/p', '/pa', '/pt', '/ب', '/بو', '/ڈ', '/ڈی', '0', '0 ', '0)', '0) ', '0,', '0, ', '0-', '0-1', '0-2', '0-3', '0-4', '0-5', '0-b', '0.', '0.1', '0.2', '0.3', '0.4', '0.5', '0.6', '0.7', '0.8', '0.9', '00', '00 ', '00)', '00-', '000', '001', '002', '003', '004', '005', '006', '007', '008', '009', '00m', '00ء', '00ا', '00ر', '00س', '00ف', '00ل', '00م', '00و', '00ڈ', '00ک', '00گ', '01', '01 ', '01)', '01.', '010', '011', '012', '013', '014', '015', '016', '017', '018', '019', '01ء', '02', '02 ', '02.', '020', '021', '022', '023', '024', '025', '026', '02ء', '02م', '03', '03 ', '03.', '030', '034', '03ء', '04', '04 ', '04.', '04ص', '04ک', '05', '05 ', '05)', '05.', '050', '05m', '05ء', '05م', '05ڈ', '06', '06 ', '06.', '065', '066', '06س', '07', '07 ', '07.', '077', '07ء', '08', '08 ', '08-', '080', '08z', '08ء', '09', '09 ', '093', '09ء', '09س', '09ص', '09۔', '0a', '0a ', '0f', '0fp', '0g', '0g ', '0gm', '0m', '0ml', '0mm', '0p', '0p ', '0pو', '0w', '0w ', '0x', '0x1', '0×', '0×1', '0،', '0، ', '0ء', '0ء ', '0ء)', '0ءت', '0ءم', '0ا', '0ار', '0اق', '0ان', '0او', '0اگ', '0ب', '0بج', '0بر', '0بط', '0بل', '0بچ', '0ت', '0تک', '0ج', '0جو', '0د', '0در', '0ر', '0رو', '0س', '0سا', '0سی', '0سے', '0ف', '0فی', '0ل', '0لا', '0لو', '0م', '0ما', '0مل', '0من', '0می', '0ن', '0نو', '0و', '0وا', '0وی', '0ٹ', '0ٹی', '0پ', '0پل', '0پی', '0ڈ', '0ڈا', '0ک', '0کر', '0کل', '0کی', '0کے', '0گ', '0گر', '0گھ', '0ہ', '0ہز', '0ی', '0یو', '0۔', '0۔ ', '0۔3', '0۔4', '0۔5', '1', '1 ', '1)', '1) ', '1)،', '1,', '1,4', '1,5', '1,6', '1,7', '1-', '1-0', '1-1', '1-2', '1-3', '1-6', '1.', '1. ', '1.0', '1.1', '1.2', '1.3', '1.4', '1.5', '1.6', '1.7', '1.8', '1.9', '1/', '1/2', '10', '10 ', '10-', '10.', '100', '101', '102', '104', '105', '106', '107', '108', '109', '10a', '10g', '10ء', '10ب', '10ج', '10س', '10ف', '10م', '10ٹ', '10گ', '10ہ', '10۔', '11', '11 ', '11,', '11-', '11.', '110', '111', '112', '114', '115', '116', '117', '118', '119', '11a', '11،', '11ء', '11ب', '11و', '11ک', '12', '12 ', '12,', '12-', '12.', '120', '121', '122', '123', '124', '125', '126', '127', '128', '129', '12،', '12ء', '12ا', '12د', '12س', '12ف', '12ل', '12م', '12و', '13', '13 ', '130', '131', '132', '133', '134', '135', '138', '139', '13ء', '13ج', '13ف', '13و', '13گ', '14', '14 ', '14)', '14.', '140', '141', '142', '143', '144', '145', '146', '147', '148', '149', '14ء', '14ا', '14ت', '14ج', '14ف', '14م', '14و', '14ک', '14ہ', '15', '15 ', '15-', '15.', '150', '151', '152', '153', '155', '156', '158', '159', '15×', '15ء', '15س', '15ش', '15ف', '15م', '15ن', '15گ', '15ہ', '15ی', '16', '16 ', '16-', '16.', '160', '164', '166', '167', '168', '169', '16ء', '16ا', '16ب', '16د', '16س', '16گ', '16ہ', '17', '17 ', '17)', '17-', '17.', '170', '171', '172', '173', '174', '175', '176', '177', '178', '179', '17ء', '17ت', '17ج', '17س', '17ف', '17م', '17ک', '18', '18 ', '18)', '18-', '180', '181', '182', '183', '184', '185', '188', '189', '18w', '18ء', '18ر', '18س', '18م', '18و', '18ہ', '18–', '19', '19 ', '19-', '19.', '19/', '190', '191', '192', '193', '194', '195', '196', '197', '198', '199', '19،', '19ء', '19ب', '19ج', '19س', '19م', '19و', '19گ', '1a', '1ac', '1x', '1x ', '1،', '1، ', '1،0', '1،5', '1ء', '1ء ', '1ا', '1ار', '1او', '1ب', '1بج', '1ر', '1رو', '1س', '1سا', '1سے', '1ف', '1فی', '1ل', '1لا', '1م', '1مئ', '1و', '1وی', '1ک', '1کو', '1گ', '1گر', '1ہ', '1ہز', '1۔', '1۔ ', '1۔0', '1۔1', '1۔6', '1۔ب', '1‘', '1‘‘', '2', '2 ', '2(', '2(w', '2)', '2) ', '2)،', '2,', '2,3', '2,6', '2-', '2-0', '2-1', '2-2', '2-3', '2-4', '2-6', '2.', '2. ', '2.0', '2.1', '2.2', '2.3', '2.4', '2.5', '2.6', '2.7', '2.8', '20', '20 ', '20)', '20,', '20-', '20.', '200', '201', '202', '203', '204', '205', '209', '20،', '20ء', '20ا', '20ج', '20ر', '20س', '20ل', '20م', '20ک', '21', '21 ', '21-', '210', '211', '212', '213', '214', '215', '217', '218', '219', '21س', '21م', '21و', '21گ', '22', '22 ', '22)', '220', '223', '225', '227', '228', '229', '22ء', '22ج', '22س', '22ف', '22ن', '23', '23 ', '23-', '23.', '230', '231', '233', '234', '235', '237', '23و', '24', '24 ', '24-', '24.', '240', '246', '248', '249', '24ا', '24ج', '24ہ', '25', '25 ', '25)', '250', '251', '253', '255', '256', '25،', '25ا', '25س', '25ف', '25م', '25ک', '26', '26 ', '260', '261', '264', '265', '266', '267', '269', '26ب', '27', '27 ', '270', '271', '273', '274', '275', '279', '27w', '27ء', '27م', '28', '28 ', '28)', '28.', '280', '281', '287', '289', '28؍', '28س', '28ک', '29', '29 ', '29.', '290', '292', '294', '295', '296', '299', '2:', '2:2', '2d', '2dس', '2m', '2mc', '2x', '2x ', '2x2', '2،', '2، ', '2،2', '2،c', '2ء', '2ء ', '2ءت', '2ءم', '2ا', '2ار', '2ال', '2او', '2اک', '2ب', '2بل', '2ج', '2جو', '2جی', '2د', '2دس', '2ر', '2رو', '2س', '2سا', '2سو', '2سپ', '2سے', '2ص', '2صف', '2ف', '2فی', '2ل', '2لا', '2م', '2ما', '2من', '2می', '2ن', '2نو', '2و', '2وا', '2وی', '2پ', '2پر', '2پو', '2ک', '2کر', '2کی', '2گ', '2گھ', '2۔', '2۔ ', '2۔1', '2۔3', '3', '3 ', '3)', '3) ', '3,', '3,2', '3,5', '3,9', '3-', '3-0', '3-1', '3-2', '3-6', '3.', '3. ', '3.0', '3.1', '3.2', '3.5', '3.6', '3.7', '3.8', '3.9', '30', '30 ', '30.', '300', '30f', '30w', '30،', '30ء', '30ت', '30د', '30ر', '30س', '30ف', '30م', '30ن', '30ہ', '31', '31 ', '310', '311', '313', '314', '318', '31م', '32', '32 ', '32.', '320', '321', '322', '323', '326', '327', '328', '32س', '32و', '33', '33 ', '33)', '33.', '330', '331', '332', '334', '337', '338', '33م', '34', '34 ', '340', '342', '345', '346', '34ا', '34س', '34ف', '35', '35 ', '35)', '35.', '350', '357', '358', '359', '35ء', '36', '36 ', '36.', '361', '366', '369', '36ء', '36ہ', '37', '37 ', '370', '371', '375', '377', '378', '37و', '37ہ', '38', '38 ', '380', '384', '385', '386', '389', '38ف', '39', '39 ', '39.', '391', '398', '399', '39س', '39و', '3a', '3a ', '3d', '3d ', '3d)', '3x', '3x ', '3،', '3، ', '3ء', '3ء ', '3ا', '3اہ', '3ب', '3با', '3ج', '3جو', '3س', '3سا', '3سے', '3ف', '3فی', '3م', '3ما', '3مل', '3من', '3می', '3و', '3وی', '3ڈ', '3ڈی', '3ک', '3کر', '3گ', '3گر', '3ہ', '3ہز', '3۔', '3۔ ', '3۔0', '3۔1', '3۔ا', '4', '4 ', '4)', '4) ', '4,', '4,1', '4-', '4-0', '4-1', '4-6', '4-7', '4.', '4. ', '4.0', '4.1', '4.2', '4.4', '4.5', '4.6', '4.8', '4.9', '4/', '4/5', '40', '40 ', '40-', '400', '406', '40x', '40ب', '40د', '40ف', '40پ', '41', '41 ', '415', '418', '41ف', '41ہ', '42', '42 ', '420', '421', '426', '429', '42پ', '43', '43 ', '43)', '430', '437', '44', '44 ', '44.', '440', '445', '446', '447', '448', '44ء', '45', '45 ', '450', '45م', '46', '46 ', '46)', '460', '461', '467', '47', '47 ', '47ف', '47پ', '48', '48 ', '48.', '480', '481', '484', '485', '488', '489', '48ف', '49', '49 ', '49.', '490', '496', '499', '49س', '49ک', '4:', '4:2', '4d', '4d ', '4g', '4g ', '4gh', '4i', '4iu', '4k', '4k ', '4x', '4x ', '4z', '4zp', '4،', '4،2', '4،4', '4ء', '4ء ', '4ءک', '4ا', '4ار', '4اع', '4اک', '4ای', '4ت', '4تک', '4ج', '4جو', '4س', '4سا', '4سی', '4ص', '4صف', '4ف', '4فی', '4ل', '4لا', '4م', '4مم', '4می', '4و', '4ور', '4وی', '4ک', '4کر', '4کھ', '4کی', '4کے', '4گ', '4گر', '4ہ', '4ہز', '4ہف', '4۔', '4۔ ', '5', '5 ', '5)', '5) ', '5)،', '5-', '5-0', '5-1', '5-7', '5.', '5. ', '5.1', '5.2', '5.3', '5.4', '5.5', '5.6', '5.7', '5.8', '5.9', '50', '50 ', '500', '502', '50ف', '50م', '50ی', '51', '51 ', '51,', '51.', '510', '512', '515', '516', '52', '52 ', '520', '521', '525', '527', '52m', '52ء', '52ص', '52م', '53', '53 ', '53,', '53.', '530', '531', '534', '536', '537', '538', '54', '54 ', '541', '544', '549', '54س', '54و', '54ک', '55', '55 ', '55.', '550', '554', '556', '557', '55ا', '55ص', '55و', '56', '56 ', '560', '563', '565', '56س', '56ک', '57', '57 ', '570', '571', '577', '57م', '58', '58 ', '58,', '580', '581', '588', '59', '59 ', '59.', '590', '599', '59و', '59ک', '5:', '5:9', '5g', '5g ', '5gh', '5gآ', '5k', '5k3', '5m', '5mm', '5x', '5x ', '5×', '5×3', '5،', '5، ', '5،2', '5،5', '5ء', '5ء ', '5ءک', '5ا', '5اف', '5ان', '5اگ', '5ب', '5بو', '5ج', '5جو', '5ر', '5ری', '5س', '5سا', '5ست', '5سے', '5ش', '5شہ', '5ص', '5صف', '5ف', '5فر', '5فی', '5ل', '5لا', '5م', '5مر', '5مل', '5من', '5می', '5ن', '5نا', '5نو', '5و', '5وا', '5وی', '5ڈ', '5ڈا', '5ک', '5کر', '5کل', '5گ', '5گر', '5ہ', '5ہز', '5ی', '5یو', '5۔', '5۔ ', '5۔ک', '6', '6 ', '6(', '6(7', '6)', '6) ', '6)،', '6-', '6-1', '6-2', '6-3', '6-4', '6.', '6. ', '6.0', '6.1', '6.3', '6.4', '6.5', '6.6', '6.7', '6.9', '60', '60 ', '600', '605', '606', '60×', '60ک', '61', '61 ', '61.', '610', '611', '614', '615', '617', '62', '62 ', '623', '626', '627', '62ء', '62ک', '63', '63 ', '63.', '630', '64', '64 ', '64.', '642', '643', '65', '65 ', '65.', '659', '65ء', '65ر', '65ف', '65ل', '65م', '66', '66 ', '66.', '661', '665', '667', '66ء', '66ا', '67', '67 ', '67)', '671', '672', '675', '67ر', '67ف', '67۔', '68', '68 ', '680', '686', '68ء', '68ک', '69', '69 ', '690', '699', '69ء', '69ب', '6b', '6b4', '6e', '6e\"', '6g', '6g ', '6gh', '6i', '6iu', '6n', '6nh', '6،', '6، ', '6،c', '6ء', '6ء ', '6ءم', '6ا', '6ار', '6ان', '6او', '6ای', '6ب', '6بر', '6د', '6دس', '6س', '6سا', '6سک', '6سی', '6ف', '6فی', '6م', '6می', '6و', '6وی', '6ک', '6کھ', '6کی', '6کے', '6گ', '6گر', '6ہ', '6ہز', '6۔', '6۔ ', '7', '7 ', '7(', '7(w', '7)', '7) ', '7)،', '7,', '7,6', '7-', '7- ', '7-1', '7-4', '7-5', '7-6', '7.', '7. ', '7.1', '7.3', '7.5', '7.6', '7.9', '7/', '7/1', '70', '70 ', '70.', '700', '701', '703', '706', '70ء', '70ف', '70پ', '70ک', '71', '71 ', '710', '712', '716', '719', '71ء', '72', '72 ', '72)', '72.', '720', '722', '723', '72ء', '73', '73 ', '73,', '731', '735', '73ء', '73م', '73و', '74', '74 ', '746', '74و', '75', '75 ', '75.', '750', '754', '75ء', '75ف', '75و', '75ک', '75ہ', '76', '76 ', '761', '763', '765', '767', '76ء', '77', '77 ', '77.', '772', '77ک', '78', '78 ', '782', '783', '785', '788', '78ک', '79', '79 ', '79)', '79.', '799', '7w', '7w ', '7،', '7، ', '7ء', '7ء ', '7ا', '7ای', '7ت', '7تک', '7ج', '7جو', '7ر', '7رو', '7س', '7سا', '7ف', '7فی', '7م', '7مئ', '7ما', '7می', '7و', '7وی', '7پ', '7پل', '7پو', '7ک', '7کی', '7کے', '7ہ', '7ہز', '7ہف', '7۔', '7۔ ', '8', '8 ', '8)', '8) ', '8,', '8,9', '8-', '8-0', '8-1', '8.', '8. ', '8.0', '8.1', '8.4', '8.5', '8.6', '8.8', '8/', '8/6', '80', '80 ', '80.', '800', '802', '805', '80p', '80،', '80ء', '80ا', '80ف', '80ک', '81', '81 ', '81)', '810', '811', '814', '818', '819', '81س', '81و', '82', '82 ', '82.', '821', '82ء', '82ب', '83', '83 ', '83.', '830', '836', '838', '83ء', '83و', '84', '84 ', '845', '848', '84i', '85', '85 ', '850', '851', '855', '85m', '85ء', '86', '86 ', '862', '864', '865', '86i', '86ء', '86و', '87', '87 ', '87.', '870', '871', '88', '88 ', '88.', '887', '88ء', '88ل', '88ک', '89', '89 ', '89-', '890', '891', '894', '895', '896', '899', '89ء', '8g', '8g ', '8gآ', '8k', '8k ', '8kر', '8w', '8w ', '8z', '8zs', '8،', '8، ', '8؍', '8؍ ', '8ء', '8ء ', '8ء)', '8ءم', '8آ', '8آپ', '8ا', '8ار', '8ب', '8بج', '8ر', '8رن', '8س', '8سا', '8ف', '8فی', '8ل', '8لا', '8م', '8ما', '8می', '8و', '8وی', '8پ', '8پل', '8ک', '8کر', '8کم', '8کھ', '8کی', '8ہ', '8ہز', '8۔', '8۔ ', '8–', '8– ', '9', '9 ', '9(', '9(p', '9)', '9) ', '9-', '9-1', '9-2', '9.', '9. ', '9.0', '9.1', '9.2', '9.4', '9.5', '9.8', '9.9', '9/', '9/2', '90', '90 ', '90.', '900', '901', '902', '908', '909', '90ء', '90ا', '90م', '90ک', '91', '91 ', '912', '91ء', '92', '92 ', '92.', '925', '927', '92ء', '93', '93 ', '93.', '930', '932', '935', '936', '938', '93a', '93ء', '93م', '94', '94 ', '940', '944', '945', '946', '947', '948', '949', '94ء', '94ا', '94ل', '94م', '94ک', '95', '95 ', '950', '952', '953', '954', '955', '957', '958', '95ء', '95ل', '95م', '96', '96 ', '960', '961', '962', '964', '965', '966', '967', '968', '969', '96ء', '96و', '97', '97 ', '97,', '970', '971', '972', '973', '974', '975', '976', '977', '978', '979', '97ء', '97ا', '98', '98 ', '980', '981', '982', '983', '984', '985', '986', '987', '988', '989', '98ء', '98ف', '98م', '99', '99 ', '99.', '990', '991', '992', '993', '994', '995', '996', '997', '998', '999', '99ڈ', '9e', '9e ', '9em', '9،', '9، ', '9،2', '9ء', '9ء ', '9ب', '9بر', '9ج', '9جن', '9جو', '9س', '9سا', '9ست', '9سی', '9سے', '9ص', '9صف', '9م', '9ما', '9مخ', '9و', '9وا', '9وی', '9ڈ', '9ڈا', '9ک', '9کر', '9کم', '9کے', '9گ', '9گر', '9۔', '9۔ ', ':', ': ', ':2', ':2 ', ':2:', ':9', ':9 ', ':ا', ':ال', ':ان', ':او', ':ای', ':ب', ':با', ':بر', ':بص', ':ج', ':جب', ':ز', ':زن', ':س', ':سا', ':ش', ':شع', ':ع', ':عا', ':عم', ':م', ':ما', ':مث', ':و', ':وٹ', ':پ', ':پا', ':چ', ':چی', ':ک', ':کھ', ':گ', ':گو', ':ی', ':یہ', ':۲', ':۲۵', ':’', ':’ن', ';', '; ', '?', '? ', '?ئ', '?ئن', '?ئی', '?ت', '?تھ', '?خ', '?خر', '?ر', '?ر ', '?غ', '?غا', '?م', '?مد', '?ن', '?نن', '?ی', '?یا', '@', '@a', '@al', '@aw', '[', '[ا', '[ای', ']', ']س', ']سر', 'a', 'a ', 'a)', 'a) ', 'a)م', 'a)ک', 'a,', 'a, ', 'a.', 'a. ', 'a.g', 'a2', 'a20', 'a7', 'a7 ', 'ab', 'abd', 'abe', 'abo', 'abs', 'ab‘', 'ac', 'ac ', 'ace', 'ack', 'acr', 'acy', 'ad', 'ada', 'adi', 'af', 'af ', 'afp', 'aft', 'ag', 'age', 'agn', 'ag’', 'ah', 'ah ', 'ai', 'aih', 'ain', 'aj', 'ajp', 'ak', 'ak ', 'ak1', 'ake', 'aku', 'al', 'al ', 'ale', 'alg', 'ali', 'alk', 'all', 'alo', 'als', 'alک', 'am', 'am ', 'ame', 'ami', 'amo', 'amp', 'ams', 'an', 'an ', 'an#', 'ana', 'and', 'ane', 'ani', 'ann', 'ano', 'ans', 'ant', 'ap', 'ap)', 'apa', 'apn', 'apt', 'ar', 'ar ', 'ar;', 'ara', 'arb', 'ard', 'are', 'ari', 'arl', 'arr', 'as', 'asa', 'asl', 'ass', 'asu', 'asy', 'at', 'at ', 'ate', 'ati', 'ato', 'atu', 'au', 'aug', 'aur', 'av', 'ave', 'avo', 'aw', 'aw ', 'awo', 'awr', 'ax', 'ax ', 'ax،', 'axا', 'axک', 'ay', 'ay ', 'ay،', 'a،', 'a،b', 'a،c', 'aج', 'aجو', 'aس', 'aسم', 'aسن', 'aسٹ', 'aک', 'aکے', 'aہ', 'aہے', 'aی', 'aیل', 'b', 'b ', 'b-', 'b-1', 'b-c', 'b2', 'b2،', 'b3', 'b3 ', 'b4', 'b4z', 'b6', 'b6،', 'b6ا', 'b6ک', 'bc', 'bcc', 'bd', 'bdu', 'be', 'ber', 'bet', 'bey', 'bg', 'bg-', 'bh', 'bha', 'bi', 'bia', 'bil', 'bit', 'bo', 'bon', 'bor', 'br', 'bra', 'bre', 'bro', 'bs', 'bs.', 'bso', 'bu', 'bui', 'bur', 'bش', 'bشع', 'b‘', 'b‘ ', 'c', 'c ', 'c.', 'c.t', 'c2', 'c2 ', 'ca', 'ca ', 'ca)', 'cal', 'cam', 'can', 'cap', 'car', 'cat', 'cc', 'cca', 'cci', 'ccr', 'ce', 'ce ', 'ce)', 'ceo', 'ces', 'cf', 'cfe', 'ch', 'ch)', 'chi', 'ci', 'ci ', 'cin', 'ck', 'ck ', 'cki', 'cl', 'cle', 'cm', 'cmo', 'cn', 'cnn', 'co', 'cod', 'col', 'com', 'con', 'cor', 'cou', 'cr', 'cr5', 'cro', 'ct', 'ct ', 'cto', 'ctr', 'cu', 'cup', 'cv', 'cvq', 'cy', 'cya', 'c،', 'c، ', 'c،e', 'cا', 'cاس', 'cاو', 'cس', 'cسے', 'cف', 'cفو', 'cک', 'cکے', 'd', 'd ', 'd)', 'd) ', 'd-', 'd-8', 'da', 'da)', 'dan', 'day', 'daک', 'dc', 'dcu', 'de', 'de ', 'de)', 'dep', 'der', 'dex', 'dg', 'dge', 'dh', 'dh)', 'di', 'di ', 'dia', 'dic', 'dig', 'dio', 'dir', 'dit', 'diu', 'dn', 'dne', 'do', 'dog', 'don', 'dop', 'dou', 'dow', 'dr', 'dr ', 'dra', 'dt', 'dth', 'dts', 'du', 'du ', 'dua', 'duc', 'dud', 'dul', 'dw', 'dwa', 'dس', 'dسی', 'e', 'e ', 'e\"', 'e\"ک', 'e)', 'e) ', 'e)ا', 'e)س', 'e)ہ', 'e-', 'e-b', 'e.', 'e. ', 'e.#', 'e.c', 'e2', 'e2)', 'e6', 'e6n', 'e:', 'e: ', 'ea', 'ea ', 'ea)', 'eal', 'ean', 'eat', 'eb', 'ebr', 'ec', 'ecc', 'ech', 'ect', 'ed', 'ed ', 'ede', 'edi', 'edn', 'edo', 'edw', 'ee', 'ee ', 'eeg', 'eel', 'eep', 'eg', 'ego', 'ei', 'eic', 'ein', 'eir', 'eiz', 'el', 'el ', 'ele', 'elf', 'eli', 'ell', 'eln', 'elت', 'em', 'em ', 'ema', 'eme', 'emo', 'emp', 'en', 'en ', 'ena', 'enc', 'end', 'eng', 'eni', 'ens', 'ent', 'eny', 'eo', 'eo ', 'eo)', 'eos', 'ep', 'ep ', 'epa', 'eph', 'epo', 'ept', 'er', 'er ', 'er)', 'er.', 'era', 'ere', 'erf', 'eri', 'ero', 'ers', 'eru', 'es', 'es ', 'es/', 'esa', 'esd', 'ese', 'ess', 'et', 'eta', 'etc', 'ete', 'eth', 'eti', 'etr', 'ett', 'etw', 'eu', 'eud', 'eut', 'ev', 'eve', 'ex', 'ex ', 'ex1', 'exa', 'exi', 'exp', 'ext', 'ey', 'ey ', 'ey)', 'eا', 'eان', 'eاو', 'eب', 'eبھ', 'eم', 'eمو', 'eک', 'eکی', 'eہ', 'eہو', 'e‘', 'e‘ ', 'f', 'f ', 'f/', 'f/2', 'f1', 'f10', 'f11', 'f2', 'f2 ', 'f4', 'f4 ', 'f4-', 'f4.', 'f6', 'f60', 'f8', 'f80', 'f85', 'fa', 'fac', 'fam', 'fan', 'far', 'fas', 'fav', 'faw', 'fe', 'fe ', 'fec', 'fed', 'fex', 'fi', 'fi ', 'fie', 'fif', 'fl', 'fle', 'flo', 'fly', 'fm', 'fmm', 'fo', 'fo ', 'fol', 'fp', 'fp ', 'fp/', 'fps', 'fr', 'fre', 'fro', 'ft', 'ft-', 'fte', 'fu', 'fug', 'ful', 'g', 'g ', 'g)', 'g)ز', 'g-', 'g-r', 'g5', 'g52', 'ga', 'gak', 'gam', 'gap', 'gar', 'ge', 'ge ', 'ge)', 'geb', 'gel', 'gem', 'gen', 'ger', 'ges', 'get', 'gh', 'gh-', 'ght', 'ghz', 'gi', 'gic', 'gin', 'gm', 'gm ', 'gme', 'gn', 'gne', 'go', 'gor', 'gov', 'go،', 'gp', 'gpu', 'gr', 'gro', 'gu', 'gul', 'gآ', 'gآل', 'gن', 'gنا', 'g’', 'g’ ', 'h', 'h ', 'h)', 'h) ', 'h)ک', 'h-', 'h-t', 'h.', 'h.2', 'ha', 'had', 'han', 'hat', 'hd', 'hdr', 'he', 'he ', 'hee', 'hei', 'hel', 'hen', 'her', 'hey', 'hi', 'hig', 'hin', 'hip', 'his', 'hiv', 'hl', 'hl-', 'hm', 'hm)', 'ho', 'hoc', 'hoo', 'hor', 'hot', 'hou', 'how', 'hs', 'hs-', 'ht', 'ht ', 'hu', 'hul', 'hy', 'hyl', 'hz', 'hz ', 'hzم', 'i', 'i ', 'i-', 'i-f', 'i0', 'i08', 'ia', 'ia ', 'ia.', 'ia2', 'ial', 'ian', 'iat', 'ib', 'ibi', 'ic', 'ic ', 'ic.', 'ica', 'ick', 'ict', 'id', 'ide', 'idg', 'idh', 'idt', 'ie', 'ie ', 'ie2', 'ied', 'if', 'ifa', 'ife', 'ifi', 'ig', 'ige', 'igh', 'igi', 'ih', 'ihu', 'ii', 'ii ', 'il', 'il-', 'ild', 'ilt', 'ily', 'ilم', 'im', 'ima', 'imf', 'imi', 'imo', 'in', 'in ', 'ina', 'ind', 'ine', 'inf', 'ing', 'ini', 'ink', 'ins', 'int', 'inا', 'inب', 'inک', 'in‘', 'io', 'io)', 'ion', 'ios', 'iox', 'ip', 'ipp', 'ir', 'ir ', 'irb', 'ire', 'irg', 'iro', 'iru', 'is', 'is ', 'is)', 'iss', 'it', 'it ', 'ita', 'ite', 'ith', 'iti', 'itt', 'ity', 'iu', 'iu ', 'ium', 'iv', 'iva', 'ive', 'ivا', 'ivم', 'ivک', 'iw', 'iwi', 'ix', 'ixe', 'iz', 'izu', 'iو', 'iوٹ', 'j', 'ja', 'jac', 'jap', 'jo', 'jon', 'jp', 'jpu', 'ju', 'jul', 'jun', 'k', 'k ', 'k1', 'k1 ', 'k3', 'k3 ', 'ka', 'ka ', 'ke', 'ke ', 'ke-', 'ked', 'ki', 'kin', 'kiw', 'ko', 'kol', 'ks', 'kst', 'ku', 'ku)', 'ky', 'ky ', 'kب', 'kبھ', 'kر', 'kری', 'kم', 'kمو', 'l', 'l ', 'l-', 'l-h', 'l-s', 'la', 'lab', 'lah', 'lam', 'lar', 'lat', 'lau', 'ld', 'ld ', 'ldc', 'le', 'le.', 'lea', 'lec', 'led', 'lee', 'lei', 'len', 'leo', 'lep', 'ler', 'les', 'let', 'lev', 'lex', 'ley', 'leا', 'lf', 'lf ', 'lg', 'lge', 'lgo', 'li', 'li ', 'lia', 'lie', 'lif', 'lig', 'lit', 'liv', 'lk', 'lk ', 'll', 'll ', 'lla', 'lle', 'lli', 'llo', 'ln', 'lna', 'lo', 'lo)', 'log', 'lop', 'los', 'lov', 'loy', 'lp', 'lp-', 'ls', 'lse', 'lsا', 'lt', 'lty', 'lu', 'lum', 'lut', 'ly', 'ly ', 'lym', 'lت', 'lتو', 'lم', 'lمی', 'lک', 'lکو', 'm', 'm ', 'm&', 'm&p', 'm)', 'm)س', 'm/', 'm/i', 'm/p', 'ma', 'mac', 'mag', 'mah', 'mal', 'man', 'mas', 'mat', 'max', 'may', 'mb', 'mbe', 'mbi', 'mc', 'mc2', 'me', 'me ', 'me.', 'mec', 'mei', 'men', 'mer', 'met', 'mf', 'mf ', 'mfm', 'mi', 'mil', 'mim', 'min', 'mit', 'ml', 'ml ', 'mle', 'mm', 'mm ', 'mme', 'mms', 'mo', 'mo ', 'mod', 'mol', 'mom', 'mon', 'mor', 'mos', 'mou', 'mov', 'mp', 'mpa', 'mpl', 'ms', 'ms ', 'ms)', 'mso', 'mu', 'mul', 'my', 'my ', 'mب', 'mبھ', 'mک', 'mکے', 'n', 'n ', 'n#', 'n#f', 'na', 'na ', 'nag', 'nal', 'nas', 'nat', 'nc', 'nce', 'nco', 'nd', 'nd ', 'nda', 'nde', 'ndi', 'ndo', 'ndu', 'ne', 'ne ', 'nea', 'ned', 'nes', 'net', 'neu', 'neا', 'neم', 'neک', 'neہ', 'nf', 'nfo', 'ng', 'ng ', 'ng)', 'nga', 'ngi', 'ngu', 'nh', 'nh ', 'ni', 'nim', 'nin', 'nit', 'niu', 'nk', 'nks', 'nn', 'nnu', 'nny', 'no', 'no ', 'non', 'not', 'ns', 'ns ', 'nse', 'nsh', 'nsi', 'nsk', 'nsu', 'nsک', 'nt', 'nt ', 'nte', 'nth', 'nu', 'num', 'nur', 'nw', 'nwa', 'ny', 'ny ', 'nyl', 'nys', 'nا', 'nای', 'nب', 'nبے', 'nک', 'nکی', 'n‘', 'n‘‘', 'o', 'o ', 'o)', 'o) ', 'oa', 'oak', 'oc', 'oce', 'ock', 'ocy', 'od', 'od ', 'ode', 'of', 'of ', 'og', 'og ', 'oga', 'ogن', 'oi', 'oil', 'ok', 'oke', 'oko', 'ol', 'ol ', 'ola', 'ole', 'oll', 'olo', 'olu', 'om', 'om ', 'om/', 'ome', 'oml', 'omp', 'omک', 'on', 'on ', 'ona', 'ond', 'one', 'ong', 'ono', 'ons', 'oo', 'ool', 'oop', 'op', 'opa', 'ops', 'or', 'or ', 'ora', 'ore', 'ori', 'ork', 'orl', 'orm', 'orp', 'ors', 'ort', 'ory', 'orک', 'os', 'os ', 'osi', 'ot', 'ot ', 'ou', 'ou)', 'oun', 'our', 'ous', 'out', 'ov', 'ov.', 'ova', 'ove', 'ovs', 'ow', 'ow ', 'owi', 'own', 'ox', 'ox ', 'oxi', 'oy', 'oy)', 'o،', 'o، ', 'p', 'p ', 'p#', 'p#j', 'p)', 'p) ', 'p-', 'p-e', 'p/', 'p/g', 'p2', 'p20', 'p9', 'p9)', 'pa', 'pa ', 'pag', 'pam', 'pan', 'par', 'pas', 'pe', 'pec', 'per', 'pet', 'ph', 'pha', 'phe', 'phi', 'pi', 'pic', 'pig', 'pio', 'pix', 'pk', 'pk ', 'pl', 'ple', 'pli', 'pn', 'pn ', 'pne', 'po', 'pok', 'pol', 'por', 'pos', 'pp', 'pps', 'pq', 'pq ', 'pr', 'pre', 'pri', 'pro', 'pru', 'ps', 'ps ', 'ps)', 'pse', 'pt', 'pta', 'pth', 'pti', 'ptz', 'pu', 'pu ', 'put', 'px', 'pxg', 'pو', 'pوی', 'q', 'q ', 'qp', 'qpn', 'qu', 'quo', 'r', 'r ', 'r)', 'r) ', 'r)ا', 'r.', 'r. ', 'r.c', 'r1', 'r10', 'r5', 'r5 ', 'r5ن', 'r6', 'r6 ', 'r6م', 'r;', 'r; ', 'ra', 'ra ', 'ra)', 'ra,', 'rad', 'rag', 'rai', 'raj', 'ral', 'ram', 'ran', 'rat', 'raw', 'rb', 'rbo', 'rbs', 'rd', 'rd ', 'rdu', 're', 're ', 're)', 'rea', 'rec', 'ree', 'rel', 'rem', 'ren', 'rep', 'res', 'ret', 'reu', 'rf', 'rf ', 'rf1', 'rf6', 'rf8', 'rfe', 'rfu', 'rg', 'rgi', 'ri', 'ric', 'rid', 'rif', 'rim', 'rio', 'rit', 'rk', 'rk ', 'rl', 'rld', 'rlo', 'rm', 'rmo', 'ro', 'ro ', 'ro)', 'roc', 'rog', 'rom', 'ron', 'ros', 'rou', 'row', 'rp', 'rpi', 'rr', 'rra', 'rro', 'rs', 'rs ', 'rs)', 'rt', 'rt ', 'ru', 'ru ', 'rus', 'ruv', 'rv', 'rvi', 'ry', 'ry ', 'ryn', 'rک', 'rکی', 's', 's ', 's)', 's) ', 's)ب', 's)س', 's-', 's-i', 's-x', 's.', 's.p', 's/', 's/o', 's5', 's5k', 's8', 's8 ', 'sa', 'sa ', 'sat', 'sav', 'sb', 'sb-', 'sc', 'sca', 'scl', 'sco', 'scv', 'sd', 'sd ', 'sda', 'se', 'se ', 'se.', 'se:', 'sea', 'see', 'sel', 'sen', 'seu', 'sh', 'shi', 'sho', 'si', 'sia', 'sin', 'sis', 'sit', 'siv', 'sk', 'ska', 'sky', 'sl', 'sla', 'sle', 'sm', 'sm ', 'so', 'so ', 'sok', 'sol', 'son', 'sor', 'sp', 'spe', 'spi', 'ss', 'ss ', 'ssi', 'sso', 'ssu', 'st', 'std', 'ste', 'stm', 'sto', 'str', 'su', 'sue', 'sul', 'sun', 'sup', 'sur', 'sus', 'sy', 'sym', 'sys', 'sا', 'sاپ', 'sک', 'sکے', 't', 't ', 't)', 't) ', 't-', 't-r', 't/', 't/p', 't2', 't2 ', 't20', 't24', 'ta', 'ta ', 'ta.', 'tab', 'tac', 'tai', 'tak', 'tal', 'tam', 'tc', 'tch', 'td', 'td-', 'te', 'te ', 'te)', 'tec', 'ted', 'tei', 'tel', 'tem', 'ten', 'ter', 'th', 'th ', 'the', 'thi', 'thm', 'tho', 'thy', 'ti', 'ti ', 'tia', 'tic', 'tif', 'tio', 'tiv', 'tm', 'tm ', 'to', 'toc', 'tof', 'too', 'tor', 'tr', 'tra', 'tre', 'tri', 'tro', 'ts', 'ts-', 'tt', 'tte', 'tty', 'tu', 'tur', 'tw', 'twi', 'two', 'ty', 'ty ', 'ty)', 'tyr', 'tz', 'tz6', 'u', 'u ', 'u)', 'u) ', 'u)پ', 'ua', 'ual', 'uc', 'uct', 'ud', 'udi', 'udo', 'ue', 'uer', 'ug', 'uga', 'ugm', 'uh', 'uhe', 'uhs', 'ui', 'ui ', 'uil', 'ul', 'ul ', 'ula', 'uli', 'ull', 'uly', 'um', 'um)', 'umb', 'umب', 'un', 'und', 'une', 'uns', 'unt', 'unw', 'uo', 'uor', 'up', 'up ', 'up#', 'up2', 'upe', 'upr', 'ur', 'urd', 'ure', 'uri', 'urr', 'urv', 'ury', 'us', 'us ', 'usb', 'use', 'usm', 'uss', 'ut', 'ut ', 'ut)', 'ut/', 'ute', 'utr', 'uv', 'uva', 'uvb', 'v', 'v.', 'v.p', 'va', 'val', 'var', 'vb', 'vbش', 've', 've ', 've)', 'vel', 'ver', 'ves', 've‘', 'vi', 'vic', 'vir', 'vit', 'viv', 'vo', 'vou', 'vq', 'vqp', 'vs', 'vs ', 'vsk', 'vا', 'vان', 'vم', 'vمی', 'vک', 'vکے', 'w', 'w ', 'wa', 'wab', 'war', 'way', 'we', 'we ', 'wed', 'wel', 'wer', 'wf', 'wft', 'wh', 'wha', 'whe', 'wi', 'wi-', 'wid', 'win', 'wir', 'wit', 'wiو', 'wn', 'wna', 'wo', 'won', 'wor', 'wr', 'wra', 'x', 'x ', 'x1', 'x10', 'x19', 'x2', 'x2 ', 'xa', 'xam', 'xb', 'xb-', 'xe', 'xel', 'xg', 'xg ', 'xi', 'xib', 'xid', 'xp', 'xpr', 'xt', 'xte', 'x،', 'x،س', 'xا', 'xاپ', 'xک', 'xکی', 'y', 'y ', 'y)', 'y) ', 'ya', 'yan', 'yl', 'yla', 'yle', 'ym', 'yme', 'ymm', 'yn', 'yns', 'yr', 'yra', 'ys', 'yse', 'yst', 'y،', 'y، ', 'z', 'z ', 'z1', 'z12', 'z6', 'z6b', 'ze', 'zer', 'zp', 'zpx', 'zs', 'zsc', 'zt', 'zte', 'zu', 'zu ', 'zم', 'zما', '£', '£)', '£) ', '¿', '¿ن', '¿نٹ', '¿ں', '¿ں ', '×', '×1', '×12', '×3', '×32', '،', '، ', '،0', '،06', '،1', '،10', '،12', '،13', '،16', '،17', '،19', '،2', '،2 ', '،20', '،21', '،25', '،29', '،3', '،36', '،4', '،4 ', '،5', '،5 ', '،51', '،5ب', '،5۔', '،6', '،65', '،66', '،b', '،b2', '،b6', '،c', '،c،', '،cا', '،cف', '،e', '،eا', '،،', '،، ', '،آ', '،آر', '،ا', '،اب', '،ات', '،اح', '،اخ', '،اس', '،اف', '،ال', '،ام', '،ان', '،او', '،آ', '،اپ', '،اک', '،ای', '،ب', '،با', '،بر', '،بغ', '،بل', '،بو', '،بي', '،بھ', '،بہ', '،بی', '،ت', '،تا', '،تق', '،تم', '،تو', '،تی', '،ج', '،جا', '،جب', '،جر', '،جس', '،جل', '،جن', '،جو', '،جھ', '،جہ', '،جی', '،جے', '،ح', '،حا', '،حص', '،حو', '،خ', '،خو', '،خی', '،د', '،دا', '،در', '،دل', '،دم', '،دو', '،دھ', '،ذ', '،ذر', '،ذی', '،ر', '،را', '،رس', '،رو', '،ری', '،ز', '،زی', '،س', '،سا', '،سب', '،سج', '،سر', '،سل', '،سم', '،سن', '،سو', '،سپ', '،سک', '،سی', '،ش', '،شر', '،شو', '،ص', '،صح', '،صد', '،صر', '،ع', '،عا', '،عد', '،عل', '،عم', '،عو', '،غ', '،غص', '،ف', '،فا', '،فر', '،فل', '،فٹ', '،ق', '،قب', '،قر', '،ل', '،لچ', '،لک', '،لگ', '،لہ', '،لی', '،م', '،ما', '،مت', '،مج', '،مح', '،مر', '،مس', '،مص', '،مغ', '،مف', '،مل', '،من', '،مو', '،مٹ', '،مک', '،مگ', '،مہ', '،می', '،ن', '،نا', '،نت', '،نز', '،نف', '،نک', '،نی', '،و', '،وا', '،ور', '،وس', '،وف', '،وٹ', '،وک', '،وہ', '،ٹ', '،ٹر', '،ٹم', '،پ', '،پا', '،پت', '،پو', '،پپ', '،پگ', '،پھ', '،پہ', '،پی', '،چ', '،چا', '،چل', '،چک', '،چھ', '،چی', '،ڈ', '،ڈا', '،ڈر', '،ڈی', '،ک', '،کا', '،کب', '،کر', '،کس', '،کش', '،کن', '،کو', '،کچ', '،کھ', '،کہ', '،کی', '،گ', '،گو', '،گھ', '،ہ', '،ہا', '،ہت', '،ہم', '،ہو', '،ی', '،یا', '،یو', '،یہ', '،‘', '،‘‘', '،’', '،’’', '؍', '؍ ', '؍د', '؍دس', 'ؒ', 'ؒہ', 'ؒہ ', '؛', '؛ ', '؟', '؟ ', \"؟'\", \"؟' \", '؟:', '؟: ', '؟ا', '؟او', '؟ت', '؟تی', '؟ص', '؟صا', '؟م', '؟می', '؟و', '؟وہ', '؟ٹ', '؟ٹر', '؟‘', '؟‘ا', '؟‘د', 'ء', 'ء ', 'ء)', 'ء) ', 'ء)ک', 'ءt', 'ءty', 'ء،', 'ء، ', 'ءت', 'ءتک', 'ءس', 'ءسے', 'ءم', 'ءمی', 'ءک', 'ءکو', 'ءکی', 'ءکے', 'آ', 'آ ', 'آؤ', 'آؤٹ', 'آؤگ', 'آؤں', 'آئ', 'آئر', 'آئز', 'آئس', 'آئل', 'آئن', 'آئي', 'آئٹ', 'آئی', 'آئے', 'آب', 'آب ', 'آبا', 'آبد', 'آبر', 'آبی', 'آت', 'آتا', 'آتش', 'آتی', 'آتے', 'آث', 'آثا', 'آج', 'آج ', 'آجا', 'آجک', 'آح', 'آحس', 'آحک', 'آخ', 'آخر', 'آخز', 'آد', 'آدم', 'آدھ', 'آذ', 'آذا', 'آر', 'آر ', 'آر)', 'آرا', 'آرت', 'آرز', 'آرس', 'آرم', 'آرن', 'آرو', 'آرٹ', 'آرچ', 'آرڈ', 'آرک', 'آرگ', 'آرہ', 'آری', 'آر‘', 'آز', 'آزا', 'آزر', 'آزم', 'آس', 'آس ', 'آسا', 'آست', 'آسم', 'آسن', 'آسو', 'آسٹ', 'آسک', 'آسی', 'آش', 'آشن', 'آشو', 'آشک', 'آشی', 'آص', 'آصف', 'آصل', 'آط', 'آطف', 'آع', 'آعص', 'آعو', 'آغ', 'آغا', 'آف', 'آف ', 'آفئ', 'آفا', 'آفت', 'آفر', 'آفس', 'آفي', 'آفی', 'آق', 'آقا', 'آل', 'آل ', 'آلا', 'آلل', 'آلو', 'آلہ', 'آلے', 'آم', 'آم ', 'آما', 'آمد', 'آمر', 'آمل', 'آمن', 'آمو', 'آمی', 'آن', 'آن ', 'آنا', 'آنت', 'آند', 'آنر', 'آنس', 'آنن', 'آنچ', 'آنک', 'آنہ', 'آنی', 'آنے', 'آن‘', 'آو', 'آوا', 'آور', 'آوو', 'آؤ', 'آوٹ', 'آي', 'آيا', 'آٹ', 'آٹ ', 'آٹا', 'آٹو', 'آٹھ', 'آٹے', 'آپ', 'آپ ', 'آپا', 'آپر', 'آپس', 'آپش', 'آپن', 'آپٹ', 'آپک', 'آچ', 'آچک', 'آڈ', 'آڈر', 'آڈی', 'آڑ', 'آڑ ', 'آڑٹ', 'آک', 'آکا', 'آکر', 'آکس', 'آگ', 'آگ ', 'آگ،', 'آگئ', 'آگا', 'آگر', 'آگم', 'آگہ', 'آگی', 'آگے', 'آں', 'آں ', 'آہ', 'آہر', 'آہس', 'آہن', 'آی', 'آی ', 'آیئ', 'آیا', 'آیل', 'آیو', 'آیی', 'آۓ', 'آۓ ', 'آۓگ', 'ؤ', 'ؤ ', 'ؤ!', 'ؤ! ', 'ؤ،', 'ؤ، ', 'ؤا', 'ؤاج', 'ؤت', 'ؤتھ', 'ؤث', 'ؤثر', 'ؤخ', 'ؤخر', 'ؤد', 'ؤد ', 'ؤدن', 'ؤر', 'ؤر ', 'ؤرو', 'ؤز', 'ؤز ', 'ؤزر', 'ؤزن', 'ؤس', 'ؤس ', 'ؤسن', 'ؤسے', 'ؤس‘', 'ؤش', 'ؤشا', 'ؤشی', 'ؤف', 'ؤف ', 'ؤق', 'ؤقف', 'ؤل', 'ؤلر', 'ؤلن', 'ؤلی', 'ؤن', 'ؤن ', 'ؤنس', 'ؤنٹ', 'ؤنڈ', 'ؤنی', 'ؤٹ', 'ؤٹ ', 'ؤٹ5', 'ؤٹر', 'ؤڈ', 'ؤڈ ', 'ؤڈر', 'ؤک', 'ؤکی', 'ؤگ', 'ؤگے', 'ؤں', 'ؤں ', 'ؤںا', 'ؤں‘', 'ؤ۔', \"ؤ۔'\", 'ؤ‘', 'ؤ‘‘', 'ئ', 'ئ ', 'ئئ', 'ئئڈ', 'ئب', 'ئب ', 'ئب،', 'ئبر', 'ئبل', 'ئبو', 'ئبٹ', 'ئبی', 'ئت', 'ئت ', 'ئتی', 'ئج', 'ئج ', 'ئجس', 'ئجی', 'ئح', 'ئحہ', 'ئد', 'ئد ', 'ئد)', 'ئدا', 'ئدخ', 'ئدو', 'ئدہ', 'ئدی', 'ئدے', 'ئر', 'ئر ', \"ئر'\", 'ئر،', 'ئرا', 'ئرب', 'ئرر', 'ئرز', 'ئرس', 'ئرش', 'ئرف', 'ئرل', 'ئرم', 'ئرن', 'ئرو', 'ئري', 'ئرپ', 'ئرڈ', 'ئرک', 'ئرہ', 'ئرۃ', 'ئری', 'ئرے', 'ئر‘', 'ئز', 'ئز ', 'ئز،', 'ئزر', 'ئزز', 'ئزص', 'ئزم', 'ئزن', 'ئزو', 'ئزڈ', 'ئزہ', 'ئزی', 'ئزے', 'ئس', 'ئس ', 'ئس،', 'ئسب', 'ئست', 'ئسز', 'ئسس', 'ئسن', 'ئسو', 'ئسٹ', 'ئسچ', 'ئسڈ', 'ئش', 'ئش ', \"ئش'\", 'ئش2', 'ئش،', 'ئشو', 'ئشي', 'ئشہ', 'ئشی', 'ئص', 'ئص ', 'ئض', 'ئض ', 'ئط', 'ئط ', 'ئط،', 'ئط۔', 'ئع', 'ئع ', 'ئف', 'ئف ', 'ئفا', 'ئفز', 'ئفل', 'ئفٹ', 'ئف‘', 'ئق', 'ئق ', 'ئقي', 'ئقہ', 'ئقی', 'ئقے', 'ئل', 'ئل ', 'ئل،', 'ئلا', 'ئلز', 'ئلس', 'ئلش', 'ئلو', 'ئلٹ', 'ئلڈ', 'ئلہ', 'ئلی', 'ئلے', 'ئل‘', 'ئم', 'ئم ', 'ئم)', 'ئم،', 'ئمت', 'ئمر', 'ئمز', 'ئمل', 'ئمن', 'ئمہ', 'ئمی', 'ئن', 'ئن ', 'ئن)', 'ئن،', 'ئنا', 'ئند', 'ئنر', 'ئنز', 'ئنس', 'ئنل', 'ئنم', 'ئنن', 'ئنو', 'ئنٹ', 'ئنڈ', 'ئنگ', 'ئنہ', 'ئنی', 'ئنے', 'ئن۔', 'ئن‘', 'ئو', 'ئو ', 'ئوز', 'ئوس', 'ئول', 'ئون', 'ئوو', 'ئوٹ', 'ئوڈ', 'ئوں', 'ئي', 'ئي)', 'ئيا', 'ئير', 'ئيش', 'ئيف', 'ئيل', 'ئين', 'ئيو', 'ئيٹ', 'ئيڈ', 'ئيک', 'ئيں', 'ئيے', 'ئِ', 'ئِے', 'ئٹ', 'ئٹ ', 'ئٹ\"', 'ئٹ)', 'ئٹ،', 'ئٹا', 'ئٹر', 'ئٹز', 'ئٹس', 'ئٹل', 'ئٹم', 'ئٹن', 'ئٹو', 'ئٹہ', 'ئٹی', 'ئپ', 'ئپ ', 'ئپ،', 'ئپر', 'ئچ', 'ئچ ', 'ئچے', 'ئڈ', 'ئڈ ', 'ئڈ)', 'ئڈر', 'ئڈن', 'ئڈی', 'ئژ', 'ئژ ', 'ئک', 'ئک ', 'ئکر', 'ئکس', 'ئکل', 'ئکہ', 'ئگ', 'ئگی', 'ئں', 'ئں ', 'ئہ', 'ئہ ', 'ئی', 'ئی ', 'ئی\"', \"ئی'\", 'ئی(', 'ئی)', 'ئی-', 'ئی1', 'ئی2', 'ئی9', 'ئی:', 'ئی،', 'ئی؟', 'ئیا', 'ئیب', 'ئیت', 'ئیج', 'ئید', 'ئیر', 'ئیز', 'ئیس', 'ئیش', 'ئیف', 'ئیل', 'ئیم', 'ئین', 'ئیو', 'ئیٹ', 'ئیپ', 'ئیڈ', 'ئیک', 'ئیگ', 'ئیں', 'ئیہ', 'ئیے', 'ئی۔', 'ئی‘', 'ئی“', 'ئے', 'ئے ', \"ئے'\", 'ئے(', 'ئے,', 'ئے.', 'ئے:', 'ئے،', 'ئے؟', 'ئےا', 'ئےب', 'ئےت', 'ئےج', 'ئےد', 'ئےز', 'ئےو', 'ئےک', 'ئےگ', 'ئےے', 'ئے۔', 'ئے‘', 'ا', 'ا ', 'ا!', 'ا!‘', 'ا\"', 'ا\" ', \"ا'\", \"ا' \", \"ا'۔\", 'ا(', 'ا( ', 'ا(l', 'ا(q', 'ا(ل', 'ا)', 'ا) ', 'ا)۔', 'ا,', 'ا, ', 'ا-', 'ا- ', 'ا.', 'ا. ', 'ا..', 'ا.ب', 'ا2', 'ا20', 'ا5', 'ا50', 'ا6', 'ا6ف', 'ا7', 'ا70', 'ا9', 'ا97', 'ا:', 'ا: ', 'ا?', 'ا?ئ', 'ا?خ', 'ا?ر', 'ا?غ', 'ا?م', 'ا?ن', 'ا?ی', 'ا،', 'ا، ', 'ا،1', 'ا،6', 'ا،ا', 'ا،ب', 'ا،ت', 'ا،ج', 'ا،د', 'ا،س', 'ا،م', 'ا،و', 'ا،پ', 'ا،چ', 'ا،ک', 'ا،ہ', 'ا،ی', 'ا،’', 'ا؍', 'ا؍ ', 'ا؟', 'ا؟ ', 'ا؟و', 'اء', 'اء ', 'اءt', 'اء،', 'اءس', 'اآ', 'اآس', 'اؤ', 'اؤ ', 'اؤ!', 'اؤ،', 'اؤا', 'اؤت', 'اؤد', 'اؤز', 'اؤس', 'اؤش', 'اؤل', 'اؤن', 'اؤٹ', 'اؤڈ', 'اؤک', 'اؤں', 'اؤ۔', 'اؤ‘', 'ائ', 'ائ ', 'ائئ', 'ائب', 'ائت', 'ائج', 'ائح', 'ائد', 'ائر', 'ائز', 'ائس', 'ائش', 'ائص', 'ائض', 'ائط', 'ائع', 'ائف', 'ائق', 'ائل', 'ائم', 'ائن', 'ائو', 'ائي', 'ائٹ', 'ائپ', 'ائڈ', 'ائک', 'ائی', 'ائے', 'اا', 'ااؤ', 'ااث', 'ااج', 'ااخ', 'ااس', 'ااظ', 'ااع', 'ااف', 'اال', 'اام', 'اان', 'ااو', 'اآ', 'ااک', 'ااگ', 'ااہ', 'اای', 'اب', 'اب ', 'اب!', 'اب)', 'اب2', 'اب:', 'اب،', 'ابا', 'ابت', 'ابخ', 'ابد', 'ابر', 'ابز', 'ابس', 'ابش', 'ابض', 'ابط', 'ابع', 'ابق', 'ابل', 'ابن', 'ابو', 'ابي', 'ابٹ', 'ابچ', 'ابڑ', 'ابھ', 'ابہ', 'ابی', 'اب۔', 'اب‘', 'ات', 'ات ', 'ات\"', \"ات'\", 'ات)', 'ات:', 'ات،', 'اتا', 'اتج', 'اتح', 'اتذ', 'اتر', 'اتس', 'اتع', 'اتف', 'اتل', 'اتم', 'اتن', 'اتو', 'اتي', 'اتِ', 'اتک', 'اتھ', 'اتہ', 'اتی', 'اتے', 'ات۔', 'ات‘', 'اث', 'اث ', 'اثآ', 'اثا', 'اثر', 'اثظ', 'اثل', 'اثن', 'اثو', 'اثھ', 'اثہ', 'اثی', 'اثے', 'اج', 'اج ', 'اج2', 'اج:', 'اج،', 'اجا', 'اجب', 'اجت', 'اجد', 'اجر', 'اجز', 'اجس', 'اجل', 'اجم', 'اجن', 'اجو', 'اجي', 'اجِ', 'اجپ', 'اجڑ', 'اجک', 'اجھ', 'اجہ', 'اجی', 'اجے', 'اح', 'اح ', 'احا', 'احب', 'احت', 'احث', 'احد', 'احس', 'احص', 'احظ', 'احق', 'احل', 'احم', 'احو', 'احي', 'احک', 'احی', 'اخ', 'اخ ', 'اخ،', 'اخا', 'اخب', 'اخت', 'اخد', 'اخذ', 'اخر', 'اخز', 'اخس', 'اخط', 'اخل', 'اخن', 'اخو', 'اخي', 'اخی', 'اد', 'اد ', 'اد(', 'اد)', 'اد1', 'اد4', 'اد:', 'اد،', 'ادا', 'ادب', 'ادت', 'ادث', 'ادج', 'ادد', 'ادر', 'ادش', 'ادع', 'ادف', 'ادل', 'ادم', 'ادن', 'ادو', 'ادي', 'ادِ', 'ادک', 'ادگ', 'ادں', 'ادھ', 'ادہ', 'ادی', 'ادے', 'اد۔', 'اذ', 'اذ ', 'اذب', 'اذر', 'اذو', 'اذی', 'ار', 'ار ', \"ار'\", 'ار(', 'ار,', 'ار2', 'ار3', 'ار5', 'ار8', 'ار،', 'ارآ', 'ارؤ', 'ارئ', 'ارا', 'ارب', 'ارت', 'ارث', 'ارج', 'ارح', 'ارخ', 'ارد', 'ارر', 'ارز', 'ارس', 'ارش', 'ارض', 'ارع', 'ارغ', 'ارف', 'ارق', 'ارل', 'ارم', 'ارن', 'ارو', 'اري', 'ارِ', 'ارٹ', 'ارپ', 'ارچ', 'ارڈ', 'ارک', 'ارگ', 'ارھ', 'ارہ', 'ارۂ', 'اری', 'ارے', 'ار۔', 'ار‘', 'ار’', 'از', 'از ', \"از'\", 'از2', 'از،', 'ازا', 'ازب', 'ازت', 'ازخ', 'ازد', 'ازس', 'ازش', 'ازع', 'ازق', 'ازل', 'ازم', 'ازن', 'ازو', 'ازي', 'ازِ', 'ازٹ', 'ازپ', 'ازک', 'ازگ', 'ازہ', 'ازی', 'ازے', 'از‘', 'اس', 'اس ', \"اس'\", 'اس:', 'اس،', 'اسا', 'اسب', 'است', 'اسح', 'اسد', 'اسر', 'اسز', 'اسس', 'اسط', 'اسع', 'اسف', 'اسل', 'اسم', 'اسن', 'اسو', 'اسي', 'اسُ', 'اسّ', 'اسٹ', 'اسپ', 'اسک', 'اسں', 'اسہ', 'اسی', 'اسے', 'اس‘', 'اش', 'اش ', 'اش،', 'اشا', 'اشب', 'اشت', 'اشد', 'اشر', 'اشع', 'اشف', 'اشل', 'اشم', 'اشن', 'اشو', 'اشي', 'اشٹ', 'اشپ', 'اشک', 'اشہ', 'اشی', 'اشے', 'اص', 'اص ', 'اصا', 'اصد', 'اصر', 'اصس', 'اصط', 'اصغ', 'اصل', 'اصو', 'اصہ', 'اصی', 'اصے', 'اض', 'اض ', 'اض:', 'اض،', 'اضا', 'اضح', 'اضر', 'اضع', 'اضل', 'اضم', 'اضو', 'اضِ', 'اضی', 'اض۔', 'اط', 'اط ', 'اطا', 'اطب', 'اطت', 'اطر', 'اطف', 'اطل', 'اطم', 'اطو', 'اطي', 'اطہ', 'اطی', 'اطے', 'اظ', 'اظ ', 'اظت', 'اظر', 'اظم', 'اظہ', 'اع', 'اع ', 'اع،', 'اعا', 'اعت', 'اعث', 'اعج', 'اعد', 'اعر', 'اعز', 'اعش', 'اعص', 'اعض', 'اعظ', 'اعل', 'اعم', 'اعو', 'اعی', 'اغ', 'اغ ', 'اغا', 'اغب', 'اغت', 'اغذ', 'اغل', 'اغن', 'اغو', 'اغی', 'اف', 'اف ', 'اف0', 'اف،', 'افا', 'افت', 'افح', 'افذ', 'افر', 'افز', 'افس', 'افظ', 'افع', 'افغ', 'افق', 'افل', 'افو', 'افي', 'افٹ', 'افک', 'افہ', 'افی', 'افے', 'اف۔', 'اق', 'اق ', 'اق2', 'اقا', 'اقب', 'اقت', 'اقد', 'اقر', 'اقس', 'اقش', 'اقص', 'اقع', 'اقف', 'اقل', 'اقو', 'اقہ', 'اقی', 'اقے', 'ال', 'ال ', 'ال\"', 'ال2', 'ال:', 'ال،', 'الء', 'الآ', 'الئ', 'الا', 'الب', 'الت', 'الج', 'الح', 'الخ', 'الد', 'الر', 'الز', 'الس', 'الش', 'الص', 'الط', 'الع', 'الغ', 'الف', 'الق', 'الل', 'الم', 'الن', 'الو', 'الي', 'الِ', 'الٹ', 'الپ', 'الچ', 'الڈ', 'الک', 'الگ', 'الہ', 'الی', 'الے', 'ال۔', 'ال‘', 'ال’', 'ام', 'ام ', 'ام\"', 'ام)', 'ام،', 'ام؛', 'امآ', 'اما', 'امب', 'امت', 'امج', 'امح', 'امد', 'امر', 'امز', 'امس', 'امش', 'امظ', 'امع', 'امف', 'امق', 'امل', 'امم', 'امن', 'امو', 'امي', 'امِ', 'امٹ', 'امپ', 'امک', 'امہ', 'امی', 'امے', 'ام۔', 'ام‘', 'ان', 'ان ', \"ان'\", 'ان)', 'ان1', 'ان2', 'ان3', 'ان:', 'ان،', 'انئ', 'انا', 'انب', 'انت', 'انج', 'انح', 'انخ', 'اند', 'انر', 'انز', 'انس', 'انش', 'انص', 'انض', 'انع', 'انف', 'انق', 'انل', 'انم', 'انن', 'انو', 'اني', 'انِ', 'انٹ', 'انپ', 'انچ', 'انڈ', 'انژ', 'انک', 'انگ', 'انھ', 'انہ', 'انی', 'انے', 'ان۔', 'ان‘', 'او', 'او ', 'او)', 'او?', 'او¿', 'اوؤ', 'اوئ', 'اوا', 'اوب', 'اوت', 'اوج', 'اود', 'اور', 'اوز', 'اوس', 'اوش', 'اوض', 'اوق', 'اول', 'اوم', 'اون', 'اوو', 'اوي', 'اوّ', 'اؤ', 'اوٴ', 'اوٹ', 'اوپ', 'اوڈ', 'اوڑ', 'اوک', 'اوں', 'اوہ', 'اوی', 'اوے', 'اي', 'ايا', 'ايب', 'ايت', 'ايج', 'اير', 'ايس', 'ايش', 'ايف', 'ايل', 'ايم', 'اين', 'ايو', 'ايٹ', 'ايپ', 'ايڈ', 'ايک', 'ايگ', 'اً', 'اً ', 'اً1', 'اًن', 'اًک', 'اًہ', 'اٌ', 'اٌ ', 'اَ', 'اَ ', 'اَخ', 'اَن', 'اََ', 'اَپ', 'اُ', 'اُب', 'اُت', 'اُد', 'اُر', 'اُس', 'اُص', 'اُم', 'اُن', 'اُٹ', 'اُچ', 'اُڑ', 'اُگ', 'اِ', 'اِد', 'اِس', 'اِن', 'اِٹ', 'اِی', 'اْ', 'اْس', 'آ', 'آ ', 'آؤ', 'آئ', 'آب', 'آت', 'آث', 'آج', 'آخ', 'آد', 'آذ', 'آر', 'آز', 'آس', 'آش', 'آص', 'آغ', 'آف', 'آل', 'آم', 'آن', 'آو', 'آٹ', 'آپ', 'آچ', 'آڈ', 'آڑ', 'آک', 'آگ', 'آں', 'آہ', 'آی', 'اٴ', 'اٴْ', 'اٹ', 'اٹ ', 'اٹ:', 'اٹا', 'اٹت', 'اٹر', 'اٹز', 'اٹس', 'اٹش', 'اٹل', 'اٹم', 'اٹن', 'اٹو', 'اٹک', 'اٹھ', 'اٹی', 'اٹے', 'اپ', 'اپ ', \"اپ'\", 'اپ،', 'اپا', 'اپت', 'اپر', 'اپس', 'اپش', 'اپل', 'اپم', 'اپن', 'اپو', 'اپٹ', 'اپپ', 'اپک', 'اپھ', 'اپہ', 'اپی', 'اپے', 'اپ‘', 'اپ“', 'اچ', 'اچ ', 'اچ)', 'اچ،', 'اچا', 'اچت', 'اچم', 'اچن', 'اچو', 'اچک', 'اچھ', 'اچہ', 'اچی', 'اڈ', 'اڈ ', 'اڈ2', 'اڈا', 'اڈر', 'اڈز', 'اڈس', 'اڈل', 'اڈن', 'اڈو', 'اڈپ', 'اڈک', 'اڈھ', 'اڈی', 'اڈے', 'اڑ', 'اڑ ', 'اڑا', 'اڑت', 'اڑد', 'اڑن', 'اڑو', 'اڑٹ', 'اڑھ', 'اڑی', 'اڑے', 'اک', 'اک ', 'اک-', 'اک،', 'اکا', 'اکب', 'اکت', 'اکث', 'اکر', 'اکز', 'اکس', 'اکش', 'اکف', 'اکل', 'اکم', 'اکن', 'اکو', 'اکي', 'اکُ', 'اکٹ', 'اکپ', 'اکڑ', 'اکھ', 'اکہ', 'اکی', 'اکے', 'اک۔', 'اگ', 'اگ ', 'اگا', 'اگت', 'اگر', 'اگز', 'اگس', 'اگل', 'اگم', 'اگن', 'اگو', 'اگپ', 'اگہ', 'اگی', 'اگے', 'اں', 'اں ', \"اں'\", 'اں(', 'اں3', 'اں:', 'اں،', 'اں؟', 'اںا', 'اںت', 'اںپ', 'اںچ', 'اںک', 'اںی', 'اں‘', 'اھ', 'اھو', 'اھے', 'اہ', 'اہ ', 'اہ7', 'اہ،', 'اہئ', 'اہا', 'اہب', 'اہت', 'اہد', 'اہر', 'اہش', 'اہل', 'اہم', 'اہن', 'اہو', 'اہي', 'اہِ', 'اہٹ', 'اہک', 'اہگ', 'اہی', 'اہے', 'ای', 'ای ', 'ای(', 'ای)', 'ای5', 'ای:', 'ای،', 'ایئ', 'ایا', 'ایب', 'ایت', 'ایث', 'ایج', 'اید', 'ایر', 'ایز', 'ایس', 'ایش', 'ایع', 'ایف', 'ایل', 'ایم', 'این', 'ایو', 'ایٹ', 'ایپ', 'ایچ', 'ایڈ', 'ایڑ', 'ایک', 'ایگ', 'ایہ', 'ایی', 'ایے', 'اے', 'اے ', 'اے)', 'اے:', 'اے،', 'اےج', 'اےک', 'اۓ', 'اۓ ', 'ا۔', 'ا۔ ', 'ا۔\"', \"ا۔'\", 'ا۔1', 'ا۔2', 'ا۔8', 'ا۔9', 'ا۔،', 'ا۔ا', 'ا۔ب', 'ا۔ت', 'ا۔ج', 'ا۔ح', 'ا۔خ', 'ا۔د', 'ا۔ذ', 'ا۔ر', 'ا۔ز', 'ا۔س', 'ا۔ش', 'ا۔ع', 'ا۔ف', 'ا۔ل', 'ا۔م', 'ا۔ن', 'ا۔و', 'ا۔ٹ', 'ا۔پ', 'ا۔چ', 'ا۔ڈ', 'ا۔ک', 'ا۔گ', 'ا۔ہ', 'ا۔ی', 'ا۔۔', 'ا۔‘', 'ا۔’', 'ا۔“', 'ا—', 'ا—ف', 'ا‘', 'ا‘ ', 'ا‘،', 'ا‘ک', 'ا‘۔', 'ا‘‘', 'ا’', 'ا’ ', 'ا’۔', 'ا’’', 'ا“', 'ا“ ', 'اﺅ', 'اﺅ ', 'اﺅن', 'اﺅٹ', 'اﺅں', 'ب', 'ب ', 'ب!', 'ب! ', 'ب)', 'ب) ', 'ب2', 'ب20', 'ب25', 'ب3', 'ب34', 'ب:', 'ب: ', 'ب،', 'ب، ', 'ب،ٹ', 'بآ', 'بآس', 'بئ', 'بئ ', 'بئب', 'بئی', 'با', 'با ', 'با،', 'باء', 'باآ', 'باؤ', 'بائ', 'باا', 'باب', 'بات', 'باج', 'باح', 'باخ', 'باد', 'باذ', 'بار', 'باز', 'باس', 'باش', 'باص', 'باض', 'باع', 'باغ', 'باق', 'بال', 'بام', 'بان', 'باو', 'باً', 'باٌ', 'باَ', 'بآ', 'باپ', 'باڈ', 'باڑ', 'باک', 'باگ', 'باہ', 'بای', 'باۓ', 'با’', 'باﺅ', 'بب', 'بب ', 'ببب', 'ببر', 'ببل', 'ببی', 'بت', 'بت ', 'بت،', 'بتا', 'بتد', 'بتر', 'بتل', 'بتم', 'بتو', 'بتک', 'بتہ', 'بتی', 'بج', 'بج ', 'بجا', 'بجر', 'بجل', 'بجن', 'بجٹ', 'بجک', 'بجے', 'بح', 'بح ', 'بحا', 'بحث', 'بحر', 'بحق', 'بحو', 'بحی', 'بخ', 'بخ ', 'بخا', 'بخت', 'بخش', 'بخل', 'بخو', 'بد', 'بد ', 'بدا', 'بدب', 'بدت', 'بدح', 'بدد', 'بدر', 'بدز', 'بدس', 'بدص', 'بدع', 'بدق', 'بدل', 'بدن', 'بدو', 'بدي', 'بدگ', 'بدھ', 'بدہ', 'بدی', 'بذ', 'بذا', 'بذر', 'بذو', 'بر', 'بر ', 'بر(', 'بر)', 'بر/', 'بر1', 'بر2', 'بر:', 'بر،', 'برآ', 'برؤ', 'برا', 'برب', 'برت', 'برج', 'برخ', 'برد', 'برر', 'برز', 'برس', 'برش', 'برص', 'برط', 'برع', 'برف', 'برق', 'برل', 'برم', 'برن', 'برو', 'بري', 'برِ', 'برٹ', 'برپ', 'برڈ', 'برک', 'برگ', 'برھ', 'برہ', 'بری', 'برے', 'بر‘', 'بز', 'بز ', 'بز\"', 'بز)', 'بز،', 'بزا', 'بزر', 'بزن', 'بزو', 'بزي', 'بزڈ', 'بزہ', 'بزی', 'بزے', 'بس', 'بس ', 'بسا', 'بست', 'بسر', 'بسن', 'بسو', 'بسٹ', 'بسڈ', 'بسک', 'بسی', 'بسے', 'بش', 'بش ', 'بشا', 'بشر', 'بشم', 'بشک', 'بشی', 'بص', 'بصا', 'بصر', 'بصو', 'بصی', 'بض', 'بض ', 'بض،', 'بضہ', 'بضے', 'بط', 'بط ', 'بطو', 'بطگ', 'بطہ', 'بطی', 'بطے', 'بظ', 'بظا', 'بع', 'بع ', 'بعث', 'بعد', 'بعض', 'بعق', 'بعل', 'بعي', 'بعی', 'بغ', 'بغا', 'بغض', 'بغو', 'بغی', 'بق', 'بق ', 'بق،', 'بقا', 'بقت', 'بقو', 'بقہ', 'بقی', 'بقے', 'بق۔', 'بل', 'بل ', 'بل،', 'بلا', 'بلب', 'بلت', 'بلج', 'بلد', 'بلر', 'بلز', 'بلس', 'بلغ', 'بلل', 'بلن', 'بلو', 'بلي', 'بلِ', 'بلٹ', 'بلڈ', 'بلک', 'بلگ', 'بلہ', 'بلی', 'بلے', 'بل‘', 'بم', 'بم ', 'بمب', 'بمر', 'بمش', 'بمق', 'بمل', 'بمو', 'بن', 'بن ', 'بن،', 'بنا', 'بنت', 'بنج', 'بند', 'بنر', 'بنز', 'بنس', 'بنف', 'بنن', 'بنو', 'بنٹ', 'بنڈ', 'بنک', 'بنگ', 'بنہ', 'بنی', 'بنے', 'بو', 'بو ', 'بو:', 'بو،', 'بوئ', 'بوا', 'بوب', 'بوت', 'بوج', 'بود', 'بور', 'بوز', 'بوس', 'بوض', 'بوط', 'بوظ', 'بوف', 'بوق', 'بول', 'بوم', 'بون', 'بوٹ', 'بوچ', 'بوڈ', 'بوڑ', 'بوک', 'بوگ', 'بوں', 'بوہ', 'بوی', 'بوے', 'بي', 'بيا', 'بيت', 'بير', 'بيس', 'بيش', 'بيط', 'بيل', 'بيم', 'بين', 'بيو', 'بيٹ', 'بيڈ', 'بيک', 'بيگ', 'بيہ', 'بُ', 'بُر', 'بُل', 'بُو', 'بُک', 'بُھ', 'بِ', 'بِ ', 'بِٹ', 'بِڈ', 'بّ', 'بّی', 'بٹ', 'بٹ ', 'بٹا', 'بٹر', 'بٹس', 'بٹل', 'بٹن', 'بٹو', 'بٹھ', 'بٹی', 'بپ', 'بپا', 'بپت', 'بچ', 'بچ ', 'بچا', 'بچت', 'بچن', 'بچو', 'بچپ', 'بچگ', 'بچھ', 'بچہ', 'بچی', 'بچے', 'بڈ', 'بڈی', 'بڑ', 'بڑ ', 'بڑا', 'بڑو', 'بڑھ', 'بڑی', 'بڑے', 'بک', 'بک ', \"بک'\", 'بک،', 'بکا', 'بکث', 'بکد', 'بکر', 'بکن', 'بکھ', 'بکہ', 'بکی', 'بکے', 'بک‘', 'بگ', 'بگ ', 'بگ)', 'بگا', 'بگڑ', 'بگک', 'بگھ', 'بھ', 'بھ ', 'بھا', 'بھب', 'بھت', 'بھج', 'بھر', 'بھل', 'بھن', 'بھو', 'بھي', 'بھُ', 'بھٹ', 'بھڑ', 'بھگ', 'بھی', 'بھے', 'بہ', 'بہ ', 'بہ2', 'بہا', 'بہب', 'بہت', 'بہر', 'بہم', 'بہن', 'بہو', 'بہہ', 'بہی', 'بہ۔', 'بی', 'بی ', 'بی)', 'بی6', 'بی،', 'بیآ', 'بیئ', 'بیا', 'بیب', 'بیت', 'بیج', 'بیخ', 'بید', 'بیر', 'بیز', 'بیس', 'بیش', 'بیض', 'بیط', 'بیع', 'بیق', 'بیل', 'بیم', 'بین', 'بیو', 'بیٰ', 'بیٹ', 'بیچ', 'بیڈ', 'بیک', 'بیگ', 'بیں', 'بیہ', 'بیی', 'بی۔', 'بی‘', 'بیﷺ', 'بے', 'بے ', 'بےa', 'بے،', 'بےت', 'بےج', 'بےح', 'بےش', 'بےع', 'بےق', 'بےن', 'بےو', 'بےک', 'ب۔', 'ب۔ ', 'ب‘', 'ب‘ ', 'ب‘‘', 'ت', 'ت ', 'ت\"', 'ت\" ', \"ت'\", \"ت' \", 'ت(', 'ت(a', 'ت(ت', 'ت)', 'ت) ', 'ت)ا', 'ت)پ', 'ت:', 'ت: ', 'ت:ب', 'ت،', 'ت، ', 'ت،ب', 'ت،ت', 'ت،ج', 'ت،د', 'ت،ر', 'ت،غ', 'ت،م', 'ت،چ', 'ت؟', 'ت؟ ', 'تئ', 'تئی', 'تا', 'تا ', \"تا'\", 'تا:', 'تا،', 'تا؟', 'تاؤ', 'تائ', 'تاا', 'تاب', 'تات', 'تاث', 'تاج', 'تاح', 'تاخ', 'تاد', 'تار', 'تاز', 'تاس', 'تاش', 'تاط', 'تاق', 'تال', 'تام', 'تان', 'تاو', 'تاي', 'تاً', 'تاَ', 'تاپ', 'تاک', 'تاہ', 'تای', 'تا۔', 'تا‘', 'تب', 'تب ', 'تبا', 'تبد', 'تبر', 'تبص', 'تبل', 'تبن', 'تبو', 'تبہ', 'تبی', 'تت', 'تت ', 'تتا', 'تث', 'تثن', 'تج', 'تجا', 'تجد', 'تجر', 'تجز', 'تجس', 'تجو', 'تجھ', 'تجہ', 'تح', 'تح ', 'تحا', 'تحت', 'تحد', 'تحر', 'تحس', 'تحص', 'تحف', 'تحق', 'تحم', 'تحو', 'تحک', 'تحی', 'تخ', 'تخا', 'تخب', 'تخت', 'تخط', 'تخف', 'تخل', 'تخم', 'تخي', 'تخی', 'تد', 'تدا', 'تدب', 'تدر', 'تدع', 'تدل', 'تذ', 'تذل', 'تذک', 'تذہ', 'تر', 'تر ', 'تر2', 'تر،', 'ترا', 'ترب', 'ترت', 'ترج', 'ترد', 'ترذ', 'ترس', 'ترش', 'ترض', 'ترغ', 'ترف', 'ترق', 'ترل', 'ترم', 'ترن', 'ترو', 'تري', 'ترِ', 'ترپ', 'ترک', 'ترہ', 'تری', 'ترے', 'تر‘', 'تز', 'تزئ', 'تزا', 'تس', 'تس ', 'تسا', 'تست', 'تسخ', 'تسر', 'تسل', 'تسم', 'تسو', 'تسک', 'تسی', 'تش', 'تش ', 'تشا', 'تشخ', 'تشد', 'تشر', 'تشو', 'تشک', 'تشہ', 'تص', 'تص ', 'تصا', 'تصد', 'تصر', 'تصو', 'تض', 'تضا', 'تضح', 'تضٰ', 'تط', 'تطا', 'تظ', 'تظا', 'تظر', 'تظم', 'تع', 'تعا', 'تعب', 'تعج', 'تعد', 'تعر', 'تعز', 'تعص', 'تعط', 'تعق', 'تعل', 'تعم', 'تعي', 'تعک', 'تعی', 'تف', 'تف ', 'تفا', 'تفت', 'تفر', 'تفس', 'تفص', 'تفض', 'تفق', 'تفو', 'تفي', 'تفک', 'تفہ', 'تفی', 'تق', 'تقا', 'تقب', 'تقد', 'تقر', 'تقس', 'تقص', 'تقل', 'تقو', 'تل', 'تل ', 'تلا', 'تلخ', 'تلف', 'تلق', 'تلل', 'تلن', 'تلو', 'تلی', 'تلے', 'تم', 'تم ', 'تما', 'تمب', 'تمع', 'تمغ', 'تمل', 'تمن', 'تمي', 'تمھ', 'تمہ', 'تمی', 'تمے', 'تن', 'تن ', 'تن)', 'تنا', 'تنب', 'تنخ', 'تند', 'تنز', 'تنص', 'تنظ', 'تنق', 'تنم', 'تنو', 'تنڈ', 'تنک', 'تنگ', 'تنہ', 'تنی', 'تنے', 'تو', 'تو ', 'تو8', 'توئ', 'توا', 'توب', 'توث', 'توج', 'توح', 'تور', 'توس', 'توص', 'توق', 'تول', 'توم', 'تون', 'توو', 'توپ', 'توڑ', 'توک', 'توں', 'توہ', 'توی', 'تو’', 'تي', 'تيج', 'تير', 'تيز', 'تيس', 'تيش', 'تيل', 'تين', 'تيں', 'تَ', 'تَا', 'تِ', 'تِ ', 'تِل', 'تّ', 'تّب', 'تّر', 'تّی', 'تپ', 'تپا', 'تڑ', 'تڑک', 'تڑی', 'تژ', 'تژے', 'تک', 'تک ', 'تک1', 'تک،', 'تکا', 'تکب', 'تکر', 'تکس', 'تکف', 'تکل', 'تکم', 'تکن', 'تکو', 'تکی', 'تکے', 'تک۔', 'تگ', 'تگا', 'تگو', 'تگی', 'تھ', 'تھ ', 'تھ\"', 'تھ1', 'تھ5', 'تھe', 'تھ،', 'تھا', 'تھر', 'تھل', 'تھم', 'تھن', 'تھو', 'تھي', 'تھپ', 'تھک', 'تھی', 'تھے', 'تھ‘', 'تہ', 'تہ ', 'تہ،', 'تہا', 'تہت', 'تہذ', 'تہر', 'تہل', 'تہو', 'تہک', 'تہہ', 'تہی', 'تہ‘', 'تہ’', 'تی', 'تی ', 'تی،', 'تیئ', 'تیا', 'تیب', 'تیج', 'تیر', 'تیز', 'تیس', 'تیش', 'تیل', 'تیم', 'تین', 'تیو', 'تیٰ', 'تیک', 'تیں', 'تیہ', 'تیے', 'تی۔', 'تی‘', 'تے', 'تے ', 'تے)', 'تے-', 'تے،', 'تے؟', 'تےت', 'تےد', 'تےہ', 'تے۔', 'تے‘', 'ت۔', 'ت۔ ', 'ت‘', 'ت‘ ', 'ت‘‘', 'ت’', 'ت’ ', 'ث', 'ث ', 'ثآ', 'ثآ ', 'ثآٹ', 'ثا', 'ثاب', 'ثات', 'ثاث', 'ثار', 'ثاف', 'ثاق', 'ثال', 'ثان', 'ثب', 'ثبا', 'ثبت', 'ثبو', 'ثر', 'ثر ', 'ثر:', 'ثر،', 'ثرا', 'ثرت', 'ثرد', 'ثرم', 'ثرو', 'ثرگ', 'ثرہ', 'ثری', 'ثظ', 'ثظر', 'ثق', 'ثقا', 'ثقل', 'ثقی', 'ثل', 'ثل ', 'ثلا', 'ثلت', 'ثم', 'ثما', 'ثن', 'ثنا', 'ثنو', 'ثنٰ', 'ثو', 'ثوم', 'ثوں', 'ثي', 'ثيہ', 'ثِ', 'ثِ ', 'ثھ', 'ثھا', 'ثہ', 'ثہ ', 'ثی', 'ثی ', 'ثیت', 'ثیر', 'ثیق', 'ثیل', 'ثیم', 'ثے', 'ثے ', 'ج', 'ج ', \"ج'\", \"ج' \", 'ج(', 'ج(ا', 'ج2', 'ج25', 'ج:', 'ج: ', 'ج،', 'ج، ', 'ج،ت', 'ج،ر', 'جئ', 'جئم', 'جئے', 'جا', 'جا ', 'جاؤ', 'جائ', 'جاب', 'جات', 'جاج', 'جاد', 'جاذ', 'جار', 'جاز', 'جاس', 'جاف', 'جال', 'جام', 'جان', 'جاو', 'جاپ', 'جاچ', 'جاڑ', 'جاک', 'جاگ', 'جاں', 'جاہ', 'جای', 'جاے', 'جاۓ', 'جب', 'جب ', 'جبا', 'جبر', 'جبو', 'جبک', 'جت', 'جت ', 'جتا', 'جتب', 'جتج', 'جتم', 'جتن', 'جتو', 'جتَ', 'جتی', 'جتے', 'جج', 'جج ', 'ججز', 'جح', 'جحا', 'جد', 'جد ', 'جدا', 'جدت', 'جدو', 'جدي', 'جدی', 'جدے', 'جذ', 'جذب', 'جر', 'جر ', \"جر'\", 'جر،', 'جرا', 'جرب', 'جرت', 'جرث', 'جرز', 'جرس', 'جرم', 'جرن', 'جرو', 'جري', 'جرک', 'جرگ', 'جرں', 'جرہ', 'جری', 'جز', 'جز ', 'جزئ', 'جزا', 'جزم', 'جزو', 'جزی', 'جس', 'جس ', 'جسا', 'جست', 'جسس', 'جسم', 'جسن', 'جسٹ', 'جسک', 'جسی', 'جسے', 'جش', 'جشن', 'جشی', 'جص', 'جصو', 'جع', 'جعف', 'جعل', 'جغ', 'جغر', 'جف', 'جفی', 'جل', 'جل ', 'جلا', 'جلت', 'جلد', 'جلس', 'جلن', 'جلو', 'جلي', 'جلگ', 'جلی', 'جم', 'جم ', 'جما', 'جمد', 'جمش', 'جمع', 'جمل', 'جمن', 'جمو', 'جمپ', 'جمہ', 'جمی', 'جمے', 'جن', 'جن ', 'جن:', 'جن،', 'جنا', 'جنب', 'جنت', 'جنر', 'جنز', 'جنس', 'جنش', 'جنل', 'جنم', 'جنو', 'جنٹ', 'جنڈ', 'جنک', 'جنگ', 'جنھ', 'جنہ', 'جنی', 'جنے', 'جو', 'جو ', 'جو2', 'جو،', 'جوؤ', 'جوئ', 'جوا', 'جوب', 'جوت', 'جوج', 'جود', 'جور', 'جوز', 'جوس', 'جوش', 'جوع', 'جوف', 'جول', 'جوم', 'جون', 'جوپ', 'جوڈ', 'جوڑ', 'جوک', 'جوں', 'جوھ', 'جوہ', 'جوی', 'جي', 'جيب', 'جيح', 'جير', 'جيس', 'جيل', 'جيم', 'جين', 'جيو', 'جيٹ', 'جيپ', 'جيک', 'جُ', 'جُن', 'جِ', 'جِل', 'جِم', 'جِن', 'جٹ', 'جٹ ', 'جٹس', 'جٹل', 'جٹ‘', 'جپ', 'جپئ', 'جپا', 'جپش', 'جپو', 'جڑ', 'جڑ ', 'جڑا', 'جڑن', 'جڑو', 'جڑی', 'جڑے', 'جک', 'جک ', 'جکا', 'جکر', 'جکس', 'جکش', 'جکل', 'جکم', 'جکو', 'جکٹ', 'جکڑ', 'جکے', 'جگ', 'جگ ', 'جگا', 'جگت', 'جگر', 'جگم', 'جگہ', 'جگے', 'جھ', 'جھ ', 'جھا', 'جھت', 'جھج', 'جھر', 'جھس', 'جھل', 'جھم', 'جھن', 'جھو', 'جھٹ', 'جھپ', 'جھڑ', 'جھک', 'جھگ', 'جھی', 'جھے', 'جہ', 'جہ ', 'جہا', 'جہت', 'جہد', 'جہن', 'جہو', 'جۂ', 'جہپ', 'جہی', 'جی', 'جی ', 'جی)', 'جی،', 'جیئ', 'جیا', 'جیب', 'جیت', 'جیج', 'جیح', 'جید', 'جیر', 'جیز', 'جیس', 'جیش', 'جیف', 'جیل', 'جیم', 'جین', 'جیو', 'جیي', 'جیٹ', 'جیڈ', 'جیک', 'جیں', 'جیے', 'جی۔', 'جی‘', 'جے', 'جے ', 'جے۔', 'ح', 'ح ', 'حآ', 'حآل', 'حا', 'حا ', 'حائ', 'حات', 'حاج', 'حاد', 'حاذ', 'حار', 'حاس', 'حاش', 'حاص', 'حاض', 'حاط', 'حاظ', 'حاف', 'حاق', 'حال', 'حام', 'حان', 'حاو', 'حاک', 'حب', 'حب ', 'حبت', 'حبز', 'حبش', 'حبل', 'حبو', 'حبہ', 'حبی', 'حت', 'حت ', \"حت'\", 'حت،', 'حتا', 'حتج', 'حتد', 'حتر', 'حتس', 'حتم', 'حتو', 'حتي', 'حتی', 'حث', 'حث ', 'حثہ', 'حج', 'حج ', 'حجا', 'حجم', 'حد', 'حد ', \"حد'\", 'حد،', 'حدا', 'حدب', 'حدت', 'حدش', 'حدو', 'حدگ', 'حدہ', 'حدی', 'حذ', 'حذف', 'حر', 'حر ', 'حرا', 'حرج', 'حرح', 'حرف', 'حرم', 'حرو', 'حري', 'حرک', 'حری', 'حز', 'حزب', 'حس', 'حسا', 'حسب', 'حسد', 'حسر', 'حسن', 'حسو', 'حسي', 'حسی', 'حش', 'حش ', 'حشت', 'حشر', 'حص', 'حصا', 'حصر', 'حصص', 'حصو', 'حصّ', 'حصہ', 'حصی', 'حصے', 'حض', 'حض ', 'حضر', 'حضو', 'حط', 'حط ', 'حظ', 'حظو', 'حظہ', 'حف', 'حفا', 'حفظ', 'حفل', 'حفو', 'حفہ', 'حفی', 'حفے', 'حق', 'حق ', 'حق،', 'حقا', 'حقد', 'حقق', 'حقو', 'حقي', 'حقہ', 'حقی', 'حل', 'حل ', 'حلا', 'حلف', 'حلق', 'حلو', 'حلہ', 'حلی', 'حلے', 'حل۔', 'حم', 'حم ', 'حما', 'حمت', 'حمد', 'حمر', 'حمز', 'حمل', 'حمو', 'حمي', 'حمٰ', 'حن', 'حنت', 'حنی', 'حو', 'حو ', 'حوا', 'حوب', 'حوت', 'حور', 'حوش', 'حوص', 'حول', 'حوم', 'حوں', 'حوی', 'حي', 'حيا', 'حيت', 'حيد', 'حير', 'حُ', 'حُل', 'حِ', 'حِ ', 'حِد', 'حٖ', 'حٖف', 'حپ', 'حپی', 'حک', 'حکا', 'حکم', 'حکو', 'حکہ', 'حکی', 'حہ', 'حہ ', 'حہق', 'حی', 'حی ', 'حی)', 'حی،', 'حیا', 'حیت', 'حیث', 'حیح', 'حید', 'حیر', 'حیط', 'حیل', 'حیم', 'حین', 'حیو', 'حیک', 'حیہ', 'حیی', 'حے', 'حے ', 'حے،', 'ح۔', 'ح۔ ', 'خ', 'خ ', 'خ،', 'خ، ', 'خ،ج', 'خآ', 'خآن', 'خؤ', 'خؤش', 'خا', 'خا ', 'خائ', 'خاب', 'خات', 'خار', 'خاص', 'خاط', 'خال', 'خام', 'خان', 'خاو', 'خاک', 'خاں', 'خب', 'خب ', 'خبا', 'خبر', 'خت', 'خت ', 'خت،', 'خت؟', 'ختا', 'ختت', 'ختر', 'ختص', 'ختف', 'ختل', 'ختم', 'ختو', 'ختہ', 'ختی', 'خد', 'خد ', 'خدا', 'خدش', 'خدم', 'خدو', 'خدی', 'خذ', 'خذ ', 'خر', 'خر ', 'خرا', 'خرب', 'خرد', 'خرز', 'خرو', 'خري', 'خرچ', 'خرک', 'خرگ', 'خری', 'خز', 'خز ', 'خزا', 'خزز', 'خس', 'خسا', 'خست', 'خسر', 'خش', 'خش ', 'خشا', 'خشت', 'خشخ', 'خشو', 'خشک', 'خشی', 'خص', 'خص ', 'خصت', 'خصو', 'خصی', 'خط', 'خط ', 'خطا', 'خطب', 'خطر', 'خطو', 'خطہ', 'خطی', 'خطے', 'خط‘', 'خف', 'خفي', 'خفہ', 'خفی', 'خل', 'خل ', 'خل،', 'خلا', 'خلت', 'خلص', 'خلط', 'خلف', 'خلل', 'خلو', 'خلي', 'خلہ', 'خلی', 'خلے', 'خم', 'خم ', 'خمو', 'خمی', 'خن', 'خن ', 'خن،', 'خند', 'خنز', 'خنو', 'خو', 'خوا', 'خوب', 'خود', 'خوذ', 'خور', 'خوش', 'خوف', 'خوق', 'خول', 'خون', 'خوں', 'خي', 'خيا', 'خير', 'خيز', 'خيل', 'خيہ', 'خہ', 'خہ ', 'خی', 'خی ', 'خی،', 'خیا', 'خیب', 'خیر', 'خیز', 'خیص', 'خیل', 'خیو', 'خیں', 'خے', 'خے ', 'خ‘', 'خ‘ ', 'د', 'د ', 'د\"', 'د\"ک', \"د'\", \"د' \", 'د(', 'د( ', 'د(l', 'د(ا', 'د(ن', 'د(و', 'د(ڈ', 'د)', 'د) ', 'د1', 'د1ل', 'د2', 'د22', 'د4', 'د40', 'د41', 'د:', 'د: ', 'د،', 'د، ', 'د،5', 'د،ع', 'د،ن', 'د،ک', 'دآ', 'دآب', 'دآر', 'دآس', 'دآف', 'دؤ', 'دؤ ', 'دئ', 'دئي', 'دئی', 'دئے', 'دا', 'دا ', 'دا،', 'داء', 'داؤ', 'دائ', 'داب', 'دات', 'داح', 'داخ', 'داد', 'دار', 'داز', 'داس', 'داش', 'داع', 'داغ', 'داف', 'داق', 'دال', 'دام', 'دان', 'داو', 'داي', 'دآ', 'داپ', 'داک', 'داں', 'داہ', 'دای', 'دب', 'دب ', 'دب،', 'دبئ', 'دبا', 'دبخ', 'دبر', 'دبل', 'دبن', 'دبو', 'دبھ', 'دبی', 'دت', 'دت ', \"دت'\", 'دتا', 'دتر', 'دتم', 'دتو', 'دتک', 'دتھ', 'دتی', 'دتے', 'دث', 'دثا', 'دثر', 'دثہ', 'دثے', 'دج', 'دجم', 'دجہ', 'دح', 'دح ', 'دحا', 'دحص', 'دخ', 'دخت', 'دخل', 'دخو', 'دد', 'دد ', 'دد،', 'ددا', 'ددس', 'ددل', 'ددو', 'ددک', 'ددگ', 'ددی', 'دذ', 'دذی', 'در', 'در ', \"در'\", 'در،', 'درآ', 'درا', 'درب', 'درت', 'درج', 'درح', 'درخ', 'درد', 'درز', 'درس', 'درش', 'درع', 'درق', 'درل', 'درم', 'درن', 'درو', 'دري', 'درپ', 'درچ', 'درک', 'درگ', 'درھ', 'درہ', 'دری', 'درے', 'در۔', 'در‘', 'دز', 'دز ', 'دزب', 'دس', 'دس ', 'دسا', 'دست', 'دسل', 'دسم', 'دسو', 'دسٹ', 'دسہ', 'دسے', 'دش', 'دش ', 'دشا', 'دشف', 'دشم', 'دشو', 'دشہ', 'دشے', 'دص', 'دصل', 'دصو', 'دع', 'دع ', 'دعا', 'دعل', 'دعم', 'دعن', 'دعو', 'دعی', 'دغ', 'دغذ', 'دغن', 'دف', 'دف ', 'دفا', 'دفت', 'دفع', 'دفن', 'دق', 'دق ', 'دقت', 'دقس', 'دقي', 'دقہ', 'دقی', 'دل', 'دل ', 'دل،', 'دلا', 'دلب', 'دلت', 'دلد', 'دلف', 'دلل', 'دلن', 'دلو', 'دلي', 'دلچ', 'دلک', 'دلہ', 'دلی', 'دلے', 'دل‘', 'دم', 'دم ', 'دم،', 'دما', 'دمت', 'دمخ', 'دمس', 'دمق', 'دمل', 'دمن', 'دمو', 'دمچ', 'دمک', 'دمہ', 'دمی', 'دمے', 'دم‘', 'دن', 'دن ', 'دن(', 'دن-', 'دن2', 'دن:', 'دن،', 'دنا', 'دند', 'دنص', 'دنظ', 'دنم', 'دنو', 'دني', 'دنِ', 'دنگ', 'دنی', 'دنے', 'دن‘', 'دو', 'دو ', \"دو'\", 'دو،', 'دوئ', 'دوا', 'دوب', 'دوت', 'دوج', 'دوح', 'دوخ', 'دود', 'دور', 'دوز', 'دوس', 'دوش', 'دوض', 'دوط', 'دوغ', 'دوف', 'دوق', 'دول', 'دوم', 'دون', 'دوو', 'دوپ', 'دوچ', 'دوڈ', 'دوڑ', 'دوک', 'دوگ', 'دوں', 'دوہ', 'دوی', 'دو۔', 'دي', 'ديا', 'ديب', 'ديت', 'ديج', 'ديد', 'ديش', 'ديق', 'ديل', 'دين', 'ديو', 'ديک', 'ديں', 'دَ', 'دَس', 'دُ', 'دُن', 'دُو', 'دُک', 'دِ', 'دِ ', 'دِم', 'دِن', 'دِک', 'دّ', 'دّت', 'دپ', 'دپا', 'دپي', 'دپی', 'دک', 'دک ', 'دکا', 'دکر', 'دکش', 'دکف', 'دکم', 'دکن', 'دکو', 'دکپ', 'دکھ', 'دکہ', 'دکی', 'دکے', 'دگ', 'دگا', 'دگر', 'دگم', 'دگن', 'دگی', 'دں', 'دں ', 'دھ', 'دھ ', 'دھ،', 'دھا', 'دھب', 'دھر', 'دھس', 'دھل', 'دھم', 'دھن', 'دھو', 'دھپ', 'دھچ', 'دھڑ', 'دھک', 'دھی', 'دھے', 'دہ', 'دہ ', 'دہ،', 'دہا', 'دہر', 'دہش', 'دہض', 'دہق', 'دہل', 'دہن', 'دہو', 'دہٴ', 'دہہ', 'دہی', 'دہے', 'دہ‘', 'دہ’', 'دی', 'دی ', 'دی)', 'دی-', 'دی0', 'دی:', 'دی،', 'دیئ', 'دیا', 'دیب', 'دیت', 'دیث', 'دیج', 'دید', 'دیر', 'دیز', 'دیس', 'دیش', 'دیع', 'دیق', 'دیل', 'دیم', 'دین', 'دیو', 'دیٹ', 'دیپ', 'دیک', 'دیگ', 'دیں', 'دیہ', 'دیی', 'دیے', 'دی۔', 'دے', 'دے ', \"دے'\", 'دے،', 'دےا', 'دےم', 'دے۔', 'د۔', 'د۔ ', 'د۔/', 'د۔‘', 'د‘', 'د‘ ', 'د‘‘', 'ذ', 'ذ ', 'ذا', 'ذا ', 'ذا،', 'ذاء', 'ذاؤ', 'ذائ', 'ذاب', 'ذات', 'ذار', 'ذاق', 'ذام', 'ذاو', 'ذاک', 'ذاہ', 'ذاﺅ', 'ذب', 'ذب ', 'ذبا', 'ذبہ', 'ذبے', 'ذت', 'ذت ', 'ذتو', 'ذخ', 'ذخا', 'ذخی', 'ذر', 'ذر ', 'ذرا', 'ذرب', 'ذرت', 'ذرخ', 'ذري', 'ذرِ', 'ذرّ', 'ذرک', 'ذری', 'ذش', 'ذشت', 'ذف', 'ذف ', 'ذل', 'ذلی', 'ذم', 'ذمت', 'ذمہ', 'ذمے', 'ذو', 'ذوا', 'ذور', 'ذوق', 'ذول', 'ذون', 'ذي', 'ذيا', 'ذير', 'ذک', 'ذکا', 'ذکر', 'ذکو', 'ذہ', 'ذہ ', 'ذہا', 'ذہب', 'ذہن', 'ذہی', 'ذی', 'ذی ', 'ذیا', 'ذیب', 'ذیت', 'ذید', 'ذیذ', 'ذیر', 'ذیز', 'ذیش', 'ذیل', 'ر', 'ر ', 'ر!', 'ر! ', \"ر'\", \"ر' \", 'ر(', 'ر( ', 'ر(m', 'ر(آ', 'ر(ا', 'ر(س', 'ر(ن', 'ر(ک', 'ر)', 'ر) ', 'ر)ا', 'ر)ب', 'ر)ک', 'ر,', 'ر, ', 'ر/', 'ر/ب', 'ر0', 'ر0-', 'ر1', 'ر1 ', 'ر10', 'ر12', 'ر13', 'ر19', 'ر2', 'ر20', 'ر21', 'ر22', 'ر3', 'ر3 ', 'ر37', 'ر39', 'ر4', 'ر4-', 'ر4م', 'ر5', 'ر5.', 'ر50', 'ر6', 'ر6 ', 'ر6-', 'ر7', 'ر75', 'ر8', 'ر8 ', 'ر80', 'ر85', 'ر9', 'ر95', 'ر9e', 'ر:', 'ر: ', 'ر:پ', 'رc', 'رcک', 'رk', 'رkب', 'رp', 'رph', 'ر،', 'ر، ', 'ر،ا', 'ر،ت', 'ر،ج', 'ر،ذ', 'ر،ز', 'ر،ص', 'ر،ف', 'ر،ل', 'ر،م', 'ر،ن', 'ر،ٹ', 'ر،ڈ', 'ر،ک', 'رآ', 'رآ ', 'رآؤ', 'رآب', 'رآج', 'رآر', 'رآف', 'رآم', 'رآن', 'رآک', 'رآگ', 'رآں', 'رؤ', 'رؤز', 'رؤف', 'رؤں', 'رئ', 'رئر', 'رئع', 'رئي', 'رئی', 'رئے', 'را', 'را ', \"را'\", 'را(', 'را,', 'را:', 'را?', 'را،', 'را؟', 'راء', 'راؤ', 'رائ', 'راا', 'راب', 'رات', 'راث', 'راج', 'راح', 'راخ', 'راد', 'راذ', 'رار', 'راز', 'راس', 'راش', 'راص', 'راض', 'راط', 'راظ', 'راع', 'راغ', 'راف', 'راق', 'رال', 'رام', 'ران', 'راو', 'راي', 'راً', 'راَ', 'راُ', 'رآ', 'راٹ', 'راپ', 'راچ', 'راڈ', 'راڑ', 'راک', 'راگ', 'راں', 'راہ', 'رای', 'راۓ', 'را۔', 'را‘', 'راﺅ', 'رب', 'رب ', 'رب3', 'رب،', 'ربا', 'ربب', 'ربت', 'ربح', 'ربد', 'ربر', 'ربز', 'ربس', 'ربص', 'ربط', 'ربع', 'ربل', 'ربن', 'ربو', 'ربڑ', 'ربھ', 'ربہ', 'ربی', 'ربے', 'رب۔', 'رت', 'رت ', 'رت(', 'رت:', 'رت،', 'رتا', 'رتب', 'رتت', 'رتج', 'رتح', 'رتخ', 'رتر', 'رتس', 'رتش', 'رتص', 'رتض', 'رتع', 'رتف', 'رتق', 'رتم', 'رتن', 'رتو', 'رتي', 'رتِ', 'رتّ', 'رتک', 'رتگ', 'رتھ', 'رتہ', 'رتی', 'رتے', 'رت‘', 'رث', 'رث ', 'رثا', 'رثو', 'رثي', 'رثی', 'رج', 'رج ', 'رج،', 'رجا', 'رجب', 'رجح', 'رجر', 'رجز', 'رجس', 'رجل', 'رجم', 'رجن', 'رجو', 'رجي', 'رجڑ', 'رجک', 'رجگ', 'رجہ', 'رجی', 'رجے', 'رح', 'رح ', 'رحا', 'رحت', 'رحج', 'رحد', 'رحص', 'رحق', 'رحل', 'رحم', 'رحو', 'رحِ', 'رحپ', 'رحی', 'رح۔', 'رخ', 'رخ ', 'رخا', 'رخب', 'رخت', 'رخر', 'رخز', 'رخس', 'رخص', 'رخل', 'رخو', 'رخي', 'رخی', 'رد', 'رد ', 'رد،', 'ردئ', 'ردا', 'ردب', 'ردر', 'ردس', 'ردش', 'ردع', 'ردف', 'ردل', 'ردم', 'ردن', 'ردو', 'ردي', 'ردِ', 'ردک', 'ردگ', 'ردھ', 'ردہ', 'ردی', 'ردے', 'رد۔', 'رذ', 'رذہ', 'رر', 'رر ', 'ررا', 'ررج', 'ررز', 'ررس', 'ررف', 'ررن', 'ررو', 'ررٹ', 'ررچ', 'ررڈ', 'ررک', 'ررہ', 'رری', 'رز', 'رز ', \"رز'\", 'رز(', 'رز)', 'رز3', 'رز،', 'رزا', 'رزب', 'رزر', 'رزس', 'رزش', 'رزع', 'رزل', 'رزم', 'رزن', 'رزو', 'رزِ', 'رزک', 'رزہ', 'رزی', 'رزے', 'رز‘', 'رس', 'رس ', 'رس:', 'رس،', 'رسا', 'رسب', 'رست', 'رسد', 'رسر', 'رسز', 'رسس', 'رسف', 'رسل', 'رسم', 'رسن', 'رسو', 'رسي', 'رسٹ', 'رسپ', 'رسچ', 'رسڈ', 'رسک', 'رسگ', 'رسی', 'رسے', 'رس۔', 'رس‘', 'رس’', 'رش', 'رش ', 'رش،', 'رشا', 'رشت', 'رشد', 'رشر', 'رشل', 'رشم', 'رشن', 'رشو', 'رشٹ', 'رشپ', 'رشک', 'رشی', 'رشے', 'رص', 'رصا', 'رصح', 'رصر', 'رصغ', 'رصہ', 'رصے', 'رض', 'رض ', 'رضا', 'رضر', 'رضل', 'رضو', 'رضہ', 'رضی', 'رضے', 'رط', 'رط ', 'رطا', 'رطر', 'رطل', 'رطو', 'رطی', 'رظ', 'رظل', 'رع', 'رع ', 'رعا', 'رعت', 'رعد', 'رعز', 'رعل', 'رعم', 'رعو', 'رعک', 'رعہ', 'رعی', 'رعے', 'رغ', 'رغ ', 'رغب', 'رغم', 'رغن', 'رغو', 'رغی', 'رف', 'رف ', 'رف،', 'رفا', 'رفب', 'رفت', 'رفر', 'رفع', 'رفل', 'رفو', 'رفي', 'رفٹ', 'رفہ', 'رفی', 'رق', 'رق ', 'رقا', 'رقب', 'رقر', 'رقص', 'رقل', 'رقم', 'رقو', 'رقی', 'رل', 'رل ', \"رل'\", 'رل،', 'رلئ', 'رلا', 'رلج', 'رلح', 'رلز', 'رلس', 'رلط', 'رلق', 'رلن', 'رلو', 'رلڈ', 'رلگ', 'رلہ', 'رلی', 'رلے', 'رم', 'رم ', 'رم،', 'رمئ', 'رما', 'رمب', 'رمت', 'رمج', 'رمح', 'رمر', 'رمز', 'رمس', 'رمش', 'رمض', 'رمظ', 'رمع', 'رمق', 'رمل', 'رمن', 'رمو', 'رمي', 'رمٹ', 'رمپ', 'رمچ', 'رمڈ', 'رمہ', 'رمی', 'رم‘', 'رمﷺ', 'رن', 'رن ', 'رن،', 'رنئ', 'رنا', 'رنب', 'رنت', 'رنج', 'رند', 'رنر', 'رنز', 'رنس', 'رنش', 'رنط', 'رنل', 'رنم', 'رنن', 'رنو', 'رني', 'رنٹ', 'رنچ', 'رنڈ', 'رنک', 'رنگ', 'رنہ', 'رنی', 'رنے', 'رن‘', 'رو', 'رو ', 'رو(', 'رو،', 'روئ', 'روا', 'روب', 'روت', 'روث', 'روج', 'روح', 'روخ', 'رود', 'رور', 'روز', 'روس', 'روش', 'روض', 'روط', 'روع', 'روغ', 'روف', 'روق', 'رول', 'روم', 'رون', 'روو', 'روي', 'رؤ', 'روٹ', 'روپ', 'روچ', 'روڈ', 'روڑ', 'روک', 'روگ', 'روں', 'روہ', 'روی', 'روے', 'ري', 'ريا', 'ريب', 'ريت', 'ريج', 'ريد', 'ريز', 'ريش', 'ريض', 'ريع', 'ريف', 'ريق', 'ريل', 'ريم', 'رين', 'ريو', 'ريچ', 'ريڈ', 'ريک', 'ريں', 'ريہ', 'رُ', 'رُخ', 'رُل', 'رُک', 'رِ', 'رِ ', 'رِا', 'رِب', 'رِت', 'رِج', 'رِز', 'رِس', 'رِص', 'رِم', 'رِن', 'رِچ', 'رِڈ', 'رِی', 'رّ', 'رّے', 'رٹ', 'رٹ ', 'رٹ)', 'رٹا', 'رٹر', 'رٹز', 'رٹس', 'رٹش', 'رٹم', 'رٹن', 'رٹو', 'رٹي', 'رٹڈ', 'رٹک', 'رٹھ', 'رٹی', 'رٹ‘', 'رپ', 'رپ ', 'رپ،', 'رپا', 'رپر', 'رپش', 'رپل', 'رپم', 'رپن', 'رپو', 'رپٹ', 'رپچ', 'رپڑ', 'رپھ', 'رپہ', 'رپی', 'رپے', 'رچ', 'رچ ', 'رچ2', 'رچا', 'رچر', 'رچم', 'رچن', 'رچو', 'رچي', 'رچک', 'رچہ', 'رچی', 'رچے', 'رچ۔', 'رڈ', 'رڈ ', 'رڈ(', 'رڈ،', 'رڈا', 'رڈب', 'رڈح', 'رڈر', 'رڈز', 'رڈس', 'رڈف', 'رڈم', 'رڈن', 'رڈو', 'رڈک', 'رڈی', 'رڈ‘', 'رڑ', 'رڑ ', 'رژ', 'رژن', 'رژی', 'رک', 'رک ', 'رک(', 'رک:', 'رک،', 'رکئ', 'رکا', 'رکب', 'رکت', 'رکر', 'رکز', 'رکس', 'رکش', 'رکل', 'رکم', 'رکن', 'رکو', 'رکٹ', 'رکپ', 'رکچ', 'رکڈ', 'رکک', 'رکھ', 'رکہ', 'رکی', 'رکے', 'رک‘', 'رگ', 'رگ ', 'رگ-', 'رگئ', 'رگا', 'رگت', 'رگر', 'رگز', 'رگس', 'رگن', 'رگو', 'رگٹ', 'رگڑ', 'رگھ', 'رگی', 'رگ’', 'رں', 'رں ', 'رھ', 'رھا', 'رھت', 'رھم', 'رھن', 'رھو', 'رھی', 'رہ', 'رہ ', 'رہ)', 'رہ5', 'رہ،', 'رہا', 'رہب', 'رہت', 'رہر', 'رہش', 'رہم', 'رہن', 'رہو', 'رہي', 'رۂ', 'رہپ', 'رہڈ', 'رہی', 'رہے', 'رہ۔', 'رہ‘', 'رۂ', 'رۂ ', 'رۃ', 'رۃ ', 'ری', 'ری ', \"ری'\", 'ری)', 'ری1', 'ری:', 'ری،', 'ریئ', 'ریا', 'ریب', 'ریت', 'ریج', 'ریح', 'ریخ', 'رید', 'ریر', 'ریز', 'ریس', 'ریش', 'ریض', 'ریع', 'ریغ', 'ریف', 'ریق', 'ریل', 'ریم', 'رین', 'ریو', 'ریٰ', 'ریٹ', 'ریپ', 'ریچ', 'ریڈ', 'ریڑ', 'ریک', 'ریگ', 'ریں', 'ریہ', 'ریۂ', 'ریے', 'ری۔', 'ری‘', 'رے', 'رے ', 'رے(', 'رے،', 'رے؟', 'رےا', 'رےز', 'رےن', 'رےچ', 'رے۔', 'رے‘', 'ر۔', 'ر۔ ', 'ر۔2', 'ر۔5', 'ر۔۔', 'ر‘', 'ر‘ ', 'ر‘،', 'ر‘س', 'ر‘۔', 'ر‘‘', 'ر’', 'ر’ ', 'ر’’', 'ز', 'ز ', 'ز!', 'ز! ', 'ز\"', 'ز\" ', \"ز'\", \"ز' \", 'ز(', 'ز(p', 'ز)', 'ز) ', 'ز)،', 'ز)ڈ', 'ز1', 'ز13', 'ز2', 'ز20', 'ز3', 'ز3م', 'ز4', 'ز4 ', 'ز:', 'ز: ', 'ز،', 'ز، ', 'ز،ا', 'ز،ب', 'ز،ل', 'ز،ن', 'ز،ک', 'زآ', 'زآن', 'زئ', 'زئي', 'زئی', 'زا', 'زا ', \"زا'\", 'زا،', 'زاء', 'زاؤ', 'زائ', 'زاب', 'زات', 'زاج', 'زاح', 'زاخ', 'زاد', 'زار', 'زاز', 'زاس', 'زاق', 'زال', 'زام', 'زان', 'زاو', 'زاً', 'زآ', 'زاٹ', 'زاپ', 'زاں', 'زاہ', 'زای', 'زب', 'زب ', 'زبا', 'زبر', 'زبن', 'زبو', 'زبھ', 'زت', 'زت ', 'زتی', 'زج', 'زجل', 'زح', 'زحل', 'زحم', 'زخ', 'زخا', 'زخم', 'زخو', 'زد', 'زد ', 'زدا', 'زدو', 'زدگ', 'زدہ', 'زدی', 'زر', 'زر ', 'زر(', 'زر،', 'زرآ', 'زرئ', 'زرا', 'زرت', 'زرخ', 'زرد', 'زرر', 'زرز', 'زرش', 'زرع', 'زرف', 'زرل', 'زرم', 'زرن', 'زرو', 'زرِ', 'زرڈ', 'زرگ', 'زری', 'زرے', 'زز', 'زز ', 'ززم', 'زس', 'زست', 'زسر', 'زسم', 'زسٹ', 'زسے', 'زش', 'زش ', 'زش،', 'زشت', 'زشو', 'زشہ', 'زشی', 'زص', 'زصا', 'زع', 'زع ', 'زعا', 'زعب', 'زعل', 'زعم', 'زعہ', 'زعے', 'زف', 'زف ', 'زفی', 'زق', 'زق ', 'زقی', 'زل', 'زل ', 'زل-', 'زلا', 'زلت', 'زلز', 'زلف', 'زلم', 'زلو', 'زلٹ', 'زلگ', 'زلہ', 'زلی', 'زلے', 'زم', 'زم ', 'زم)', 'زم:', 'زما', 'زمب', 'زمت', 'زمد', 'زمر', 'زمل', 'زمو', 'زمي', 'زمہ', 'زمی', 'زن', 'زن ', 'زن)', 'زنا', 'زند', 'زنز', 'زنس', 'زنن', 'زنٹ', 'زنک', 'زنگ', 'زنہ', 'زنی', 'زنے', 'زو', 'زو ', 'زو1', 'زوا', 'زوج', 'زور', 'زوس', 'زوف', 'زوق', 'زول', 'زوم', 'زون', 'زوِ', 'زوک', 'زوں', 'زوہ', 'زوی', 'زي', 'زيا', 'زيب', 'زيد', 'زير', 'زيش', 'زيل', 'زيم', 'زين', 'زيو', 'زِ', 'زِ ', 'زِگ', 'زٹ', 'زٹ ', 'زٹن', 'زٹی', 'زپ', 'زپا', 'زپر', 'زچ', 'زچک', 'زچگ', 'زڈ', 'زڈ ', 'زڈس', 'زڈن', 'زڈی', 'زک', 'زک ', 'زکا', 'زکر', 'زکس', 'زکم', 'زکو', 'زکھ', 'زکی', 'زکے', 'زگ', 'زگ ', 'زگا', 'زگی', 'زہ', 'زہ ', 'زہ،', 'زہا', 'زہر', 'زہن', 'زہو', 'زہی', 'زی', 'زی ', 'زی،', 'زیا', 'زیب', 'زیت', 'زید', 'زیر', 'زیز', 'زیس', 'زیش', 'زیل', 'زیم', 'زین', 'زیو', 'زیٹ', 'زیچ', 'زیڈ', 'زیک', 'زیگ', 'زیں', 'زیہ', 'زیے', 'زی‘', 'زے', 'زے ', 'زے،', 'زےب', 'ز‘', 'ز‘ ', 'ز‘‘', 'ز’', 'ز’ ', 'ز“', 'ز“ ', 'س', 'س ', \"س'\", \"س' \", 'س)', 'س) ', 'س)،', 'س2', 'س29', 'س4', 'س48', 'س:', 'س: ', 'س،', 'س، ', 'س،،', 'س،ا', 'س،ب', 'س،س', 'س،ڈ', 'س،ہ', 'سؤ', 'سؤر', 'سئ', 'سئ ', 'سئل', 'سا', 'سا ', 'سا\"', \"سا'\", 'سا،', 'سا؟', 'ساء', 'ساؤ', 'سائ', 'ساب', 'سات', 'ساج', 'ساح', 'ساخ', 'ساد', 'سار', 'ساز', 'ساس', 'ساط', 'ساغ', 'ساف', 'ساق', 'سال', 'سام', 'سان', 'ساو', 'ساٹ', 'ساچ', 'ساڈ', 'ساڑ', 'ساک', 'ساں', 'سای', 'سب', 'سب ', 'سبا', 'سبب', 'سبت', 'سبر', 'سبز', 'سبس', 'سبغ', 'سبق', 'سبل', 'سبن', 'سبِ', 'سبک', 'سبھ', 'ست', 'ست ', \"ست'\", 'ست)', 'ست،', 'ستا', 'ستب', 'ستث', 'ستح', 'ستخ', 'ستد', 'ستر', 'ستط', 'ستع', 'ستف', 'ستق', 'ستم', 'ستن', 'ستو', 'ستّ', 'ستک', 'ستگ', 'ستھ', 'ستہ', 'ستی', 'ستے', 'ست۔', 'سج', 'سج ', 'سج،', 'سجا', 'سجد', 'سجز', 'سجن', 'سجو', 'سجھ', 'سجے', 'سح', 'سحا', 'سحر', 'سحو', 'سحی', 'سخ', 'سخ ', 'سخا', 'سخت', 'سخن', 'سخہ', 'سخی', 'سخے', 'سد', 'سد ', 'سد(', 'سد)', 'سد،', 'سدا', 'سدر', 'سدش', 'سدم', 'سدِ', 'سدھ', 'سدی', 'سر', 'سر ', 'سر)', 'سر،', 'سرا', 'سرب', 'سرت', 'سرج', 'سرح', 'سرخ', 'سرد', 'سرر', 'سرز', 'سرس', 'سرش', 'سرض', 'سرط', 'سرع', 'سرغ', 'سرف', 'سرم', 'سرن', 'سرو', 'سري', 'سرِ', 'سرٹ', 'سرپ', 'سرچ', 'سرک', 'سرگ', 'سرہ', 'سری', 'سرے', 'سر‘', 'سز', 'سز ', 'سز)', 'سزا', 'سز“', 'سس', 'سس ', 'سس،', 'سست', 'سسر', 'سسز', 'سسس', 'سسف', 'سسم', 'سسً', 'سسٹ', 'سسک', 'سسی', 'سسے', 'سش', 'سشا', 'سشم', 'سط', 'سط ', 'سطا', 'سطح', 'سطو', 'سطی', 'سطے', 'سع', 'سع ', 'سعا', 'سعت', 'سعد', 'سعو', 'سعي', 'سعی', 'سف', 'سف ', 'سفا', 'سفر', 'سفز', 'سفن', 'سفو', 'سفي', 'سفک', 'سفہ', 'سفی', 'سق', 'سقم', 'سل', 'سل ', 'سل،', 'سلئ', 'سلا', 'سلت', 'سلج', 'سلح', 'سلر', 'سلز', 'سلس', 'سلط', 'سلف', 'سلم', 'سلن', 'سلو', 'سلٹ', 'سلپ', 'سلک', 'سلہ', 'سلی', 'سلے', 'سم', 'سم ', 'سم،', 'سما', 'سمب', 'سمت', 'سمج', 'سمح', 'سمر', 'سمس', 'سمل', 'سمن', 'سمو', 'سمي', 'سمّ', 'سمٹ', 'سمپ', 'سمگ', 'سمی', 'سم‘', 'سن', 'سن ', \"سن'\", 'سن:', 'سن،', 'سنئ', 'سنا', 'سنب', 'سنت', 'سنج', 'سند', 'سنز', 'سنس', 'سنل', 'سنن', 'سنو', 'سني', 'سنٹ', 'سنچ', 'سنک', 'سنگ', 'سنہ', 'سنی', 'سنے', 'سن‘', 'سو', 'سو ', 'سو1', 'سو3', 'سو6', 'سو8', 'سو،', 'سوؤ', 'سوئ', 'سوا', 'سوب', 'سوت', 'سوج', 'سوخ', 'سود', 'سور', 'سوز', 'سوس', 'سوش', 'سوغ', 'سوف', 'سوق', 'سول', 'سوم', 'سون', 'سوي', 'سوٹ', 'سوپ', 'سوچ', 'سوڈ', 'سوڑ', 'سوک', 'سوگ', 'سوں', 'سوہ', 'سوی', 'سو‘', 'سي', 'سيا', 'سير', 'سيز', 'سيس', 'سيع', 'سيق', 'سيل', 'سين', 'سيو', 'سيٹ', 'سيک', 'سيں', 'سً', 'سً ', 'سَ', 'سَر', 'سَی', 'سُ', 'سُر', 'سُس', 'سُش', 'سُو', 'سُپ', 'سُی', 'سِ', 'سِل', 'سِٹ', 'سِک', 'سّ', 'سّی', 'سٹ', 'سٹ ', \"سٹ'\", 'سٹ(', 'سٹا', 'سٹر', 'سٹس', 'سٹل', 'سٹم', 'سٹن', 'سٹو', 'سٹي', 'سٹِ', 'سٹڈ', 'سٹک', 'سٹی', 'سٹ‘', 'سپ', 'سپ ', 'سپا', 'سپت', 'سپر', 'سپش', 'سپل', 'سپن', 'سپو', 'سپي', 'سپِ', 'سپٹ', 'سپپ', 'سپک', 'سپی', 'سچ', 'سچ ', 'سچا', 'سچر', 'سچن', 'سچی', 'سچے', 'سڈ', 'سڈ ', 'سڈ:', 'سڈ،', 'سڈر', 'سڈز', 'سڈن', 'سڈہ', 'سڈی', 'سڈ‘', 'سڑ', 'سڑا', 'سڑک', 'سڑی', 'سک', 'سک ', 'سک)', 'سک/', 'سک:', 'سک،', 'سکؤ', 'سکا', 'سکت', 'سکر', 'سکس', 'سکل', 'سکن', 'سکو', 'سکي', 'سکِ', 'سکٹ', 'سکڑ', 'سکھ', 'سکہ', 'سکی', 'سکے', 'سک۔', 'سگ', 'سگا', 'سگر', 'سگن', 'سگی', 'سں', 'سں ', 'سہ', 'سہ ', 'سہا', 'سہت', 'سہر', 'سہل', 'سہن', 'سہو', 'سہگ', 'سہہ', 'سہی', 'سی', 'سی ', \"سی'\", 'سی)', 'سی2', 'سی:', 'سی]', 'سیb', 'سی،', 'سیئ', 'سیا', 'سیب', 'سیت', 'سیج', 'سیح', 'سید', 'سیر', 'سیز', 'سیس', 'سیش', 'سیع', 'سیف', 'سیق', 'سیل', 'سیم', 'سین', 'سیو', 'سیٰ', 'سیٹ', 'سیچ', 'سیڈ', 'سیڑ', 'سیک', 'سیگ', 'سیں', 'سیہ', 'سی۔', 'سی‘', 'سی’', 'سے', 'سے ', \"سے'\", 'سے1', 'سے2', 'سے3', 'سے4', 'سے7', 'سے8', 'سے،', 'سےا', 'سےب', 'سےت', 'سےخ', 'سےد', 'سےز', 'سےس', 'سےش', 'سےع', 'سےل', 'سےم', 'سےن', 'سےٹ', 'سےپ', 'سےچ', 'سےڈ', 'سےک', 'سےہ', 'سےی', 'سے۔', 'سے‘', 'سے’', 'س۔', 'س۔ ', 'س‘', 'س‘ ', 'س‘‘', 'س’', 'س’ ', 'س“', 'س“ ', 'س“۔', 'ش', 'ش ', \"ش'\", \"ش' \", 'ش2', 'ش26', 'ش:', 'ش: ', 'ش،', 'ش، ', 'ش،س', 'ش،پ', 'شئ', 'شئر', 'شئی', 'شئے', 'شا', 'شا ', 'شاء', 'شائ', 'شاا', 'شاب', 'شات', 'شاخ', 'شاد', 'شاذ', 'شار', 'شاس', 'شاش', 'شاط', 'شاع', 'شاغ', 'شاف', 'شاق', 'شال', 'شام', 'شان', 'شاو', 'شاٹ', 'شاپ', 'شاک', 'شاگ', 'شاں', 'شاہ', 'شای', 'شب', 'شب ', 'شب،', 'شبا', 'شبو', 'شبہ', 'شبی', 'شت', 'شت ', 'شت،', 'شتا', 'شتت', 'شتر', 'شتع', 'شتم', 'شتو', 'شتک', 'شتہ', 'شتی', 'شتے', 'شت’', 'شج', 'شجی', 'شح', 'شحا', 'شخ', 'شخب', 'شخص', 'شخی', 'شد', 'شد ', 'شدا', 'شدت', 'شدد', 'شدل', 'شدي', 'شدّ', 'شدگ', 'شدھ', 'شدہ', 'شدی', 'شر', 'شر ', 'شر،', 'شرا', 'شرب', 'شرت', 'شرح', 'شرط', 'شرع', 'شرف', 'شرق', 'شرم', 'شرو', 'شرٹ', 'شرچ', 'شرک', 'شری', 'شرے', 'شز', 'شز ', 'شس', 'شست', 'شش', 'شش ', 'ششا', 'ششم', 'ششو', 'ششي', 'ششی', 'شش‘', 'شع', 'شعا', 'شعب', 'شعر', 'شعل', 'شعو', 'شعی', 'شغ', 'شغل', 'شغو', 'شف', 'شف ', 'شفا', 'شفق', 'شفو', 'شفی', 'شق', 'شق ', 'شقت', 'شقد', 'شقو', 'شقی', 'شل', 'شل ', 'شل،', 'شلز', 'شلس', 'شلن', 'شلپ', 'شلک', 'شلے', 'شم', 'شم ', 'شما', 'شمب', 'شمت', 'شمس', 'شمش', 'شمل', 'شمن', 'شمو', 'شمٹ', 'شمک', 'شمہ', 'شمی', 'شمے', 'شن', 'شن ', \"شن'\", 'شن)', 'شن،', 'شنا', 'شنب', 'شند', 'شنر', 'شنز', 'شنس', 'شنل', 'شنو', 'شني', 'شنٹ', 'شنگ', 'شنی', 'شن۔', 'شن‘', 'شو', 'شو ', 'شو\"', 'شوا', 'شوب', 'شوت', 'شوخ', 'شود', 'شور', 'شوز', 'شوش', 'شوق', 'شول', 'شوم', 'شون', 'شوو', 'شوٹ', 'شوک', 'شوگ', 'شوں', 'شوہ', 'شوی', 'شو‘', 'شي', 'شيئ', 'شيا', 'شيش', 'شيم', 'شين', 'شيو', 'شيٹ', 'شيپ', 'شيڈ', 'شيں', 'شِ', 'شِ ', 'شٹ', 'شٹ ', 'شٹر', 'شٹل', 'شٹن', 'شٹٹ', 'شپ', 'شپ ', 'شپا', 'شپم', 'شڈ', 'شڈ)', 'شک', 'شک ', 'شک،', 'شکا', 'شکر', 'شکس', 'شکش', 'شکل', 'شکم', 'شکن', 'شکو', 'شکي', 'شکہ', 'شکی', 'شگ', 'شگا', 'شگف', 'شگو', 'شھ', 'شھٹ', 'شہ', 'شہ ', 'شہا', 'شہب', 'شہد', 'شہر', 'شہز', 'شہم', 'شہن', 'شہو', 'شہي', 'شہی', 'شہ‘', 'شی', 'شی ', 'شی،', 'شیئ', 'شیا', 'شیت', 'شیح', 'شیخ', 'شید', 'شیر', 'شیز', 'شیش', 'شیط', 'شیف', 'شیل', 'شیم', 'شین', 'شیو', 'شیٹ', 'شیڈ', 'شیک', 'شیگ', 'شیں', 'شیہ', 'شیی', 'شی‘', 'شے', 'شے ', 'شے،', 'شےک', 'ش۔', 'ش۔ ', 'ش‘', 'ش‘ ', 'ص', 'ص ', 'صؒ', 'صؒہ', 'صا', 'صا ', 'صائ', 'صاب', 'صاح', 'صاد', 'صار', 'صاص', 'صاف', 'صال', 'صام', 'صان', 'صاو', 'صاً', 'صب', 'صب ', 'صبا', 'صبح', 'صبر', 'صبے', 'صت', 'صت ', 'صتی', 'صح', 'صحا', 'صحب', 'صحت', 'صحی', 'صد', 'صد ', 'صد)', 'صد،', 'صدا', 'صدب', 'صدت', 'صدح', 'صدر', 'صدس', 'صدف', 'صدق', 'صدم', 'صدو', 'صدي', 'صدک', 'صدی', 'صد۔', 'صر', 'صر ', 'صر،', 'صرا', 'صرع', 'صرف', 'صرم', 'صرن', 'صرو', 'صرک', 'صرہ', 'صری', 'صرے', 'صس', 'صسل', 'صص', 'صص ', 'صط', 'صطف', 'صطل', 'صع', 'صعو', 'صغ', 'صغر', 'صغي', 'صغی', 'صف', 'صف ', 'صف،', 'صفا', 'صفت', 'صفح', 'صفر', 'صفِ', 'صفہ', 'صفی', 'صل', 'صل ', 'صل،', 'صلا', 'صلح', 'صلو', 'صلہ', 'صلی', 'صلے', 'صن', 'صند', 'صنع', 'صنف', 'صنم', 'صنو', 'صو', 'صو ', 'صوا', 'صوب', 'صوت', 'صود', 'صور', 'صوص', 'صوف', 'صول', 'صوم', 'صون', 'صوي', 'صوں', 'صوی', 'صي', 'صيح', 'صيل', 'صّ', 'صّہ', 'صہ', 'صہ ', 'صہ2', 'صہ5', 'صہ،', 'صی', 'صی ', 'صیا', 'صیب', 'صیت', 'صیح', 'صید', 'صیر', 'صیغ', 'صیف', 'صیل', 'صے', 'صے ', 'صےس', 'ض', 'ض ', 'ض:', 'ض: ', 'ض،', 'ض، ', 'ض،ک', 'ضا', 'ضا ', 'ضاء', 'ضائ', 'ضاا', 'ضاب', 'ضات', 'ضاح', 'ضاد', 'ضاف', 'ضام', 'ضان', 'ضاو', 'ضاک', 'ضا‘', 'ضب', 'ضبط', 'ضبو', 'ضح', 'ضح ', 'ضحک', 'ضحی', 'ضد', 'ضد ', 'ضدی', 'ضر', 'ضر ', 'ضرا', 'ضرب', 'ضرت', 'ضرر', 'ضرص', 'ضرو', 'ضرِ', 'ضرک', 'ضع', 'ضع ', 'ضعی', 'ضل', 'ضل ', 'ضلا', 'ضلع', 'ضلو', 'ضلی', 'ضلے', 'ضم', 'ضم ', 'ضما', 'ضمح', 'ضمن', 'ضمو', 'ضمہ', 'ضمی', 'ضمے', 'ضو', 'ضو ', 'ضوا', 'ضور', 'ضوع', 'ضول', 'ضوں', 'ضِ', 'ضِ ', 'ضٰ', 'ضٰی', 'ضہ', 'ضہ ', 'ضی', 'ضی ', 'ضیا', 'ضیف', 'ضیل', 'ضے', 'ضے ', 'ض۔', 'ض۔ ', 'ط', 'ط ', 'ط،', 'ط، ', 'طا', 'طا ', 'طاب', 'طار', 'طاع', 'طاف', 'طاق', 'طال', 'طان', 'طاً', 'طاپ', 'طاہ', 'طب', 'طب ', 'طبا', 'طبخ', 'طبع', 'طبق', 'طبل', 'طبہ', 'طبی', 'طت', 'طت ', 'طح', 'طح ', 'طحی', 'طر', 'طر ', 'طر،', 'طرا', 'طرت', 'طرح', 'طرخ', 'طرز', 'طرف', 'طرن', 'طرو', 'طري', 'طرک', 'طرہ', 'طری', 'طرے', 'طس', 'طس ', 'طس،', 'طع', 'طعا', 'طعی', 'طف', 'طف ', 'طفی', 'طل', 'طل ', 'طلا', 'طلب', 'طلع', 'طلو', 'طلی', 'طم', 'طمئ', 'طمن', 'طمہ', 'طمی', 'طن', 'طن ', 'طنز', 'طني', 'طنی', 'طو', 'طو ', 'طوا', 'طوب', 'طور', 'طوط', 'طوف', 'طوں', 'طوی', 'طي', 'طيس', 'طگ', 'طگی', 'طہ', 'طہ ', 'طہر', 'طۂ', 'طۂ ', 'طی', 'طی ', 'طی،', 'طیا', 'طیب', 'طیر', 'طیس', 'طیف', 'طین', 'طیو', 'طیٰ', 'طیک', 'طیں', 'طیہ', 'طے', 'طے ', 'طےک', 'ط۔', 'ط۔ ', 'ط‘', 'ط‘ ', 'ظ', 'ظ ', 'ظb', 'ظb3', 'ظ،', 'ظ، ', 'ظآ', 'ظآہ', 'ظا', 'ظات', 'ظار', 'ظال', 'ظام', 'ظان', 'ظاہ', 'ظب', 'ظبو', 'ظبی', 'ظت', 'ظت ', 'ظتی', 'ظر', 'ظر ', 'ظر،', 'ظرآ', 'ظرئ', 'ظرا', 'ظرث', 'ظرد', 'ظرع', 'ظرن', 'ظرو', 'ظري', 'ظرِ', 'ظری', 'ظف', 'ظفر', 'ظل', 'ظلم', 'ظم', 'ظم ', 'ظمو', 'ظمی', 'ظو', 'ظور', 'ظوظ', 'ظوں', 'ظي', 'ظيم', 'ظہ', 'ظہ ', 'ظہا', 'ظہب', 'ظہر', 'ظہو', 'ظہی', 'ظی', 'ظیر', 'ظیف', 'ظیم', 'ع', 'ع ', 'ع)', 'ع) ', 'ع1', 'ع11', 'ع،', 'ع، ', 'عا', 'عا ', 'عاؤ', 'عائ', 'عاب', 'عات', 'عاج', 'عاد', 'عار', 'عاز', 'عاش', 'عاط', 'عاع', 'عاف', 'عاق', 'عال', 'عام', 'عان', 'عاو', 'عاہ', 'عای', 'عب', 'عب ', 'عبا', 'عبد', 'عبو', 'عبہ', 'عبی', 'عبے', 'عت', 'عت ', \"عت'\", 'عت(', 'عتب', 'عتد', 'عتر', 'عتم', 'عتو', 'عتک', 'عتی', 'عت‘', 'عث', 'عث ', 'عثآ', 'عثم', 'عثِ', 'عج', 'عجا', 'عجب', 'عجز', 'عجي', 'عجی', 'عد', 'عد ', 'عدآ', 'عدا', 'عدد', 'عدش', 'عدم', 'عدن', 'عدو', 'عدگ', 'عدں', 'عدہ', 'عدی', 'عدے', 'عذ', 'عذا', 'عذر', 'عذو', 'عر', 'عر ', 'عرا', 'عرب', 'عرش', 'عرص', 'عرض', 'عرف', 'عرق', 'عرو', 'عري', 'عرہ', 'عری', 'عرے', 'عز', 'عزا', 'عزت', 'عزم', 'عزی', 'عس', 'عسک', 'عش', 'عشا', 'عشر', 'عشق', 'عشی', 'عص', 'عصا', 'عصب', 'عصر', 'عصو', 'عض', 'عض ', 'عضا', 'عضل', 'عضو', 'عط', 'عطا', 'عطف', 'عطل', 'عطی', 'عظ', 'عظم', 'عظي', 'عظی', 'عف', 'عفت', 'عفر', 'عفو', 'عق', 'عق ', 'عقا', 'عقب', 'عقد', 'عقر', 'عقل', 'عقو', 'عقی', 'عل', 'عل ', 'علا', 'علت', 'علس', 'علق', 'علم', 'علو', 'علی', 'علے', 'عم', 'عما', 'عمت', 'عمد', 'عمر', 'عمل', 'عمو', 'عمہ', 'عمی', 'عمے', 'عن', 'عنا', 'عنت', 'عند', 'عنص', 'عنق', 'عنو', 'عنک', 'عنی', 'عو', 'عو ', 'عوؤ', 'عوا', 'عوب', 'عوت', 'عود', 'عور', 'عوض', 'عوٰ', 'عوں', 'عوہ', 'عوی', 'عوے', 'عي', 'عيا', 'عيب', 'عيت', 'عيد', 'عيس', 'عين', 'عچ', 'عچ ', 'عک', 'عک ', 'عکا', 'عکس', 'عکو', 'عہ', 'عہ ', 'عہ،', 'عہد', 'عۂ', 'عی', 'عی ', 'عی،', 'عیا', 'عیب', 'عیت', 'عید', 'عیس', 'عیش', 'عیف', 'عیل', 'عیم', 'عین', 'عیں', 'عیہ', 'عی’', 'عے', 'عے ', 'عے،', 'غ', 'غ ', 'غا', 'غا ', 'غائ', 'غات', 'غار', 'غاز', 'غاس', 'غال', 'غام', 'غان', 'غاو', 'غب', 'غب ', 'غبا', 'غبت', 'غت', 'غت ', 'غتے', 'غد', 'غدؤ', 'غدا', 'غدو', 'غدے', 'غذ', 'غذ ', 'غذا', 'غذی', 'غر', 'غر ', 'غرا', 'غرب', 'غرض', 'غرو', 'غري', 'غرک', 'غری', 'غز', 'غز ', 'غزا', 'غزل', 'غص', 'غصہ', 'غصے', 'غض', 'غض ', 'غض،', 'غط', 'غطی', 'غف', 'غفل', 'غل', 'غل ', 'غلا', 'غلب', 'غلط', 'غلہ', 'غلی', 'غلے', 'غم', 'غم ', 'غمز', 'غمہ', 'غمی', 'غمے', 'غن', 'غن ', 'غن،', 'غنس', 'غنو', 'غنِ', 'غنہ', 'غنی', 'غو', 'غوا', 'غوب', 'غور', 'غوز', 'غوش', 'غوط', 'غول', 'غوں', 'غي', 'غير', 'غہ', 'غہ ', 'غی', 'غی ', 'غیب', 'غیر', 'غیز', 'غیو', 'ف', 'ف ', 'ف)', 'ف) ', 'ف-', 'ف-ا', 'ف0', 'ف0-', 'ف،', 'ف، ', 'فئ', 'فئی', 'فا', 'فا ', 'فا،', 'فاؤ', 'فائ', 'فاب', 'فات', 'فاح', 'فاد', 'فاذ', 'فار', 'فاس', 'فاش', 'فاص', 'فاض', 'فاط', 'فاظ', 'فاع', 'فاف', 'فاق', 'فال', 'فام', 'فان', 'فاو', 'فاٹ', 'فاچ', 'فاک', 'فاہ', 'فای', 'فب', 'فبا', 'فبر', 'فت', 'فت ', 'فتا', 'فتت', 'فتح', 'فتخ', 'فتر', 'فتن', 'فتو', 'فتي', 'فتگ', 'فتھ', 'فتہ', 'فتی', 'فتے', 'فج', 'فجر', 'فح', 'فحا', 'فحش', 'فحہ', 'فحے', 'فخ', 'فخر', 'فخز', 'فد', 'فد ', 'فذ', 'فذ ', 'فر', 'فر ', 'فر:', 'فرا', 'فرب', 'فرت', 'فرح', 'فرد', 'فرز', 'فرس', 'فرش', 'فرض', 'فرق', 'فرم', 'فرن', 'فرو', 'فري', 'فرٹ', 'فرڈ', 'فرک', 'فرگ', 'فرہ', 'فری', 'فرے', 'فر‘', 'فز', 'فز ', 'فزئ', 'فزا', 'فزد', 'فزي', 'فزک', 'فزی', 'فس', 'فس ', 'فسا', 'فسر', 'فسن', 'فسو', 'فسي', 'فسی', 'فش', 'فش ', 'فشا', 'فشل', 'فشن', 'فشہ', 'فشی', 'فص', 'فصل', 'فصي', 'فصی', 'فض', 'فضا', 'فضل', 'فضو', 'فضی', 'فط', 'فطر', 'فظ', 'فظ ', 'فظ،', 'فظا', 'فظو', 'فظہ', 'فع', 'فع ', 'فع1', 'فعا', 'فعت', 'فعل', 'فعہ', 'فعی', 'فغ', 'فغا', 'فق', 'فق ', 'فقا', 'فقت', 'فقد', 'فقر', 'فقی', 'فل', 'فل ', 'فل،', 'فلا', 'فلت', 'فلس', 'فلم', 'فلو', 'فلٹ', 'فلپ', 'فلک', 'فلہ', 'فلی', 'فل‘', 'فن', 'فن ', \"فن'\", 'فنا', 'فنج', 'فنس', 'فنو', 'فنٹ', 'فنچ', 'فنڈ', 'فنک', 'فنگ', 'فنی', 'فو', 'فو ', 'فوا', 'فوب', 'فوج', 'فود', 'فوذ', 'فور', 'فوز', 'فوظ', 'فوف', 'فوق', 'فول', 'فوم', 'فون', 'فوٹ', 'فوڈ', 'فوژ', 'فوک', 'فوں', 'فوی', 'في', 'فيا', 'فيت', 'فيج', 'فيد', 'فيس', 'فيش', 'فيص', 'فيض', 'فين', 'فيچ', 'فيک', 'فيہ', 'فُ', 'فُو', 'فِ', 'فِ ', 'فِش', 'فِن', 'فِچ', 'فٹ', 'فٹ ', 'فٹب', 'فٹر', 'فٹن', 'فٹی', 'فپ', 'فپھ', 'فچ', 'فچ ', 'فک', 'فک ', 'فکر', 'فکس', 'فکش', 'فکی', 'فہ', 'فہ ', 'فہ،', 'فہا', 'فہد', 'فہر', 'فہم', 'فہی', 'فی', 'فی ', 'فی2', 'فی،', 'فیئ', 'فیا', 'فیب', 'فیت', 'فیج', 'فید', 'فیر', 'فیز', 'فیس', 'فیش', 'فیص', 'فیض', 'فیظ', 'فیف', 'فیق', 'فیل', 'فیم', 'فین', 'فیو', 'فیٰ', 'فیٹ', 'فیچ', 'فیڈ', 'فیک', 'فیہ', 'فیی', 'فے', 'فے ', 'فے،', 'ف۔', 'ف۔ ', 'ف‘', 'ف‘ ', 'ق', 'ق ', 'ق2', 'ق22', 'ق،', 'ق، ', 'ق،ا', 'ق،’', 'قا', 'قا ', 'قا،', 'قاء', 'قائ', 'قاب', 'قات', 'قاد', 'قار', 'قاس', 'قاش', 'قاص', 'قاض', 'قاع', 'قاف', 'قال', 'قام', 'قان', 'قاہ', 'قای', 'قب', 'قب ', 'قبا', 'قبر', 'قبض', 'قبل', 'قبو', 'قبہ', 'قبی', 'قبے', 'قت', 'قت ', 'قت)', 'قت،', 'قتا', 'قتد', 'قتص', 'قتل', 'قتو', 'قتک', 'قتی', 'قح', 'قحط', 'قد', 'قد ', 'قدا', 'قدر', 'قدس', 'قدغ', 'قدم', 'قدو', 'قدہ', 'قدی', 'قر', 'قر ', 'قرآ', 'قرا', 'قرب', 'قرر', 'قرض', 'قرع', 'قرق', 'قرم', 'قرن', 'قرو', 'قري', 'قری', 'قرے', 'قز', 'قزا', 'قس', 'قسا', 'قسط', 'قسم', 'قسی', 'قش', 'قش ', 'قشو', 'قشہ', 'قشے', 'قص', 'قص ', 'قصا', 'قصب', 'قصد', 'قصو', 'قصہ', 'قصی', 'قط', 'قطا', 'قطب', 'قطر', 'قطع', 'قطہ', 'قطۂ', 'قطے', 'قع', 'قع ', 'قعا', 'قعد', 'قعق', 'قعو', 'قعہ', 'قعی', 'قعے', 'قف', 'قف ', 'قفو', 'قفہ', 'قفی', 'قفے', 'قق', 'قق ', 'ققی', 'قل', 'قل ', 'قلا', 'قلب', 'قلت', 'قلد', 'قلش', 'قلع', 'قلم', 'قلن', 'قلی', 'قم', 'قم ', 'قم،', 'قمر', 'قمہ', 'قمی', 'قن', 'قن ', 'قنا', 'قند', 'قنل', 'قنی', 'قو', 'قو ', 'قوا', 'قوت', 'قوع', 'قوف', 'قوق', 'قول', 'قوم', 'قون', 'قوں', 'قوی', 'قي', 'قيا', 'قيد', 'قير', 'قيق', 'قيم', 'قين', 'قُ', 'قُد', 'قِ', 'قِ ', 'قں', 'قںص', 'قھ', 'قھت', 'قہ', 'قہ ', 'قہ،', 'قہر', 'قہو', 'قی', 'قی ', 'قی1', 'قی2', 'قی،', 'قیا', 'قیب', 'قیت', 'قید', 'قیر', 'قیس', 'قیص', 'قیق', 'قیل', 'قیم', 'قین', 'قیچ', 'قیں', 'قیہ', 'قے', 'قے ', 'قے،', 'ق۔', 'ق۔ ', \"ق۔'\", 'ك', 'كے', 'كےو', 'ل', 'ل ', 'ل\"', 'ل\" ', \"ل'\", \"ل' \", 'ل)', 'ل) ', 'ل)ا', 'ل)ن', 'ل)ک', 'ل-', 'ل-پ', 'ل2', 'ل20', 'ل6', 'ل6 ', 'ل:', 'ل: ', 'ل،', 'ل، ', 'ل،6', 'ل،ا', 'ل،ب', 'ل،ذ', 'ل،س', 'ل،پ', 'ل؟', 'ل؟ ', 'لء', 'لء ', 'لآ', 'لآؤ', 'لآخ', 'لآن', 'لئ', 'لئي', 'لئہ', 'لئی', 'لئے', 'لا', 'لا ', 'لا!', 'لا،', 'لا؍', 'لاء', 'لاؤ', 'لائ', 'لاا', 'لاب', 'لات', 'لاج', 'لاح', 'لاخ', 'لاد', 'لار', 'لاز', 'لاس', 'لاش', 'لاض', 'لاط', 'لاع', 'لاغ', 'لاف', 'لاق', 'لال', 'لام', 'لان', 'لاو', 'لاً', 'لاٹ', 'لاپ', 'لاچ', 'لاڈ', 'لاڑ', 'لاک', 'لاگ', 'لاں', 'لاھ', 'لاہ', 'لای', 'لا۔', 'لا‘', 'لب', 'لب ', 'لب،', 'لبا', 'لبت', 'لبر', 'لبز', 'لبع', 'لبل', 'لبم', 'لبن', 'لبو', 'لبہ', 'لبی', 'لبے', 'لب‘', 'لت', 'لت ', 'لتا', 'لتج', 'لتح', 'لتر', 'لتس', 'لتف', 'لتم', 'لتو', 'لتھ', 'لتی', 'لتے', 'لت‘', 'لث', 'لثو', 'لج', 'لج ', 'لج،', 'لجئ', 'لجا', 'لجب', 'لجد', 'لجر', 'لجز', 'لجي', 'لجھ', 'لجہ', 'لجی', 'لجے', 'لح', 'لح ', 'لحا', 'لحس', 'لحف', 'لحق', 'لحم', 'لحک', 'لحہ', 'لحے', 'لخ', 'لخ ', 'لخا', 'لخد', 'لخص', 'لخل', 'لخی', 'لد', 'لد ', 'لد،', 'لدا', 'لدر', 'لدک', 'لدہ', 'لدی', 'لذ', 'لذت', 'لذی', 'لر', 'لر ', 'لر(', 'لر)', 'لر،', 'لرا', 'لرب', 'لرت', 'لرج', 'لرح', 'لرخ', 'لرز', 'لرس', 'لرم', 'لرن', 'لرو', 'لرک', 'لرہ', 'لری', 'لر‘', 'لز', 'لز ', 'لز)', 'لز:', 'لز،', 'لزا', 'لزب', 'لزل', 'لزم', 'لزو', 'لزک', 'لزہ', 'لز‘', 'لس', 'لس ', 'لس:', 'لس،', 'لسا', 'لسب', 'لست', 'لسر', 'لسط', 'لسف', 'لسل', 'لسم', 'لسن', 'لسو', 'لسٹ', 'لسہ', 'لسی', 'لسے', 'لش', 'لش ', 'لش:', 'لشع', 'لشن', 'لشی', 'لص', 'لص ', 'لصب', 'لط', 'لط ', 'لطا', 'لطف', 'لطی', 'لع', 'لع ', 'لعا', 'لعت', 'لعر', 'لعق', 'لعل', 'لعم', 'لعن', 'لعو', 'لعہ', 'لعی', 'لعے', 'لغ', 'لغ ', 'لغا', 'لغم', 'لغو', 'لغہ', 'لف', 'لف ', 'لفا', 'لفت', 'لفر', 'لفظ', 'لفق', 'لفن', 'لفي', 'لفٹ', 'لفی', 'لق', 'لق ', 'لقا', 'لقب', 'لقم', 'لقو', 'لقِ', 'لقھ', 'لقہ', 'لقی', 'لقے', 'لل', 'لل ', 'للک', 'للہ', 'للے', 'لم', 'لم ', 'لمi', 'لم،', 'لما', 'لمب', 'لمت', 'لمح', 'لمد', 'لمر', 'لمز', 'لمس', 'لمع', 'لمغ', 'لمف', 'لمق', 'لمن', 'لمو', 'لمي', 'لمِ', 'لمٹ', 'لمپ', 'لمہ', 'لمی', 'لمے', 'لم’', 'لن', 'لن ', 'لن(', 'لنا', 'لنب', 'لنج', 'لند', 'لنس', 'لنش', 'لنٹ', 'لنچ', 'لنڈ', 'لنک', 'لنگ', 'لنی', 'لنے', 'لو', 'لو ', 'لو،', 'لوؤ', 'لوئ', 'لوا', 'لوب', 'لوت', 'لوث', 'لوج', 'لود', 'لور', 'لوز', 'لوس', 'لوش', 'لوص', 'لوط', 'لوغ', 'لوف', 'لوق', 'لول', 'لوم', 'لون', 'لوو', 'لوٖ', 'لوٹ', 'لوپ', 'لوچ', 'لوڈ', 'لوک', 'لوگ', 'لوں', 'لوہ', 'لوی', 'لوے', 'لو‘', 'لي', 'لي ', 'ليا', 'ليت', 'لير', 'ليز', 'ليف', 'ليق', 'ليم', 'لين', 'ليو', 'ليٹ', 'ليپ', 'ليک', 'ليں', 'ليہ', 'ليۓ', 'لَ', 'لَو', 'لِ', 'لِ ', 'لِس', 'لِو', 'لِی', 'لٹ', 'لٹ ', 'لٹ/', 'لٹ،', 'لٹا', 'لٹر', 'لٹس', 'لٹل', 'لٹن', 'لٹک', 'لٹھ', 'لٹی', 'لٹے', 'لپ', 'لپ ', 'لپا', 'لپر', 'لپس', 'لپم', 'لپن', 'لپو', 'لپک', 'لپی', 'لپے', 'لپ‘', 'لچ', 'لچ ', 'لچر', 'لچس', 'لچل', 'لچک', 'لڈ', 'لڈ ', 'لڈج', 'لڈر', 'لڈز', 'لڈم', 'لڈن', 'لڈو', 'لڈٹ', 'لڈپ', 'لڈک', 'لڈی', 'لڑ', 'لڑ ', 'لڑا', 'لڑت', 'لڑن', 'لڑک', 'لڑھ', 'لڑی', 'لڑے', 'لک', 'لک ', 'لک،', 'لکا', 'لکب', 'لکت', 'لکح', 'لکر', 'لکس', 'لکش', 'لکع', 'لکل', 'لکم', 'لکن', 'لکو', 'لکي', 'لکٹ', 'لکڑ', 'لکژ', 'لکھ', 'لکہ', 'لکی', 'لکے', 'لگ', 'لگ ', 'لگا', 'لگت', 'لگر', 'لگز', 'لگن', 'لگو', 'لگڑ', 'لگژ', 'لگھ', 'لگی', 'لگے', 'لگ۔', 'لھ', 'لھا', 'لھو', 'لھے', 'لہ', 'لہ ', 'لہ،', 'لہا', 'لہج', 'لہذ', 'لہر', 'لہز', 'لہس', 'لہل', 'لہن', 'لہو', 'لہٰ', 'لہی', 'لہے', 'لہ۔', 'لہ‘', 'لی', 'لی ', \"لی'\", 'لی,', 'لی.', 'لی/', 'لی1', 'لی:', 'لی،', 'لیئ', 'لیا', 'لیب', 'لیت', 'لیج', 'لیح', 'لید', 'لیر', 'لیز', 'لیس', 'لیش', 'لیغ', 'لیف', 'لیق', 'لیل', 'لیم', 'لین', 'لیو', 'لیٰ', 'لیٹ', 'لیپ', 'لیچ', 'لیڈ', 'لیک', 'لیگ', 'لیں', 'لیہ', 'لیی', 'لیے', 'لی۔', 'لی‘', 'لے', 'لے ', 'لے\"', \"لے'\", 'لے)', 'لے4', 'لے6', 'لے،', 'لےا', 'لےج', 'لےس', 'لےع', 'لےف', 'لےم', 'لےٹ', 'لےپ', 'لےک', 'لےگ', 'لے۔', 'لے‘', 'لے’', 'ل۔', 'ل۔ ', 'ل۔2', 'ل۔ڈ', 'ل۔۔', 'ل۔‘', 'ل‘', 'ل‘ ', 'ل‘‘', 'ل’', 'ل’’', 'م', 'م ', 'م\"', 'م\" ', \"م'\", \"م' \", 'م(', 'م(ن', 'م)', 'م) ', 'م)ا', 'م)ع', 'م)ک', 'م4', 'م4 ', 'م:', 'م: ', 'مi', 'مir', 'م،', 'م، ', 'م،س', 'م،ش', 'م،و', 'م،ک', 'م؛', 'م؛ ', 'مآ', 'مآب', 'مؤ', 'مؤث', 'مؤخ', 'مؤق', 'مئ', 'مئن', 'مئی', 'ما', 'ما ', 'ما،', 'ماء', 'ماؤ', 'مائ', 'ماا', 'ماب', 'مات', 'ماث', 'ماج', 'ماح', 'ماخ', 'ماد', 'مار', 'ماز', 'ماس', 'ماش', 'ماض', 'ماع', 'ماغ', 'ماف', 'مال', 'مام', 'مان', 'ماو', 'ماي', 'ماً', 'ماٹ', 'ماڈ', 'ماک', 'ماگ', 'ماں', 'ماہ', 'مای', 'ما‘', 'ما“', 'مب', 'مبئ', 'مبا', 'مبت', 'مبذ', 'مبر', 'مبش', 'مبص', 'مبل', 'مبن', 'مبو', 'مبي', 'مبھ', 'مبہ', 'مبی', 'مبے', 'مت', 'مت ', 'مت،', 'متا', 'متب', 'متح', 'متر', 'متز', 'متش', 'متع', 'متف', 'متق', 'متل', 'متم', 'متن', 'متو', 'متھ', 'متی', 'متے', 'مث', 'مثا', 'مثب', 'مثل', 'مثن', 'مج', 'مج ', 'مجا', 'مجب', 'مجت', 'مجد', 'مجر', 'مجس', 'مجص', 'مجف', 'مجل', 'مجم', 'مجو', 'مجھ', 'مجی', 'مح', 'محا', 'محب', 'محت', 'محد', 'محر', 'محس', 'محص', 'محض', 'محظ', 'محف', 'محق', 'محل', 'محم', 'محن', 'محو', 'محک', 'محہ', 'محی', 'محے', 'مخ', 'مخا', 'مخب', 'مخت', 'مخد', 'مخش', 'مخص', 'مخل', 'مد', 'مد ', 'مد،', 'مدآ', 'مدا', 'مدب', 'مدت', 'مدث', 'مدح', 'مدد', 'مدر', 'مدص', 'مدع', 'مدل', 'مدم', 'مدن', 'مدو', 'مدِ', 'مدک', 'مدھ', 'مدہ', 'مدی', 'مد‘', 'مذ', 'مذا', 'مذم', 'مذک', 'مذہ', 'مذی', 'مر', 'مر ', \"مر'\", 'مر(', 'مر،', 'مرئ', 'مرا', 'مرب', 'مرت', 'مرث', 'مرج', 'مرح', 'مرخ', 'مرد', 'مرر', 'مرز', 'مرس', 'مرش', 'مرض', 'مرط', 'مرغ', 'مرل', 'مرم', 'مرن', 'مرو', 'مري', 'مرچ', 'مرک', 'مرگ', 'مرہ', 'مری', 'مرے', 'مر‘', 'مز', 'مز ', \"مز'\", 'مز،', 'مزا', 'مزد', 'مزس', 'مزم', 'مزن', 'مزو', 'مزي', 'مزک', 'مزہ', 'مزی', 'مزے', 'مز‘', 'مس', 'مس ', 'مسئ', 'مسا', 'مست', 'مسج', 'مسح', 'مسخ', 'مسر', 'مسع', 'مسف', 'مسل', 'مسن', 'مسو', 'مسٹ', 'مسک', 'مسی', 'مسے', 'مس‘', 'مش', 'مش ', 'مشا', 'مشت', 'مشد', 'مشر', 'مشع', 'مشغ', 'مشف', 'مشق', 'مشم', 'مشن', 'مشو', 'مشي', 'مشک', 'مشہ', 'مشی', 'مص', 'مصا', 'مصب', 'مصد', 'مصر', 'مصط', 'مصن', 'مصو', 'مصی', 'مض', 'مضا', 'مضب', 'مضح', 'مضر', 'مضم', 'مط', 'مطا', 'مطب', 'مطل', 'مطم', 'مظ', 'مظآ', 'مظا', 'مظب', 'مظف', 'مظہ', 'مع', 'مع ', 'معا', 'معت', 'معج', 'معد', 'معذ', 'معر', 'معش', 'معص', 'معط', 'معظ', 'معق', 'معل', 'معم', 'معن', 'معي', 'معک', 'معہ', 'معی', 'معے', 'مغ', 'مغر', 'مغز', 'مغل', 'مغن', 'مغہ', 'مف', 'مفا', 'مفت', 'مفر', 'مفص', 'مفي', 'مفٹ', 'مفی', 'مق', 'مقا', 'مقب', 'مقت', 'مقد', 'مقر', 'مقص', 'مقع', 'مقل', 'مقن', 'مقو', 'مقی', 'مل', 'مل ', 'مل،', 'ملا', 'ملب', 'ملت', 'ملح', 'ملد', 'ملر', 'ملز', 'ملس', 'ملغ', 'ملم', 'ملن', 'ملو', 'ملٹ', 'ملڈ', 'ملک', 'ملہ', 'ملی', 'ملے', 'مم', 'مما', 'ممب', 'ممت', 'ممل', 'ممن', 'ممّ', 'ممک', 'ممی', 'من', 'من ', \"من'\", 'منa', 'منc', 'من،', 'منا', 'منب', 'منت', 'منج', 'منح', 'مند', 'منر', 'منز', 'منس', 'منش', 'منص', 'منض', 'منظ', 'منع', 'منف', 'منق', 'منو', 'منٰ', 'منٹ', 'منچ', 'منڈ', 'منک', 'منگ', 'منھ', 'منہ', 'منی', 'منے', 'مو', 'مو ', 'مو،', 'موئ', 'موا', 'موب', 'موت', 'موث', 'موج', 'موخ', 'مود', 'موذ', 'مور', 'موز', 'موس', 'موش', 'موص', 'موض', 'موع', 'موق', 'مول', 'موم', 'مون', 'موو', 'مؤ', 'موٹ', 'موچ', 'موڈ', 'موڑ', 'موک', 'موگ', 'موں', 'موہ', 'موی', 'مي', 'ميا', 'ميت', 'ميد', 'مير', 'ميز', 'ميل', 'ميم', 'مين', 'ميو', 'ميٹ', 'ميڈ', 'ميک', 'ميگ', 'ميں', 'ميہ', 'مً', 'مًا', 'مَ', 'مَی', 'مُ', 'مُج', 'مُل', 'مِ', 'مِ ', 'مِن', 'مِڈ', 'مِک', 'مّ', 'مّٹ', 'مّی', 'مٰ', 'مٰن', 'مٰں', 'مٹ', 'مٹ ', 'مٹا', 'مٹر', 'مٹس', 'مٹل', 'مٹن', 'مٹو', 'مٹھ', 'مٹی', 'مپ', 'مپ ', 'مپ:', 'مپئ', 'مپا', 'مپر', 'مپس', 'مپش', 'مپل', 'مپن', 'مپو', 'مپي', 'مپٹ', 'مپک', 'مپی', 'مپ‘', 'مچ', 'مچ ', 'مچا', 'مچل', 'مچھ', 'مچہ', 'مچے', 'مڈ', 'مڈ ', 'مڈف', 'مڈل', 'مڈو', 'مڈھ', 'مڑ', 'مڑ ', 'مڑت', 'مک', 'مک ', 'مکئ', 'مکا', 'مکت', 'مکد', 'مکر', 'مکس', 'مکش', 'مکم', 'مکن', 'مکو', 'مکي', 'مکھ', 'مکہ', 'مکی', 'مگ', 'مگ ', 'مگا', 'مگر', 'مگل', 'مگن', 'مگو', 'مں', 'مںی', 'مھ', 'مھی', 'مہ', 'مہ ', 'مہ،', 'مہا', 'مہت', 'مہد', 'مہر', 'مہش', 'مہل', 'مہم', 'مہن', 'مہو', 'مہي', 'مہک', 'مہی', 'مہے', 'مہ’', 'مۂ', 'مۂ ', 'می', 'می ', 'می:', 'می،', 'میئ', 'میا', 'میت', 'میج', 'مید', 'میر', 'میز', 'میس', 'میش', 'میض', 'میع', 'میف', 'میل', 'میم', 'مین', 'میو', 'میٰ', 'میٹ', 'میپ', 'میچ', 'میڈ', 'میک', 'میگ', 'میں', 'میہ', 'میے', 'می۔', 'می‘', 'مے', 'مے ', 'مے)', 'مے،', 'مےا', 'مے’', 'م۔', 'م۔ ', 'م۔ا', 'م‘', 'م‘ ', 'م‘س', 'م‘‘', 'م’', 'م’خ', 'م’س', 'م’ہ', 'م’’', 'مﷺ', 'مﷺ ', 'ن', 'ن ', \"ن'\", \"ن' \", 'ن(', 'ن( ', 'ن(ا', 'ن(س', 'ن(ص', 'ن(م', 'ن(و', 'ن)', 'ن) ', 'ن)م', 'ن,', 'ن, ', 'ن-', 'ن-م', 'ن1', 'ن19', 'ن2', 'ن2.', 'ن20', 'ن21', 'ن3', 'ن30', 'ن5', 'ن54', 'ن:', 'ن: ', 'ن:ع', 'نa', 'نa،', 'نc', 'نcس', 'ن،', 'ن، ', 'ن،ا', 'ن،ب', 'ن،د', 'ن،س', 'ن،ص', 'ن،ع', 'ن،م', 'ن،ک', 'نئ', 'نئ ', 'نئر', 'نئن', 'نئي', 'نئہ', 'نئی', 'نئے', 'نا', 'نا ', \"نا'\", 'نا)', 'نا-', 'نا،', 'ناء', 'ناؤ', 'نائ', 'ناا', 'ناب', 'نات', 'ناج', 'ناح', 'ناخ', 'ناد', 'نار', 'ناز', 'ناس', 'ناش', 'ناص', 'ناط', 'ناظ', 'ناف', 'ناق', 'نال', 'نام', 'نان', 'ناو', 'ناً', 'ناٹ', 'ناپ', 'ناچ', 'ناڈ', 'ناک', 'ناگ', 'ناں', 'ناہ', 'نای', 'ناے', 'نا۔', 'نا‘', 'ناﺅ', 'نب', 'نب ', 'نبا', 'نبد', 'نبر', 'نبس', 'نبش', 'نبع', 'نبو', 'نبي', 'نبھ', 'نبہ', 'نبی', 'نبے', 'نت', 'نت ', 'نت)', 'نت،', 'نتا', 'نتب', 'نتخ', 'نتر', 'نتس', 'نتش', 'نتظ', 'نتق', 'نتو', 'نتي', 'نتڑ', 'نتھ', 'نتہ', 'نتی', 'نتے', 'نث', 'نث ', 'نثا', 'نج', 'نج ', \"نج'\", 'نج(', 'نج،', 'نجا', 'نجر', 'نجز', 'نجش', 'نجل', 'نجم', 'نجن', 'نجو', 'نجي', 'نجک', 'نجھ', 'نجہ', 'نجی', 'نجے', 'نح', 'نح ', 'نحر', 'نحص', 'نخ', 'نخ ', 'نخل', 'نخو', 'ند', 'ند ', 'ند،', 'ندآ', 'ندا', 'ندت', 'ندج', 'ندر', 'ندز', 'ندس', 'ندش', 'ندق', 'ندل', 'ندم', 'ندن', 'ندو', 'ندي', 'ندک', 'ندگ', 'ندھ', 'ندہ', 'ندی', 'ندے', 'ند‘', 'نذ', 'نذر', 'نذی', 'نر', 'نر ', \"نر'\", 'نر:', 'نر،', 'نرا', 'نرج', 'نرخ', 'نرز', 'نرس', 'نرش', 'نرل', 'نرم', 'نرن', 'نرو', 'نرچ', 'نرک', 'نرگ', 'نری', 'نز', 'نز ', 'نز)', 'نز،', 'نزا', 'نزج', 'نزد', 'نزر', 'نزل', 'نزم', 'نزن', 'نزک', 'نزہ', 'نزی', 'نز’', 'نس', 'نس ', 'نس)', 'نس،', 'نسا', 'نسب', 'نست', 'نسخ', 'نسد', 'نسر', 'نسز', 'نسس', 'نسف', 'نسل', 'نسم', 'نسن', 'نسو', 'نسي', 'نسٹ', 'نسپ', 'نسڈ', 'نسک', 'نسی', 'نسے', 'نس‘', 'نش', 'نش ', 'نش:', 'نشا', 'نشر', 'نشس', 'نشل', 'نشم', 'نشن', 'نشو', 'نشپ', 'نشہ', 'نشی', 'نشے', 'نص', 'نصا', 'نصب', 'نصر', 'نصف', 'نصل', 'نصو', 'نصي', 'نصی', 'نض', 'نضب', 'نضم', 'نط', 'نطی', 'نظ', 'نظا', 'نظر', 'نظم', 'نظو', 'نظی', 'نع', 'نع ', 'نعا', 'نعت', 'نعر', 'نعق', 'نعم', 'نعک', 'نعی', 'نغ', 'نغم', 'نف', 'نف ', 'نفا', 'نفر', 'نفس', 'نفش', 'نفع', 'نفل', 'نفو', 'نفٹ', 'نفہ', 'نفی', 'نق', 'نق ', 'نقا', 'نقد', 'نقر', 'نقس', 'نقش', 'نقص', 'نقط', 'نقل', 'نقو', 'نقي', 'نقں', 'نقی', 'نل', 'نل ', 'نل)', 'نل:', 'نل،', 'نلا', 'نلز', 'نلس', 'نلن', 'نلو', 'نلٹ', 'نلڈ', 'نلک', 'نلی', 'نلے', 'نل‘', 'نم', 'نم ', 'نما', 'نمب', 'نمر', 'نمش', 'نمن', 'نمو', 'نمٹ', 'نمک', 'نمی', 'نم‘', 'نن', 'نن ', 'ننا', 'ننت', 'نند', 'ننز', 'ننس', 'ننک', 'ننگ', 'ننھ', 'ننی', 'ننے', 'نو', 'نو ', 'نو،', 'نوآ', 'نوؤ', 'نوئ', 'نوا', 'نوب', 'نوت', 'نوج', 'نوح', 'نود', 'نور', 'نوز', 'نوس', 'نوش', 'نوع', 'نوف', 'نول', 'نوم', 'نون', 'نوو', 'نوي', 'نوٹ', 'نوپ', 'نوچ', 'نوک', 'نوگ', 'نوں', 'نوہ', 'نوی', 'نوے', 'نو‘', 'نوﺅ', 'ني', 'ني ', 'نيئ', 'نيا', 'نيت', 'نيج', 'نيد', 'نيز', 'نيس', 'نيش', 'نيل', 'نيم', 'نين', 'نيو', 'نيٹ', 'نيپ', 'نيچ', 'نيڈ', 'نيک', 'نيہ', 'نِ', 'نِ ', 'نِس', 'نِک', 'نِگ', 'نِی', 'نّ', 'نّی', 'نٰ', 'نٰی', 'نٹ', 'نٹ ', 'نٹ)', 'نٹb', 'نٹf', 'نٹ،', 'نٹآ', 'نٹئ', 'نٹا', 'نٹر', 'نٹس', 'نٹص', 'نٹل', 'نٹم', 'نٹن', 'نٹو', 'نٹي', 'نٹٹ', 'نٹڈ', 'نٹک', 'نٹھ', 'نٹہ', 'نٹی', 'نٹے', 'نٹ’', 'نپ', 'نپ ', 'نپا', 'نپن', 'نپٹ', 'نپی', 'نپے', 'نچ', 'نچ ', 'نچا', 'نچت', 'نچر', 'نچز', 'نچس', 'نچل', 'نچن', 'نچو', 'نچھ', 'نچہ', 'نچی', 'نچے', 'نڈ', 'نڈ ', 'نڈ(', 'نڈ)', 'نڈ:', 'نڈ،', 'نڈئ', 'نڈا', 'نڈب', 'نڈت', 'نڈج', 'نڈذ', 'نڈر', 'نڈز', 'نڈس', 'نڈل', 'نڈم', 'نڈن', 'نڈو', 'نڈي', 'نڈپ', 'نڈڈ', 'نڈک', 'نڈھ', 'نڈہ', 'نڈی', 'نڈے', 'نڈ‘', 'نڑ', 'نڑو', 'نژ', 'نژا', 'نژو', 'نک', 'نک ', 'نک)', 'نک:', 'نک،', 'نکا', 'نکب', 'نکت', 'نکر', 'نکس', 'نکش', 'نکف', 'نکل', 'نکن', 'نکو', 'نکٹ', 'نکڈ', 'نکڑ', 'نکھ', 'نکہ', 'نکی', 'نکے', 'نک‘', 'نگ', 'نگ ', \"نگ'\", 'نگ(', 'نگ)', 'نگ:', 'نگ،', 'نگا', 'نگت', 'نگج', 'نگد', 'نگر', 'نگز', 'نگس', 'نگل', 'نگم', 'نگن', 'نگو', 'نگي', 'نگِ', 'نگٹ', 'نگڑ', 'نگں', 'نگھ', 'نگہ', 'نگی', 'نگے', 'نگ‘', 'نھ', 'نھ ', 'نھو', 'نھٹ', 'نھہ', 'نھی', 'نھے', 'نہ', 'نہ ', 'نہ،', 'نہا', 'نہت', 'نہر', 'نہض', 'نہظ', 'نہل', 'نہم', 'نہو', 'نہي', 'نہک', 'نہگ', 'نہی', 'نہ‘', 'نی', 'نی ', 'نی!', 'نی)', 'نی1', 'نی9', 'نی،', 'نی؟', 'نیؤ', 'نیئ', 'نیا', 'نیب', 'نیت', 'نیج', 'نید', 'نیر', 'نیز', 'نیس', 'نیش', 'نیف', 'نیل', 'نیم', 'نین', 'نیو', 'نیٰ', 'نیٹ', 'نیپ', 'نیچ', 'نیڈ', 'نیک', 'نیگ', 'نیں', 'نیہ', 'نیی', 'نیے', 'نی۔', 'نی‘', 'نے', 'نے ', 'نے(', 'نے)', 'نے1', 'نے2', 'نے3', 'نے4', 'نے،', 'نےآ', 'نےا', 'نےب', 'نےت', 'نےد', 'نےر', 'نےس', 'نےش', 'نےع', 'نےف', 'نےل', 'نےم', 'نےن', 'نےو', 'نےٹ', 'نےپ', 'نےچ', 'نےڈ', 'نےک', 'نےگ', 'نےی', 'نے۔', 'نے‘', 'ن۔', 'ن۔ ', 'ن۔آ', 'ن۔ا', 'ن‘', 'ن‘ ', 'ن‘،', 'ن‘‘', 'ن’', 'ن’ ', 'ن“', 'ن“ ', 'و', 'و ', 'و\"', 'و\" ', \"و'\", \"و' \", 'و(', 'و((', 'و(1', 'و)', 'و) ', 'و)ن', 'و,', 'و, ', 'و-', 'و- ', 'و1', 'و11', 'و14', 'و17', 'و2', 'و20', 'و2ف', 'و3', 'و3-', 'و37', 'و5', 'و51', 'و6', 'و6 ', 'و61', 'و64', 'و7', 'و73', 'و8', 'و8 ', 'و9', 'و90', 'و:', 'و: ', 'و?', 'و?ت', 'وm', 'وmf', 'و¿', 'و¿ن', 'و¿ں', 'و،', 'و، ', 'و،ا', 'و،ت', 'و،ح', 'و،ک', 'و،گ', 'و،ہ', 'و؟', 'و؟ ', 'وآ', 'وآم', 'وؤ', 'وؤں', 'وئ', 'وئج', 'وئز', 'وئس', 'وئف', 'وئل', 'وئم', 'وئن', 'وئو', 'وئي', 'وئِ', 'وئٹ', 'وئچ', 'وئڈ', 'وئژ', 'وئی', 'وئے', 'وا', 'وا ', \"وا'\", 'وا،', 'وا؟', 'واء', 'واؤ', 'وائ', 'واا', 'واب', 'وات', 'واث', 'واج', 'واح', 'واخ', 'واد', 'وار', 'واز', 'واس', 'واش', 'واص', 'واض', 'واع', 'واف', 'واق', 'وال', 'وام', 'وان', 'واو', 'وآ', 'واٹ', 'واپ', 'واچ', 'واڈ', 'واڑ', 'واک', 'واں', 'واہ', 'وای', 'واے', 'واۓ', 'وا۔', 'وب', 'وب ', 'وبا', 'وبت', 'وبخ', 'وبد', 'وبر', 'وبز', 'وبس', 'وبص', 'وبط', 'وبل', 'وبن', 'وبو', 'وبک', 'وبھ', 'وبہ', 'وبی', 'وبے', 'وت', 'وت ', 'وت)', 'وت،', 'وتا', 'وتد', 'وتر', 'وتف', 'وتل', 'وتم', 'وتن', 'وتو', 'وتِ', 'وتپ', 'وتھ', 'وتی', 'وتے', 'وث', 'وث ', 'وثر', 'وثی', 'وج', 'وج ', 'وج،', 'وجا', 'وجب', 'وجد', 'وجر', 'وجس', 'وجل', 'وجم', 'وجن', 'وجو', 'وجي', 'وجھ', 'وجہ', 'وجی', 'وجے', 'وح', 'وح ', 'وحا', 'وحد', 'وحش', 'وحل', 'وحم', 'وحہ', 'وحی', 'وخ', 'وخ ', 'وخا', 'وخت', 'وخد', 'وخر', 'وخص', 'وخی', 'ود', 'ود ', 'ود2', 'ود،', 'ودا', 'ودب', 'ودت', 'ودر', 'ودس', 'ودغ', 'ودم', 'ودن', 'ودو', 'ودک', 'ودگ', 'ودھ', 'ودہ', 'ودی', 'ودے', 'ود‘', 'وذ', 'وذ ', 'وذی', 'ور', 'ور ', \"ور'\", 'ور(', 'ور1', 'ور2', 'ور3', 'ور4', 'ور6', 'ور8', 'ور9', 'ور:', 'ورc', 'ورk', 'ورp', 'ور،', 'ورآ', 'ورئ', 'ورا', 'ورب', 'ورت', 'ورج', 'ورخ', 'ورد', 'ورر', 'ورز', 'ورس', 'ورش', 'ورص', 'ورط', 'ورع', 'ورغ', 'ورف', 'ورق', 'ورل', 'ورم', 'ورن', 'ورو', 'وري', 'ورِ', 'ورٹ', 'ورپ', 'ورچ', 'ورڈ', 'ورژ', 'ورک', 'ورگ', 'ورں', 'ورہ', 'وری', 'ورے', 'ور۔', 'ور‘', 'ور’', 'وز', 'وز ', 'وز)', 'وز،', 'وزآ', 'وزا', 'وزب', 'وزر', 'وزش', 'وزف', 'وزق', 'وزل', 'وزم', 'وزن', 'وزو', 'وزي', 'وزٹ', 'وزڈ', 'وزک', 'وزگ', 'وزہ', 'وزی', 'وزے', 'وز‘', 'وس', 'وس ', 'وس،', 'وسا', 'وسب', 'وست', 'وسر', 'وسز', 'وسس', 'وسط', 'وسع', 'وسف', 'وسل', 'وسم', 'وسن', 'وسو', 'وسي', 'وسٹ', 'وسک', 'وسہ', 'وسی', 'وسے', 'وس‘', 'وس“', 'وش', 'وش ', 'وش،', 'وشا', 'وشب', 'وشت', 'وشح', 'وشخ', 'وشد', 'وشر', 'وشش', 'وشل', 'وشم', 'وشن', 'وشو', 'وشي', 'وشک', 'وشگ', 'وشہ', 'وشی', 'وش۔', 'وص', 'وص ', 'وصا', 'وصب', 'وصد', 'وصف', 'وصل', 'وصو', 'وصہ', 'وصی', 'وض', 'وض ', 'وضا', 'وضع', 'وضو', 'وضہ', 'وضی', 'وضے', 'وط', 'وط ', 'وط،', 'وطا', 'وطر', 'وطن', 'وطو', 'وطہ', 'وطی', 'وطے', 'وظ', 'وظ ', 'وظb', 'وظب', 'وظہ', 'وظی', 'وع', 'وع ', 'وعا', 'وعد', 'وعم', 'وعو', 'وعہ', 'وعی', 'وعے', 'وغ', 'وغ ', 'وغا', 'وغن', 'وغی', 'وف', 'وف ', 'وف،', 'وفا', 'وفد', 'وفر', 'وفز', 'وفس', 'وفل', 'وفن', 'وفو', 'وفِ', 'وفٹ', 'وفی', 'وفے', 'وف‘', 'وق', 'وق ', 'وقا', 'وقت', 'وقر', 'وقع', 'وقف', 'وقو', 'وقی', 'وق۔', 'ول', 'ول ', \"ول'\", 'ول)', 'ول:', 'ول،', 'ول؟', 'ولا', 'ولت', 'ولح', 'ولر', 'ولز', 'ولس', 'ولف', 'ولم', 'ولن', 'ولو', 'ولي', 'ولِ', 'ولٹ', 'ولپ', 'ولڈ', 'ولک', 'ولگ', 'ولھ', 'ولہ', 'ولی', 'ولے', 'ول۔', 'ول‘', 'وم', 'وم ', \"وم'\", 'وم،', 'وما', 'ومب', 'ومت', 'ومح', 'ومخ', 'ومد', 'ومر', 'ومز', 'ومس', 'ومع', 'ومف', 'ومق', 'ومل', 'ومن', 'ومو', 'ومي', 'ومً', 'ومٹ', 'ومپ', 'ومک', 'ومہ', 'ومی', 'ومے', 'وم‘', 'ون', 'ون ', \"ون'\", 'ون(', 'ون)', 'ون2', 'ون5', 'ون،', 'ونئ', 'ونا', 'ونت', 'ونج', 'ونخ', 'وند', 'ونذ', 'ونر', 'ونز', 'ونس', 'ونش', 'ونص', 'ونف', 'ونق', 'ونل', 'ونم', 'ونن', 'ونو', 'وني', 'ونِ', 'ونٹ', 'ونپ', 'ونچ', 'ونڈ', 'ونک', 'ونگ', 'ونہ', 'ونی', 'ونے', 'ون۔', 'ون‘', 'ون’', 'وو', 'وو ', 'ووا', 'وور', 'ووز', 'ووس', 'ووغ', 'ووف', 'وول', 'ووم', 'وون', 'ووِ', 'وؤ', 'ووٹ', 'ووپ', 'ووچ', 'ووڈ', 'ووک', 'ووگ', 'ووں', 'ووہ', 'ووی', 'ووے', 'وي', 'وي ', 'ويئ', 'ويا', 'ويب', 'ويت', 'وير', 'ويز', 'ويس', 'وين', 'ويو', 'ويٹ', 'ويڈ', 'ويژ', 'ويک', 'ويں', 'وِ', 'وِب', 'وِد', 'وِن', 'وِڈ', 'وّ', 'وّل', 'ؤ', 'ؤ ', 'ؤت', 'ؤث', 'ؤخ', 'ؤد', 'ؤس', 'ؤف', 'ؤق', 'ؤل', 'ؤن', 'ؤٹ', 'ؤڈ', 'ؤں', 'وٖ', 'وٖ ', 'وٖق', 'وٰ', 'وٰی', 'وٴ', 'وٴد', 'وٴز', 'وٴْ', 'وٹ', 'وٹ ', \"وٹ'\", 'وٹ)', 'وٹ:', 'وٹ،', 'وٹا', 'وٹت', 'وٹر', 'وٹز', 'وٹس', 'وٹل', 'وٹم', 'وٹن', 'وٹو', 'وٹي', 'وٹک', 'وٹگ', 'وٹھ', 'وٹہ', 'وٹی', 'وٹے', 'وٹ۔', 'وپ', 'وپ ', 'وپ،', 'وپئ', 'وپا', 'وپت', 'وپر', 'وپس', 'وپل', 'وپم', 'وپن', 'وپو', 'وپي', 'وپٹ', 'وپڑ', 'وپک', 'وپہ', 'وپی', 'وپے', 'وپ‘', 'وچ', 'وچ ', 'وچ\"', 'وچا', 'وچت', 'وچر', 'وچز', 'وچس', 'وچل', 'وچن', 'وچو', 'وچک', 'وچھ', 'وچی', 'وچے', 'وڈ', 'وڈ ', \"وڈ'\", 'وڈ)', 'وڈ1', 'وڈئ', 'وڈا', 'وڈت', 'وڈر', 'وڈز', 'وڈس', 'وڈش', 'وڈل', 'وڈن', 'وڈو', 'وڈي', 'وڈڈ', 'وڈک', 'وڈگ', 'وڈی', 'وڈے', 'وڈ‘', 'وڑ', 'وڑ ', 'وڑ9', 'وڑ،', 'وڑا', 'وڑت', 'وڑد', 'وڑر', 'وڑن', 'وڑو', 'وڑي', 'وڑٹ', 'وڑھ', 'وڑی', 'وڑے', 'وژ', 'وژر', 'وژن', 'وژو', 'وک', 'وک ', 'وک،', 'وکئ', 'وکا', 'وکت', 'وکر', 'وکس', 'وکش', 'وکل', 'وکم', 'وکن', 'وکو', 'وکي', 'وکٹ', 'وکھ', 'وکہ', 'وکی', 'وکے', 'وگ', 'وگ ', 'وگ،', 'وگئ', 'وگا', 'وگب', 'وگر', 'وگل', 'وگن', 'وگو', 'وگٹ', 'وگک', 'وگی', 'وگے', 'وں', 'وں ', \"وں'\", 'وں)', 'وں,', 'وں-', 'وں،', 'وں؟', 'وںش', 'وںف', 'وںم', 'وںن', 'وںو', 'وںٹ', 'وںک', 'وںگ', 'وں۔', 'وں‘', 'وھ', 'وھر', 'وھی', 'وہ', 'وہ ', 'وہ،', 'وہا', 'وہت', 'وہد', 'وہر', 'وہز', 'وہل', 'وہم', 'وہن', 'وہو', 'وہي', 'وہک', 'وہی', 'وہے', 'وہ۔', 'وہ‘', 'وی', 'وی ', 'وی)', 'وی-', 'وی،', 'ویئ', 'ویا', 'ویب', 'ویت', 'ویج', 'وید', 'ویر', 'ویز', 'ویس', 'ویش', 'ویض', 'ویف', 'ویل', 'ویم', 'وین', 'ویو', 'ویٰ', 'ویٹ', 'ویپ', 'ویڈ', 'ویڑ', 'ویژ', 'ویک', 'ویگ', 'ویں', 'ویہ', 'ویے', 'وے', 'وے ', \"وے'\", 'وے،', 'وےا', 'وے‘', 'وۓ', 'وۓ ', 'و۔', 'و۔ ', \"و۔'\", 'و۔2', 'و۔ص', 'و۔م', 'و‘', 'و‘ ', 'و‘۔', 'و‘‘', 'و’', 'و’ ', 'و’’', 'وﺅ', 'وﺅں', 'ي', 'ي ', 'ي)', 'ي) ', 'يئ', 'يئر', 'يا', 'يا ', 'يا،', 'ياء', 'ياؤ', 'يائ', 'ياا', 'ياب', 'يات', 'ياد', 'يار', 'ياس', 'ياف', 'يال', 'يان', 'ياو', 'ياں', 'ياہ', 'يا۔', 'يب', 'يب ', 'يبل', 'يبو', 'يبي', 'يبٹ', 'يت', 'يت ', 'يت،', 'يتا', 'يتن', 'يتک', 'يتھ', 'يتی', 'يتے', 'يج', 'يج ', 'يجا', 'يجر', 'يجن', 'يجي', 'يجہ', 'يجے', 'يح', 'يح ', 'يحت', 'يد', 'يد ', 'يد،', 'يدا', 'يدت', 'يدر', 'يدگ', 'يدہ', 'يدے', 'ير', 'ير ', 'ير،', 'يرا', 'يرز', 'يرو', 'يري', 'يرہ', 'يری', 'يز', 'يز ', 'يزا', 'يزب', 'يزن', 'يزی', 'يس', 'يس ', 'يسا', 'يسر', 'يسف', 'يسن', 'يسو', 'يسٹ', 'يسک', 'يسہ', 'يسی', 'يسے', 'يش', 'يش ', 'يشا', 'يشل', 'يشم', 'يشن', 'يشو', 'يشي', 'يشک', 'يشے', 'يص', 'يصل', 'يض', 'يض ', 'يض،', 'يط', 'يطس', 'يع', 'يع ', 'يعہ', 'يغ', 'يغا', 'يف', 'يف ', 'يف-', 'يفا', 'يفي', 'يق', 'يق ', 'يقا', 'يقو', 'يقہ', 'يقی', 'يقے', 'يل', 'يل ', 'يلا', 'يلت', 'يلج', 'يلر', 'يلز', 'يلف', 'يلن', 'يلو', 'يلي', 'يلٹ', 'يلی', 'يلے', 'يم', 'يم ', 'يم،', 'يما', 'يمب', 'يمت', 'يمر', 'يمز', 'يمو', 'يمي', 'يمہ', 'يمی', 'ين', 'ين ', 'ينئ', 'ينا', 'ينت', 'ينج', 'يند', 'ينز', 'ينس', 'ينل', 'ينم', 'ينن', 'ينو', 'يني', 'ينٹ', 'ينڈ', 'ينک', 'ينہ', 'ينی', 'ينے', 'يو', 'يو ', 'يو،', 'يوا', 'يوب', 'يود', 'يور', 'يوز', 'يوس', 'يوش', 'يول', 'يوم', 'يون', 'يوي', 'يوٹ', 'يوک', 'يوں', 'يٹ', 'يٹ ', 'يٹt', 'يٹا', 'يٹر', 'يٹس', 'يٹل', 'يٹم', 'يٹن', 'يٹي', 'يٹڈ', 'يٹک', 'يٹھ', 'يٹی', 'يٹے', 'يپ', 'يپ ', 'يپا', 'يپس', 'يپل', 'يپن', 'يچ', 'يچا', 'يچر', 'يچي', 'يچھ', 'يچے', 'يڈ', 'يڈ ', 'يڈ،', 'يڈا', 'يڈر', 'يڈز', 'يڈو', 'يڈي', 'يڑ', 'يڑ ', 'يژ', 'يژن', 'يک', 'يک ', 'يکا', 'يکت', 'يکر', 'يکس', 'يکش', 'يکل', 'يکن', 'يکو', 'يکٹ', 'يکچ', 'يکھ', 'يکہ', 'يکی', 'يگ', 'يگ ', 'يگز', 'يگن', 'يگو', 'يں', 'يں ', 'يں۔', 'يہ', 'يہ ', 'يہ،', 'يہا', 'يے', 'يے ', 'يۓ', 'يۓ ', 'يۓا', 'ً', 'ً ', 'ً1', 'ً10', 'ً13', 'ًا', 'ًا ', 'ًن', 'ًنو', 'ًپ', 'ًپچ', 'ًک', 'ًکم', 'ًہ', 'ًہر', 'ٌ', 'ٌ ', 'َ', 'َ ', 'َا', 'َا ', 'َخ', 'َخذ', 'َر', 'َر ', 'َس', 'َست', 'َن', 'َن ', 'َو', 'َو ', 'ََ', 'ََ ', 'َپ', 'َپ ', 'َی', 'َیچ', 'َیں', 'ُ', 'ُب', 'ُبا', 'ُت', 'ُتا', 'ُتر', 'ُتل', 'ُتن', 'ُج', 'ُجھ', 'ُخ', 'ُخ ', 'ُد', 'ُدر', 'ُدھ', 'ُر', 'ُر ', 'ُرا', 'ُرب', 'ُرد', 'ُرس', 'ُرع', 'ُری', 'ُس', 'ُس ', 'ُست', 'ُسے', 'ُش', 'ُشا', 'ُص', 'ُصو', 'ُل', 'ُل ', 'ُلا', 'ُلک', 'ُلی', 'ُم', 'ُمی', 'ُن', 'ُن ', 'ُنھ', 'ُنہ', 'ُنی', 'ُو', 'ُو ', 'ُوج', 'ُور', 'ُوک', 'ُوگ', 'ُو‘', 'ُٹ', 'ُٹھ', 'ُپ', 'ُپا', 'ُپر', 'ُچ', 'ُچھ', 'ُڈ', 'ُڈ ', 'ُڑ', 'ُڑ ', 'ُڑک', 'ُک', 'ُک ', 'ُکن', 'ُکھ', 'ُگ', 'ُگا', 'ُھ', 'ُھل', 'ُھو', 'ُی', 'ُی ', 'ِ', 'ِ ', 'ِا', 'ِاع', 'ِب', 'ِبد', 'ِبس', 'ِت', 'ِتع', 'ِج', 'ِج ', 'ِح', 'ِحا', 'ِد', 'ِد ', 'ِدّ', 'ِدھ', 'ِر', 'ِری', 'ِز', 'ِزم', 'ِس', 'ِس ', 'ِسٹ', 'ِسک', 'ِسں', 'ِسی', 'ِش', 'ِش ', 'ِشک', 'ِص', 'ِصح', 'ِل', 'ِل ', 'ِلد', 'ِلو', 'ِم', 'ِم ', 'ِمب', 'ِمق', 'ِن', 'ِن ', 'ِنظ', 'ِنف', 'ِنگ', 'ِنی', 'ِو', 'ِو ', 'ِور', 'ِٹ', 'ِٹ ', 'ِٹی', 'ِچ', 'ِچ ', 'ِچی', 'ِڈ', 'ِڈ ', 'ِڈِ', 'ِڈ۔', 'ِک', 'ِک ', 'ِکا', 'ِکو', 'ِکھ', 'ِگ', 'ِگ ', 'ِھ', 'ِھر', 'ِھچ', 'ِی', 'ِیئ', 'ِیا', 'ِیر', 'ِیف', 'ِیم', 'ِیو', 'ِے', 'ِے ', 'ّ', 'ّب', 'ّب ', 'ّت', 'ّت ', 'ّر', 'ّر ', 'ّل', 'ّل ', 'ّٹ', 'ّٹ ', 'ّٹ‘', 'ّہ', 'ّہ ', 'ّی', 'ّی ', 'ّیس', 'ّے', 'ّے ', 'ّےس', 'ْ', 'ْر', 'ْرج', 'ْس', 'ْس ', 'ْل', 'ْل ', 'ْن', 'ْنہ', 'ْڈ', 'ْڈ ', 'ٓ', 'ٓ ', 'ٓؤ', 'ٓؤٹ', 'ٓئ', 'ٓئر', 'ٓئس', 'ٓئل', 'ٓئم', 'ٓئن', 'ٓئو', 'ٓئی', 'ٓئے', 'ٓب', 'ٓب ', 'ٓبا', 'ٓبِ', 'ٓبی', 'ٓت', 'ٓتا', 'ٓتی', 'ٓتے', 'ٓث', 'ٓثا', 'ٓج', 'ٓج ', 'ٓجا', 'ٓخ', 'ٓخر', 'ٓد', 'ٓدر', 'ٓدم', 'ٓدھ', 'ٓدی', 'ٓذ', 'ٓذر', 'ٓر', 'ٓر ', 'ٓر)', 'ٓرا', 'ٓرت', 'ٓرس', 'ٓرش', 'ٓرم', 'ٓرو', 'ٓرٹ', 'ٓرڈ', 'ٓرک', 'ٓرگ', 'ٓرہ', 'ٓز', 'ٓزا', 'ٓزم', 'ٓس', 'ٓس ', 'ٓسا', 'ٓسم', 'ٓسو', 'ٓسٹ', 'ٓسک', 'ٓش', 'ٓشن', 'ٓص', 'ٓصف', 'ٓغ', 'ٓغا', 'ٓغو', 'ٓف', 'ٓف ', 'ٓفا', 'ٓفر', 'ٓفس', 'ٓفی', 'ٓل', 'ٓل ', 'ٓلا', 'ٓلو', 'ٓلہ', 'ٓلے', 'ٓم', 'ٓم ', 'ٓم،', 'ٓما', 'ٓمد', 'ٓمل', 'ٓمن', 'ٓمو', 'ٓمی', 'ٓن', 'ٓن ', 'ٓنا', 'ٓنت', 'ٓند', 'ٓنس', 'ٓنن', 'ٓنچ', 'ٓنک', 'ٓنی', 'ٓنے', 'ٓو', 'ٓوا', 'ٓور', 'ٓؤ', 'ٓوی', 'ٓٹ', 'ٓٹو', 'ٓٹک', 'ٓٹھ', 'ٓپ', 'ٓپ ', 'ٓپت', 'ٓپر', 'ٓپس', 'ٓپش', 'ٓپک', 'ٓچ', 'ٓچک', 'ٓڈ', 'ٓڈی', 'ٓڑ', 'ٓڑو', 'ٓڑے', 'ٓک', 'ٓکر', 'ٓکز', 'ٓکس', 'ٓگ', 'ٓگ ', 'ٓگئ', 'ٓگا', 'ٓگم', 'ٓگہ', 'ٓگی', 'ٓگے', 'ٓں', 'ٓں،', 'ٓہ', 'ٓہ ', 'ٓہس', 'ٓہن', 'ٓہو', 'ٓہٹ', 'ٓی', 'ٓیا', 'ٔ', 'ٔ ', 'ٔا', 'ٔار', 'ٔت', 'ٔتھ', 'ٔث', 'ٔثر', 'ٔح', 'ٔحر', 'ٔخ', 'ٔخر', 'ٔد', 'ٔد ', 'ٔس', 'ٔسز', 'ٔف', 'ٔف ', 'ٔق', 'ٔقف', 'ٔل', 'ٔل ', 'ٔن', 'ٔن ', 'ٔن،', 'ٔنث', 'ٔنٹ', 'ٔنڈ', 'ٔٹ', 'ٔٹ ', 'ٔٹر', 'ٔٹف', 'ٔڈ', 'ٔڈر', 'ٔں', 'ٔں ', 'ٖ', 'ٖ ', 'ٖض', 'ٖضر', 'ٖف', 'ٖفی', 'ٖق', 'ٖقت', '٪', '٪ ', '٭', '٭ ', '٭م', '٭مس', '٭و', '٭وٹ', '٭پ', '٭پس', '٭ڈ', '٭ڈپ', '٭ک', '٭کم', 'ٰ', 'ٰ ', 'ٰ،', 'ٰ، ', 'ٰ،ک', 'ٰا', 'ٰان', 'ٰذ', 'ٰذا', 'ٰن', 'ٰن ', 'ٰں', 'ٰں ', 'ٰی', 'ٰی ', 'ٴ', 'ٴ ', 'ٴد', 'ٴدی', 'ٴز', 'ٴزر', 'ٴْ', 'ٴْن', 'ٴْڈ', 'ٹ', 'ٹ ', 'ٹ\"', 'ٹ\" ', \"ٹ'\", \"ٹ' \", 'ٹ(', 'ٹ(س', 'ٹ)', 'ٹ) ', 'ٹ)،', 'ٹ/', 'ٹ/1', 'ٹ5', 'ٹ54', 'ٹ:', 'ٹ: ', 'ٹb', 'ٹbe', 'ٹf', 'ٹfl', 'ٹt', 'ٹte', 'ٹ،', 'ٹ، ', 'ٹ،2', 'ٹ،و', 'ٹآ', 'ٹآئ', 'ٹؤ', 'ٹؤن', 'ٹئ', 'ٹئر', 'ٹا', 'ٹا ', 'ٹاؤ', 'ٹائ', 'ٹاب', 'ٹات', 'ٹاد', 'ٹار', 'ٹاس', 'ٹاش', 'ٹاف', 'ٹال', 'ٹام', 'ٹان', 'ٹاو', 'ٹاپ', 'ٹاچ', 'ٹاڈ', 'ٹاک', 'ٹاگ', 'ٹای', 'ٹا‘', 'ٹب', 'ٹب ', 'ٹبا', 'ٹبل', 'ٹت', 'ٹتا', 'ٹتی', 'ٹتے', 'ٹح', 'ٹحی', 'ٹر', 'ٹر ', 'ٹر(', 'ٹر)', 'ٹر,', 'ٹر:', 'ٹر،', 'ٹرا', 'ٹرب', 'ٹرج', 'ٹرر', 'ٹرز', 'ٹرس', 'ٹرش', 'ٹرف', 'ٹرل', 'ٹرم', 'ٹرن', 'ٹرو', 'ٹري', 'ٹرِ', 'ٹرٹ', 'ٹرپ', 'ٹرڈ', 'ٹرک', 'ٹرہ', 'ٹری', 'ٹر‘', 'ٹز', 'ٹز ', 'ٹز4', 'ٹزر', 'ٹزل', 'ٹزم', 'ٹزڈ', 'ٹس', 'ٹس ', \"ٹس'\", 'ٹس)', 'ٹس،', 'ٹسم', 'ٹسن', 'ٹسو', 'ٹسٹ', 'ٹسی', 'ٹس‘', 'ٹش', 'ٹش ', 'ٹشو', 'ٹص', 'ٹصح', 'ٹغ', 'ٹغر', 'ٹف', 'ٹف ', 'ٹفل', 'ٹفٹ', 'ٹل', 'ٹل ', 'ٹلا', 'ٹلر', 'ٹلز', 'ٹلی', 'ٹم', 'ٹم ', 'ٹم)', 'ٹم،', 'ٹما', 'ٹمب', 'ٹمر', 'ٹمز', 'ٹمن', 'ٹمپ', 'ٹمک', 'ٹمی', 'ٹن', 'ٹن ', 'ٹن(', 'ٹن:', 'ٹن،', 'ٹنا', 'ٹنر', 'ٹنس', 'ٹنل', 'ٹنم', 'ٹنو', 'ٹنٹ', 'ٹنڈ', 'ٹنگ', 'ٹنہ', 'ٹنی', 'ٹنے', 'ٹن“', 'ٹو', 'ٹو ', 'ٹو)', 'ٹو:', 'ٹو،', 'ٹوئ', 'ٹوا', 'ٹوب', 'ٹوت', 'ٹور', 'ٹوز', 'ٹوس', 'ٹوف', 'ٹول', 'ٹوم', 'ٹون', 'ٹوو', 'ٹوي', 'ٹوٹ', 'ٹوپ', 'ٹوڈ', 'ٹوک', 'ٹوگ', 'ٹوں', 'ٹوہ', 'ٹوی', 'ٹو‘', 'ٹي', 'ٹيس', 'ٹيش', 'ٹيل', 'ٹين', 'ٹيو', 'ٹيٹ', 'ٹيپ', 'ٹيک', 'ٹيں', 'ٹِ', 'ٹِن', 'ٹِک', 'ٹٹ', 'ٹٹ ', 'ٹٹی', 'ٹپ', 'ٹپس', 'ٹچ', 'ٹچ ', 'ٹڈ', 'ٹڈ ', 'ٹڈي', 'ٹڈی', 'ٹڈ‘', 'ٹک', 'ٹک ', 'ٹکا', 'ٹکت', 'ٹکر', 'ٹکس', 'ٹکن', 'ٹکو', 'ٹکي', 'ٹکِ', 'ٹکٹ', 'ٹکڑ', 'ٹکھ', 'ٹکہ', 'ٹکی', 'ٹکے', 'ٹگ', 'ٹگ ', 'ٹگر', 'ٹھ', 'ٹھ ', 'ٹھا', 'ٹھت', 'ٹھم', 'ٹھن', 'ٹھو', 'ٹھٹ', 'ٹھک', 'ٹھہ', 'ٹھی', 'ٹھے', 'ٹہ', 'ٹہ ', 'ٹہن', 'ٹی', 'ٹی ', \"ٹی'\", 'ٹی)', 'ٹی2', 'ٹی،', 'ٹیئ', 'ٹیا', 'ٹیب', 'ٹیج', 'ٹیر', 'ٹیز', 'ٹیس', 'ٹیش', 'ٹیف', 'ٹیل', 'ٹیم', 'ٹین', 'ٹیو', 'ٹیٹ', 'ٹیپ', 'ٹیچ', 'ٹیڈ', 'ٹیڑ', 'ٹیک', 'ٹیگ', 'ٹیں', 'ٹیہ', 'ٹی۔', 'ٹی‘', 'ٹے', 'ٹے ', 'ٹے4', 'ٹے،', 'ٹےا', 'ٹ۔', 'ٹ۔ ', 'ٹ۔2', 'ٹ‘', 'ٹ‘ ', 'ٹ‘،', 'ٹ‘‘', 'ٹ’', 'ٹ’آ', 'پ', 'پ ', \"پ'\", \"پ' \", 'پ)', 'پ) ', 'پ:', 'پ: ', 'پ،', 'پ، ', 'پ،د', 'پ،ف', 'پئ', 'پئن', 'پئو', 'پئی', 'پئے', 'پا', 'پا ', 'پا،', 'پاؤ', 'پائ', 'پاب', 'پات', 'پاخ', 'پاد', 'پار', 'پاز', 'پاس', 'پاش', 'پال', 'پام', 'پان', 'پاو', 'پاٹ', 'پاپ', 'پاڈ', 'پاڑ', 'پاک', 'پاگ', 'پاہ', 'پای', 'پا۔', 'پاﺅ', 'پب', 'پبل', 'پت', 'پت ', 'پتا', 'پتل', 'پتو', 'پتھ', 'پتہ', 'پتی', 'پتے', 'پث', 'پثر', 'پخ', 'پخت', 'پد', 'پدم', 'پذ', 'پذي', 'پذی', 'پر', 'پر ', 'پر!', 'پر)', 'پر0', 'پر1', 'پر2', 'پر3', 'پر4', 'پر7', 'پر9', 'پر،', 'پرآ', 'پرا', 'پرب', 'پرت', 'پرج', 'پرخ', 'پرد', 'پرز', 'پرس', 'پرش', 'پرظ', 'پرع', 'پرف', 'پرل', 'پرم', 'پرن', 'پرو', 'پري', 'پرٹ', 'پرپ', 'پرچ', 'پرڈ', 'پرک', 'پرھ', 'پرہ', 'پری', 'پرے', 'پر۔', 'پر‘', 'پز', 'پزی', 'پس', 'پس ', 'پسا', 'پست', 'پسز', 'پسس', 'پسل', 'پسم', 'پسن', 'پسو', 'پسي', 'پسی', 'پسے', 'پس‘', 'پش', 'پش ', 'پشا', 'پشت', 'پشن', 'پشي', 'پشی', 'پف', 'پفر', 'پل', 'پل ', \"پل'\", 'پل2', 'پل،', 'پلئ', 'پلا', 'پلر', 'پلز', 'پلس', 'پلش', 'پلن', 'پلو', 'پلٹ', 'پلڑ', 'پلک', 'پلگ', 'پلہ', 'پلی', 'پلے', 'پم', 'پم ', 'پما', 'پمز', 'پمن', 'پمپ', 'پمی', 'پن', 'پن ', 'پن)', 'پنا', 'پنج', 'پند', 'پنر', 'پنس', 'پنش', 'پنل', 'پنن', 'پنو', 'پني', 'پنٹ', 'پنچ', 'پنڈ', 'پنک', 'پنگ', 'پنی', 'پنے', 'پن۔', 'پو', 'پو ', 'پو،', 'پوا', 'پوت', 'پوج', 'پود', 'پور', 'پوز', 'پوس', 'پوش', 'پول', 'پوم', 'پون', 'پوٹ', 'پوپ', 'پوچ', 'پوڈ', 'پوڑ', 'پوک', 'پوگ', 'پوں', 'پوہ', 'پوی', 'پي', 'پيا', 'پيد', 'پيس', 'پيش', 'پيغ', 'پيل', 'پيم', 'پين', 'پيو', 'پيٹ', 'پيچ', 'پيڈ', 'پيک', 'پُ', 'پُت', 'پُر', 'پِ', 'پِن', 'پِک', 'پِھ', 'پْ', 'پْر', 'پْل', 'پٹ', 'پٹ ', 'پٹر', 'پٹس', 'پٹل', 'پٹن', 'پٹو', 'پٹڈ', 'پٹک', 'پٹھ', 'پٹہ', 'پٹی', 'پٹے', 'پپ', 'پپس', 'پپو', 'پپی', 'پچ', 'پچ ', 'پچا', 'پچي', 'پچّ', 'پچپ', 'پچھ', 'پچی', 'پڈ', 'پڈو', 'پڈک', 'پڈی', 'پڑ', 'پڑ ', 'پڑا', 'پڑت', 'پڑج', 'پڑر', 'پڑس', 'پڑن', 'پڑو', 'پڑھ', 'پڑی', 'پڑے', 'پک', 'پک ', 'پکا', 'پکت', 'پکر', 'پکس', 'پکل', 'پکن', 'پکو', 'پکٹ', 'پکچ', 'پکڑ', 'پکی', 'پکے', 'پگ', 'پگم', 'پگھ', 'پھ', 'پھا', 'پھر', 'پھس', 'پھل', 'پھن', 'پھو', 'پھي', 'پھٹ', 'پھپ', 'پھڈ', 'پھڑ', 'پھک', 'پھی', 'پہ', 'پہ ', 'پہا', 'پہر', 'پہل', 'پہن', 'پہچ', 'پہی', 'پی', 'پی ', \"پی'\", 'پی)', 'پی-', 'پی،', 'پیؤ', 'پیئ', 'پیا', 'پیت', 'پیج', 'پیخ', 'پید', 'پیر', 'پیز', 'پیس', 'پیش', 'پیغ', 'پیل', 'پیم', 'پین', 'پیو', 'پیٹ', 'پیپ', 'پیچ', 'پیڈ', 'پیڑ', 'پیک', 'پیگ', 'پیں', 'پیھ', 'پیہ', 'پی۔', 'پی‘', 'پے', 'پے ', 'پے)', 'پے،', 'پےا', 'پےم', 'پےک', 'پےہ', 'پ‘', 'پ‘ ', 'پ‘ا', 'پ‘‘', 'پ“', 'پ“ ', 'چ', 'چ ', 'چ\"', 'چ\"ک', 'چ)', 'چ) ', 'چ,', 'چ,ک', 'چ-', 'چ-2', 'چ-8', 'چ2', 'چ20', 'چ،', 'چ، ', 'چئ', 'چئر', 'چا', 'چا ', \"چا'\", 'چا،', 'چاؤ', 'چائ', 'چات', 'چاد', 'چار', 'چاس', 'چاق', 'چال', 'چان', 'چاو', 'چاٹ', 'چاچ', 'چاک', 'چاہ', 'چای', 'چاۓ', 'چا۔', 'چب', 'چبا', 'چبھ', 'چت', 'چت ', 'چتا', 'چتر', 'چتو', 'چتی', 'چتے', 'چر', 'چر ', 'چر،', 'چرا', 'چرب', 'چرر', 'چرز', 'چرل', 'چرن', 'چرٹ', 'چرچ', 'چرڈ', 'چرک', 'چری', 'چرے', 'چر‘', 'چز', 'چز ', 'چز1', 'چزم', 'چزک', 'چس', 'چست', 'چسٹ', 'چسپ', 'چش', 'چش ', 'چشم', 'چق', 'چقن', 'چل', 'چل ', 'چلا', 'چلت', 'چلغ', 'چلن', 'چلو', 'چلچ', 'چلڈ', 'چلی', 'چلے', 'چم', 'چم ', 'چما', 'چمب', 'چمپ', 'چمچ', 'چمک', 'چن', 'چن ', 'چن،', 'چنئ', 'چنا', 'چنب', 'چنج', 'چند', 'چنر', 'چنز', 'چنس', 'چنن', 'چنو', 'چنٹ', 'چنچ', 'چنگ', 'چنے', 'چو', 'چوئ', 'چوا', 'چوب', 'چوت', 'چود', 'چور', 'چوس', 'چوط', 'چول', 'چوم', 'چون', 'چوو', 'چوي', 'چوٹ', 'چوپ', 'چوڑ', 'چوک', 'چوگ', 'چوں', 'چوہ', 'چوی', 'چي', 'چيت', 'چيد', 'چيس', 'چين', 'چيٹ', 'چيڑ', 'چيک', 'چُ', 'چُو', 'چُھ', 'چّ', 'چّی', 'چٹ', 'چٹ ', 'چٹا', 'چٹن', 'چٹک', 'چپ', 'چپ ', 'چپس', 'چپل', 'چپن', 'چپچ', 'چپک', 'چپے', 'چچ', 'چچ ', 'چڈ', 'چڈھ', 'چڑ', 'چڑا', 'چڑچ', 'چڑھ', 'چڑی', 'چڑے', 'چک', 'چک ', 'چکا', 'چکد', 'چکر', 'چکن', 'چکو', 'چکچ', 'چکھ', 'چکی', 'چکے', 'چگ', 'چگ ', 'چگا', 'چگی', 'چھ', 'چھ ', 'چھ.', 'چھ،', 'چھا', 'چھب', 'چھت', 'چھر', 'چھل', 'چھن', 'چھو', 'چھٹ', 'چھپ', 'چھڑ', 'چھک', 'چھہ', 'چھی', 'چھے', 'چہ', 'چہ ', 'چہا', 'چہر', 'چہل', 'چہچ', 'چہی', 'چی', 'چی ', 'چی(', 'چی:', 'چی،', 'چیئ', 'چیا', 'چیت', 'چید', 'چیر', 'چیز', 'چیس', 'چیف', 'چیق', 'چیل', 'چیم', 'چین', 'چیو', 'چیٹ', 'چیچ', 'چیک', 'چیں', 'چی۔', 'چے', 'چے ', 'چے)', 'چے،', 'چے؟', 'چےا', 'چےت', 'چے۔', 'چے‘', 'چ۔', 'چ۔ ', 'ڈ', 'ڈ ', \"ڈ'\", \"ڈ' \", 'ڈ(', 'ڈ(£', 'ڈ(و', 'ڈ)', 'ڈ) ', 'ڈ1', 'ڈ19', 'ڈ2', 'ڈ2ر', 'ڈ:', 'ڈ: ', 'ڈ:ا', 'ڈ،', 'ڈ، ', 'ڈ،ا', 'ڈ،ج', 'ڈ،ل', 'ڈ،و', 'ڈآ', 'ڈآٹ', 'ڈئ', 'ڈئی', 'ڈا', 'ڈا ', 'ڈا:', 'ڈا،', 'ڈاؤ', 'ڈائ', 'ڈاد', 'ڈار', 'ڈاس', 'ڈاف', 'ڈال', 'ڈان', 'ڈاو', 'ڈاٹ', 'ڈاک', 'ڈاگ', 'ڈب', 'ڈبا', 'ڈبل', 'ڈبو', 'ڈبک', 'ڈبی', 'ڈبے', 'ڈت', 'ڈتا', 'ڈتھ', 'ڈج', 'ڈجب', 'ڈجس', 'ڈجی', 'ڈح', 'ڈحا', 'ڈذ', 'ڈذ ', 'ڈر', 'ڈر ', 'ڈر2', 'ڈر5', 'ڈر،', 'ڈرا', 'ڈرب', 'ڈرت', 'ڈرر', 'ڈرز', 'ڈرس', 'ڈرش', 'ڈرف', 'ڈرل', 'ڈرم', 'ڈرن', 'ڈرو', 'ڈري', 'ڈرٹ', 'ڈرپ', 'ڈرچ', 'ڈرڈ', 'ڈرک', 'ڈرگ', 'ڈرہ', 'ڈری', 'ڈر‘', 'ڈز', 'ڈز ', 'ڈز!', 'ڈز\"', 'ڈز،', 'ڈزا', 'ڈزس', 'ڈزن', 'ڈزک', 'ڈز‘', 'ڈس', 'ڈس ', 'ڈسر', 'ڈسم', 'ڈسن', 'ڈسٹ', 'ڈسپ', 'ڈسچ', 'ڈسڑ', 'ڈسک', 'ڈسے', 'ڈش', 'ڈش ', 'ڈشز', 'ڈشی', 'ڈف', 'ڈف ', 'ڈفر', 'ڈفی', 'ڈل', 'ڈل ', 'ڈلا', 'ڈلز', 'ڈلس', 'ڈلن', 'ڈلو', 'ڈلہ', 'ڈلی', 'ڈلے', 'ڈم', 'ڈم ', 'ڈما', 'ڈمل', 'ڈمن', 'ڈمّ', 'ڈمپ', 'ڈمی', 'ڈن', 'ڈن ', 'ڈن,', 'ڈن،', 'ڈنا', 'ڈنب', 'ڈنر', 'ڈنز', 'ڈنس', 'ڈنل', 'ڈنم', 'ڈنٹ', 'ڈنگ', 'ڈنی', 'ڈنے', 'ڈو', 'ڈو ', 'ڈو:', 'ڈو،', 'ڈوئ', 'ڈوا', 'ڈوب', 'ڈوت', 'ڈور', 'ڈوز', 'ڈوص', 'ڈول', 'ڈوم', 'ڈون', 'ڈوي', 'ڈوچ', 'ڈوک', 'ڈوگ', 'ڈوں', 'ڈوی', 'ڈي', 'ڈيا', 'ڈيب', 'ڈيج', 'ڈيز', 'ڈيس', 'ڈيش', 'ڈيم', 'ڈين', 'ڈيو', 'ڈيٹ', 'ڈِ', 'ڈِن', 'ڈٹ', 'ڈٹ ', 'ڈٹا', 'ڈپ', 'ڈپ ', 'ڈپا', 'ڈپر', 'ڈپٹ', 'ڈچ', 'ڈچ ', 'ڈڈ', 'ڈڈ ', 'ڈڈ‘', 'ڈک', 'ڈک ', 'ڈکا', 'ڈکس', 'ڈکش', 'ڈکل', 'ڈکو', 'ڈکٹ', 'ڈکپ', 'ڈکھ', 'ڈکی', 'ڈکے', 'ڈگ', 'ڈگر', 'ڈگم', 'ڈں', 'ڈںٹ', 'ڈھ', 'ڈھ ', 'ڈھا', 'ڈھل', 'ڈھو', 'ڈھي', 'ڈھٹ', 'ڈھک', 'ڈھی', 'ڈہ', 'ڈہ ', 'ڈہو', 'ڈی', 'ڈی ', 'ڈی،', 'ڈیئ', 'ڈیا', 'ڈیب', 'ڈیج', 'ڈیر', 'ڈیز', 'ڈیس', 'ڈیش', 'ڈیف', 'ڈیل', 'ڈیم', 'ڈین', 'ڈیو', 'ڈیٹ', 'ڈیپ', 'ڈیڈ', 'ڈیڑ', 'ڈیک', 'ڈیگ', 'ڈیں', 'ڈیھ', 'ڈیہ', 'ڈی‘', 'ڈے', 'ڈے ', 'ڈے-', 'ڈے،', 'ڈ۔', 'ڈ۔1', 'ڈ۔4', 'ڈ۔ا', 'ڈ‘', 'ڈ‘ ', 'ڈ‘‘', 'ڑ', 'ڑ ', 'ڑ9', 'ڑ94', 'ڑ،', 'ڑ، ', 'ڑا', 'ڑا ', 'ڑا،', 'ڑا؟', 'ڑاؤ', 'ڑائ', 'ڑات', 'ڑاخ', 'ڑاد', 'ڑان', 'ڑاپ', 'ڑاک', 'ڑاہ', 'ڑای', 'ڑا۔', 'ڑاﺅ', 'ڑب', 'ڑبڑ', 'ڑت', 'ڑت ', 'ڑتا', 'ڑتی', 'ڑتے', 'ڑج', 'ڑجا', 'ڑد', 'ڑد ', 'ڑدھ', 'ڑدی', 'ڑدے', 'ڑر', 'ڑرو', 'ڑرہ', 'ڑری', 'ڑز', 'ڑز ', 'ڑس', 'ڑسک', 'ڑل', 'ڑلی', 'ڑن', 'ڑن ', 'ڑنا', 'ڑنے', 'ڑو', 'ڑو ', 'ڑوا', 'ڑوب', 'ڑور', 'ڑوس', 'ڑوف', 'ڑول', 'ڑون', 'ڑوٹ', 'ڑوں', 'ڑوی', 'ڑي', 'ڑيا', 'ڑيو', 'ڑٹ', 'ڑٹ ', 'ڑٹی', 'ڑپ', 'ڑپ ', 'ڑپی', 'ڑچ', 'ڑچڑ', 'ڑک', 'ڑک ', 'ڑکا', 'ڑکن', 'ڑکو', 'ڑکپ', 'ڑکھ', 'ڑکی', 'ڑکے', 'ڑگ', 'ڑگڑ', 'ڑھ', 'ڑھ ', 'ڑھ:', 'ڑھئ', 'ڑھا', 'ڑھت', 'ڑھن', 'ڑھو', 'ڑھک', 'ڑھی', 'ڑھے', 'ڑھ‘', 'ڑی', 'ڑی ', 'ڑی،', 'ڑیا', 'ڑیو', 'ڑیں', 'ڑیے', 'ڑی۔', 'ڑے', 'ڑے ', \"ڑے'\", 'ڑے،', 'ڑےآ', 'ڑےا', 'ڑےب', 'ڑے۔', 'ژ', 'ژ ', 'ژا', 'ژاد', 'ژان', 'ژاو', 'ژاں', 'ژر', 'ژر ', 'ژری', 'ژن', 'ژن ', 'ژن)', 'ژن2', 'ژنز', 'ژو', 'ژو ', 'ژی', 'ژی ', 'ژین', 'ژے', 'ژے ', 'ک', 'ک ', \"ک'\", \"ک' \", 'ک(', 'ک(م', 'ک(و', 'ک)', 'ک) ', 'ک)ا', 'ک)ب', 'ک)س', 'ک)م', 'ک)و', 'ک)پ', 'ک)ہ', 'ک-', 'ک-چ', 'ک/', 'ک/3', 'ک1', 'ک17', 'ک6', 'ک6g', 'ک:', 'ک: ', 'ک:ا', 'ک:ب', 'ک:ز', 'ک:س', 'ک:ع', 'ک:چ', 'ک:گ', 'ک:’', 'ک،', 'ک، ', 'ک،1', 'ک،ا', 'ک،ذ', 'کؤ', 'کؤن', 'کئ', 'کئ ', 'کئی', 'کئے', 'کا', 'کا ', 'کا(', 'کا)', 'کا5', 'کا7', 'کا9', 'کا:', 'کا،', 'کاء', 'کاؤ', 'کائ', 'کاا', 'کاب', 'کات', 'کاج', 'کاح', 'کاخ', 'کاد', 'کار', 'کاز', 'کاس', 'کاش', 'کاظ', 'کاغ', 'کاف', 'کاق', 'کال', 'کام', 'کان', 'کاو', 'کاٹ', 'کاپ', 'کاچ', 'کاڈ', 'کاک', 'کاگ', 'کاہ', 'کای', 'کا۔', 'کا‘', 'کاﺅ', 'کب', 'کب ', 'کبا', 'کبر', 'کبو', 'کبڈ', 'کبھ', 'کبی', 'کت', 'کت ', 'کتا', 'کتب', 'کتر', 'کتس', 'کتن', 'کتو', 'کتِ', 'کتّ', 'کتھ', 'کتہ', 'کتی', 'کتے', 'کث', 'کثا', 'کثر', 'کثی', 'کج', 'کج ', 'کجا', 'کجر', 'کجہ', 'کح', 'کحل', 'کد', 'کدا', 'کدم', 'کدو', 'کدھ', 'کر', 'کر ', \"کر'\", 'کر)', 'کر2', 'کر8', 'کر،', 'کرآ', 'کرئ', 'کرا', 'کرب', 'کرت', 'کرج', 'کرخ', 'کرد', 'کرر', 'کرز', 'کرس', 'کرش', 'کرغ', 'کرل', 'کرم', 'کرن', 'کرو', 'کري', 'کرٹ', 'کرپ', 'کرچ', 'کرڈ', 'کرک', 'کرگ', 'کرہ', 'کرۂ', 'کری', 'کرے', 'کر‘', 'کر’', 'کز', 'کز ', 'کزا', 'کزر', 'کزع', 'کزن', 'کزی', 'کس', 'کس ', \"کس'\", 'کس)', 'کس2', 'کس4', 'کس،', 'کسا', 'کست', 'کسح', 'کسر', 'کسز', 'کسس', 'کسف', 'کسل', 'کسم', 'کسن', 'کسو', 'کسي', 'کسٹ', 'کسپ', 'کسچ', 'کسڈ', 'کسک', 'کسہ', 'کسی', 'کسے', 'کش', 'کش ', 'کش،', 'کشئ', 'کشا', 'کشت', 'کشش', 'کشم', 'کشن', 'کشٹ', 'کشک', 'کشی', 'کشے', 'کط', 'کطر', 'کع', 'کع ', 'کعب', 'کف', 'کف،', 'کفا', 'کفت', 'کفر', 'کفی', 'کل', 'کل ', 'کل)', 'کل،', 'کلئ', 'کلا', 'کلب', 'کلت', 'کلث', 'کلر', 'کلز', 'کلس', 'کلف', 'کلم', 'کلن', 'کلو', 'کلي', 'کلپ', 'کلچ', 'کلک', 'کلہ', 'کلی', 'کلے', 'کم', 'کم ', 'کم)', 'کم،', 'کما', 'کمب', 'کمت', 'کمر', 'کمز', 'کمش', 'کمف', 'کمل', 'کمن', 'کمو', 'کمپ', 'کمہ', 'کمۂ', 'کمی', 'کمے', 'کم۔', 'کن', 'کن ', 'کن)', 'کن،', 'کنا', 'کنب', 'کنج', 'کند', 'کنز', 'کنس', 'کنف', 'کنن', 'کنو', 'کني', 'کنٹ', 'کنچ', 'کنڈ', 'کنڑ', 'کنک', 'کنگ', 'کنہ', 'کنی', 'کنے', 'کو', 'کو ', 'کو1', 'کو2', 'کو3', 'کو5', 'کو7', 'کو9', 'کوm', 'کو،', 'کوئ', 'کوا', 'کوب', 'کوت', 'کوح', 'کوخ', 'کود', 'کور', 'کوز', 'کوس', 'کوش', 'کوص', 'کوع', 'کوف', 'کول', 'کوم', 'کون', 'کوو', 'کوٹ', 'کوپ', 'کوچ', 'کوڈ', 'کوڑ', 'کوک', 'کوگ', 'کوں', 'کوہ', 'کوی', 'کوے', 'کو۔', 'کو’', 'کي', 'کي ', 'کيئ', 'کيا', 'کيب', 'کير', 'کيس', 'کيم', 'کين', 'کيو', 'کيٹ', 'کيپ', 'کيے', 'کُ', 'کُن', 'کُو', 'کُھ', 'کِ', 'کِ ', 'کِڈ', 'کِھ', 'کِی', 'کٹ', 'کٹ ', 'کٹ)', 'کٹ،', 'کٹا', 'کٹر', 'کٹز', 'کٹس', 'کٹن', 'کٹو', 'کٹي', 'کٹڈ', 'کٹک', 'کٹھ', 'کٹی', 'کٹے', 'کٹ‘', 'کپ', 'کپ ', 'کپ،', 'کپت', 'کپر', 'کپل', 'کپم', 'کپن', 'کپو', 'کپڑ', 'کپی', 'کچ', 'کچ ', 'کچا', 'کچر', 'کچن', 'کچو', 'کچچ', 'کچھ', 'کچی', 'کچے', 'کڈ', 'کڈ ', 'کڈا', 'کڈز', 'کڈس', 'کڈن', 'کڑ', 'کڑ ', 'کڑا', 'کڑت', 'کڑز', 'کڑل', 'کڑن', 'کڑو', 'کڑی', 'کڑے', 'کژ', 'کژر', 'کک', 'کک ', 'ککر', 'ککن', 'ککھ', 'ککی', 'ککے', 'کگ', 'کگا', 'کگن', 'کھ', 'کھ ', 'کھ،', 'کھئ', 'کھا', 'کھب', 'کھت', 'کھج', 'کھد', 'کھر', 'کھس', 'کھل', 'کھم', 'کھن', 'کھو', 'کھي', 'کھُ', 'کھٹ', 'کھپ', 'کھچ', 'کھڑ', 'کھی', 'کھے', 'کہ', 'کہ ', 'کہ\"', \"کہ'\", 'کہ8', 'کہ:', 'کہh', 'کہ،', 'کہا', 'کہت', 'کہر', 'کہش', 'کہل', 'کہن', 'کہو', 'کہک', 'کہہ', 'کہی', 'کہے', 'کہ\\u200f', 'کہ‘', 'کہ’', 'کہ”', 'کی', 'کی ', 'کی1', 'کی2', 'کی:', 'کی،', 'کی؟', 'کیئ', 'کیا', 'کیب', 'کیت', 'کیج', 'کیخ', 'کید', 'کیر', 'کیز', 'کیس', 'کیش', 'کیف', 'کیل', 'کیم', 'کین', 'کیو', 'کیٹ', 'کیپ', 'کیچ', 'کیڈ', 'کیڑ', 'کیک', 'کیں', 'کیھ', 'کیہ', 'کیے', 'کی۔', 'کی‘', 'کے', 'کے ', \"کے'\", 'کے)', 'کے-', 'کے1', 'کے2', 'کے3', 'کے6', 'کے،', 'کےآ', 'کےا', 'کےب', 'کےت', 'کےج', 'کےح', 'کےخ', 'کےد', 'کےذ', 'کےس', 'کےش', 'کےص', 'کےع', 'کےف', 'کےل', 'کےم', 'کےن', 'کےو', 'کےپ', 'کےک', 'کےہ', 'کے۔', 'کے‘', 'کے“', 'ک۔', 'ک۔ ', 'ک۔2', 'ک۔س', 'ک‘', 'ک‘ ', 'ک‘،', 'ک’', 'ک’ ', 'گ', 'گ ', \"گ'\", \"گ' \", \"گ'!\", 'گ(', 'گ(ی', 'گ)', 'گ) ', 'گ)،', 'گ-', 'گ-ا', 'گ:', 'گ: ', 'گ،', 'گ، ', 'گ،د', 'گئ', 'گئ ', 'گئی', 'گئے', 'گا', 'گا ', \"گا'\", 'گا-', 'گا2', 'گا6', 'گا،', 'گا؟', 'گاؤ', 'گائ', 'گاا', 'گاب', 'گات', 'گاج', 'گاد', 'گاذ', 'گار', 'گاز', 'گاس', 'گاش', 'گال', 'گام', 'گان', 'گاو', 'گاٹ', 'گاپ', 'گاڑ', 'گاک', 'گاگ', 'گاں', 'گاہ', 'گای', 'گاۓ', 'گا۔', 'گا‘', 'گا’', 'گب', 'گبا', 'گت', 'گت ', 'گتا', 'گتر', 'گتن', 'گتو', 'گتھ', 'گتی', 'گتے', 'گج', 'گجر', 'گجو', 'گجی', 'گد', 'گد ', 'گدھ', 'گدی', 'گذ', 'گذا', 'گذر', 'گذش', 'گذی', 'گر', 'گر ', 'گر،', 'گرا', 'گرب', 'گرت', 'گرج', 'گرد', 'گرر', 'گرز', 'گرس', 'گرف', 'گرل', 'گرم', 'گرن', 'گرو', 'گري', 'گرِ', 'گرٹ', 'گرپ', 'گرچ', 'گرڈ', 'گرک', 'گرگ', 'گرہ', 'گری', 'گرے', 'گر۔', 'گز', 'گز ', 'گز،', 'گزا', 'گزر', 'گزش', 'گزن', 'گزو', 'گزي', 'گزی', 'گز‘', 'گس', 'گس ', 'گست', 'گسٹ', 'گف', 'گفت', 'گل', 'گل ', 'گل،', 'گلا', 'گلب', 'گلز', 'گلس', 'گلش', 'گلف', 'گلم', 'گلن', 'گلو', 'گلي', 'گلگ', 'گلہ', 'گلی', 'گلے', 'گل‘', 'گم', 'گم ', 'گم،', 'گما', 'گمب', 'گمر', 'گمش', 'گمن', 'گمي', 'گمپ', 'گمچ', 'گمگ', 'گمی', 'گن', 'گن ', 'گن،', 'گنا', 'گنت', 'گنج', 'گند', 'گنز', 'گنل', 'گنن', 'گنو', 'گنٹ', 'گنڈ', 'گنگ', 'گنھ', 'گنی', 'گنے', 'گو', 'گو ', 'گو:', 'گوئ', 'گوا', 'گوب', 'گوت', 'گوج', 'گود', 'گور', 'گوس', 'گوش', 'گول', 'گوم', 'گون', 'گوو', 'گوي', 'گوٹ', 'گوپ', 'گوڈ', 'گوگ', 'گوں', 'گوہ', 'گوی', 'گوے', 'گي', 'گيا', 'گيت', 'گير', 'گيس', 'گيم', 'گيۓ', 'گُ', 'گُڈ', 'گُڑ', 'گِ', 'گِ ', 'گِر', 'گِھ', 'گٹ', 'گٹ ', 'گٹا', 'گٹن', 'گٹھ', 'گٹے', 'گپ', 'گپ ', 'گپا', 'گپت', 'گپٹ', 'گچ', 'گچھ', 'گڈ', 'گڈا', 'گڈز', 'گڑ', 'گڑ ', 'گڑا', 'گڑب', 'گڑت', 'گڑر', 'گڑن', 'گڑگ', 'گڑھ', 'گڑی', 'گڑے', 'گژ', 'گژر', 'گک', 'گکم', 'گکی', 'گں', 'گںٹ', 'گھ', 'گھ ', 'گھ،', 'گھا', 'گھب', 'گھر', 'گھس', 'گھل', 'گھم', 'گھن', 'گھو', 'گھٹ', 'گھڑ', 'گھی', 'گھ‘', 'گہ', 'گہ ', 'گہ،', 'گہد', 'گہر', 'گہل', 'گہم', 'گہو', 'گہی', 'گہ‘', 'گی', 'گی ', \"گی'\", 'گی-', 'گی:', 'گی،', 'گی؟', 'گیئ', 'گیا', 'گیب', 'گیت', 'گیج', 'گیر', 'گیز', 'گیس', 'گیش', 'گیل', 'گیم', 'گین', 'گیو', 'گیٹ', 'گیپ', 'گیگ', 'گیں', 'گیے', 'گی۔', 'گے', 'گے ', 'گے،', 'گے؟', 'گےئ', 'گےا', 'گےش', 'گےع', 'گے۔', 'گے‘', 'گ۔', 'گ۔ا', 'گ‘', 'گ‘ ', 'گ’', 'گ’ ', 'ں', 'ں ', 'ں!', 'ں! ', \"ں'\", \"ں' \", \"ں'،\", \"ں'۔\", 'ں(', 'ں(ن', 'ں)', 'ں) ', 'ں)۔', 'ں,', 'ں, ', 'ں,خ', 'ں-', 'ں- ', 'ں.', 'ں.ا', 'ں1', 'ں19', 'ں2', 'ں20', 'ں3', 'ں3-', 'ں3س', 'ں5', 'ں5.', 'ں50', 'ں6', 'ں6 ', 'ں9', 'ں90', 'ں:', 'ں: ', 'ں:ش', 'ں?', 'ں? ', 'ںa', 'ںan', 'ں،', 'ں، ', 'ں،ا', 'ں،ج', 'ں،ر', 'ں،س', 'ں،ف', 'ں،م', 'ں،و', 'ں،پ', 'ں،ک', 'ں،ہ', 'ں،ی', 'ں،‘', 'ں،’', 'ں؟', 'ں؟ ', 'ں؟ا', 'ں؟ٹ', 'ںا', 'ںا ', 'ںاس', 'ںان', 'ںاو', 'ںاُ', 'ںاپ', 'ںای', 'ںاے', 'ںب', 'ںبر', 'ںبن', 'ںبھ', 'ںبی', 'ںت', 'ںتا', 'ںتج', 'ںتو', 'ںتھ', 'ںتی', 'ںج', 'ںجد', 'ںجن', 'ںجو', 'ںجھ', 'ںجی', 'ںح', 'ںحک', 'ںخ', 'ںخل', 'ںد', 'ںدس', 'ںدن', 'ںر', 'ںرہ', 'ںس', 'ںسا', 'ںسی', 'ںسے', 'ںش', 'ںشا', 'ںشل', 'ںشم', 'ںص', 'ںصا', 'ںع', 'ںعن', 'ںعو', 'ںف', 'ںفا', 'ںفو', 'ںفی', 'ںق', 'ںقا', 'ںل', 'ںلا', 'ںلی', 'ںم', 'ںما', 'ںمب', 'ںمد', 'ںمو', 'ںمی', 'ںن', 'ںنئ', 'ںنا', 'ںنم', 'ںنہ', 'ںنے', 'ںو', 'ںوا', 'ںور', 'ںوں', 'ںوہ', 'ںوی', 'ںٹ', 'ںٹر', 'ںٹس', 'ںٹن', 'ںپ', 'ںپر', 'ںپچ', 'ںپھ', 'ںپہ', 'ںچ', 'ںچہ', 'ںڈ', 'ںڈھ', 'ںک', 'ںکر', 'ںکم', 'ںکو', 'ںکھ', 'ںکہ', 'ںکی', 'ںکے', 'ںگ', 'ںگر', 'ںگل', 'ںگی', 'ںگے', 'ںہ', 'ںہو', 'ںہے', 'ںی', 'ںی ', 'ںیہ', 'ں۔', 'ں۔ ', \"ں۔'\", 'ں۔1', 'ں۔2', 'ں۔5', 'ں۔6', 'ں۔h', 'ں۔s', 'ں۔w', 'ں۔ا', 'ں۔ب', 'ں۔ت', 'ں۔ج', 'ں۔ح', 'ں۔خ', 'ں۔د', 'ں۔ر', 'ں۔ز', 'ں۔س', 'ں۔ش', 'ں۔ع', 'ں۔غ', 'ں۔ف', 'ں۔ق', 'ں۔م', 'ں۔ن', 'ں۔و', 'ں۔ٹ', 'ں۔پ', 'ں۔چ', 'ں۔ک', 'ں۔گ', 'ں۔ہ', 'ں۔ی', 'ں۔۔', 'ں۔‘', 'ں‘', 'ں‘ ', 'ں‘۔', 'ں‘‘', 'ں’', 'ں’س', 'ں’’', 'ں“', 'ں“۔', 'ھ', 'ھ ', 'ھ\"', 'ھ\" ', 'ھ.', 'ھ.؟', 'ھ1', 'ھ10', 'ھ5', 'ھ5 ', 'ھ:', 'ھ: ', 'ھe', 'ھeo', 'ھ،', 'ھ، ', 'ھ،ق', 'ھئ', 'ھئے', 'ھا', 'ھا ', 'ھا\"', \"ھا'\", 'ھا)', 'ھا-', 'ھا:', 'ھا،', 'ھا؟', 'ھاؤ', 'ھائ', 'ھاا', 'ھاب', 'ھات', 'ھاج', 'ھاد', 'ھار', 'ھاس', 'ھاش', 'ھال', 'ھام', 'ھان', 'ھاو', 'ھاي', 'ھاٹ', 'ھاپ', 'ھاڈ', 'ھاڑ', 'ھاک', 'ھاگ', 'ھاہ', 'ھای', 'ھاۓ', 'ھا۔', 'ھا—', 'ھا‘', 'ھب', 'ھبر', 'ھبو', 'ھبي', 'ھبّ', 'ھبچ', 'ھبی', 'ھبے', 'ھت', 'ھتا', 'ھتر', 'ھتس', 'ھتي', 'ھتک', 'ھتی', 'ھتے', 'ھج', 'ھجل', 'ھجو', 'ھجھ', 'ھد', 'ھدا', 'ھر', 'ھر ', 'ھرا', 'ھرب', 'ھرت', 'ھرج', 'ھرد', 'ھرر', 'ھرس', 'ھرص', 'ھرم', 'ھرن', 'ھرو', 'ھري', 'ھرپ', 'ھرچ', 'ھرڈ', 'ھرک', 'ھرھ', 'ھری', 'ھرے', 'ھس', 'ھس ', 'ھست', 'ھسل', 'ھسن', 'ھسٹ', 'ھسک', 'ھسی', 'ھسے', 'ھل', 'ھل ', 'ھل،', 'ھلا', 'ھلت', 'ھلد', 'ھلس', 'ھلن', 'ھلو', 'ھلي', 'ھلک', 'ھلی', 'ھلے', 'ھل‘', 'ھم', 'ھم ', 'ھما', 'ھمد', 'ھمر', 'ھمپ', 'ھمک', 'ھمی', 'ھن', 'ھن ', 'ھنا', 'ھنج', 'ھند', 'ھنس', 'ھنو', 'ھنّ', 'ھنٹ', 'ھنچ', 'ھنڈ', 'ھنک', 'ھنگ', 'ھنی', 'ھنے', 'ھو', 'ھو ', 'ھو،', 'ھوئ', 'ھوا', 'ھوب', 'ھوت', 'ھوج', 'ھود', 'ھور', 'ھوس', 'ھوش', 'ھول', 'ھوم', 'ھون', 'ھوٹ', 'ھوپ', 'ھوڈ', 'ھوڑ', 'ھوک', 'ھوگ', 'ھوں', 'ھوی', 'ھي', 'ھيج', 'ھير', 'ھيل', 'ھين', 'ھيٹ', 'ھيپ', 'ھيں', 'ھُ', 'ھُر', 'ھُل', 'ھٹ', 'ھٹ ', 'ھٹ،', 'ھٹا', 'ھٹت', 'ھٹل', 'ھٹم', 'ھٹن', 'ھٹو', 'ھٹک', 'ھٹہ', 'ھٹی', 'ھٹے', 'ھپ', 'ھپا', 'ھپت', 'ھپن', 'ھپو', 'ھپک', 'ھپھ', 'ھپی', 'ھپے', 'ھچ', 'ھچ ', 'ھچا', 'ھچو', 'ھچک', 'ھڈ', 'ھڈ ', 'ھڑ', 'ھڑ ', 'ھڑا', 'ھڑت', 'ھڑن', 'ھڑو', 'ھڑپ', 'ھڑک', 'ھڑی', 'ھڑے', 'ھک', 'ھک ', 'ھکا', 'ھکت', 'ھکر', 'ھکس', 'ھکن', 'ھکو', 'ھکڑ', 'ھکی', 'ھکے', 'ھگ', 'ھگ ', 'ھگا', 'ھگت', 'ھگو', 'ھگڑ', 'ھہ', 'ھہت', 'ھہر', 'ھہی', 'ھی', 'ھی ', 'ھی)', 'ھی:', 'ھی،', 'ھی؟', 'ھیئ', 'ھیا', 'ھیب', 'ھیت', 'ھیج', 'ھیخ', 'ھیر', 'ھیس', 'ھیش', 'ھیل', 'ھیم', 'ھین', 'ھیو', 'ھیٹ', 'ھیپ', 'ھیڈ', 'ھیڑ', 'ھیک', 'ھیں', 'ھیہ', 'ھیے', 'ھی۔', 'ھی—', 'ھی‘', 'ھے', 'ھے ', \"ھے'\", 'ھے-', 'ھے2', 'ھے،', 'ھے؟', 'ھےا', 'ھےج', 'ھےس', 'ھےپ', 'ھے۔', 'ھے‘', 'ھ‘', 'ھ‘ ', 'ھ‘‘', 'ہ', 'ہ ', 'ہ\"', 'ہ\" ', \"ہ'\", \"ہ'ر\", 'ہ)', 'ہ) ', 'ہ2', 'ہ20', 'ہ22', 'ہ5', 'ہ50', 'ہ5ف', 'ہ7', 'ہ75', 'ہ8', 'ہ83', 'ہ:', 'ہ: ', 'ہh', 'ہhi', 'ہ،', 'ہ، ', 'ہئ', 'ہئ ', 'ہئی', 'ہئے', 'ہا', 'ہا ', \"ہا'\", 'ہا:', 'ہا،', 'ہاؤ', 'ہائ', 'ہاا', 'ہاب', 'ہات', 'ہاج', 'ہاد', 'ہار', 'ہاز', 'ہاس', 'ہاش', 'ہاض', 'ہاف', 'ہاق', 'ہال', 'ہام', 'ہان', 'ہاو', 'ہاٹ', 'ہاپ', 'ہاڑ', 'ہاک', 'ہاگ', 'ہاں', 'ہاہ', 'ہای', 'ہا۔', 'ہا‘', 'ہا’', 'ہاﺅ', 'ہب', 'ہب ', 'ہب،', 'ہبئ', 'ہبا', 'ہبر', 'ہبو', 'ہبی', 'ہت', 'ہت ', 'ہتا', 'ہتر', 'ہتم', 'ہتّ', 'ہتھ', 'ہتی', 'ہتے', 'ہج', 'ہجر', 'ہجو', 'ہجہ', 'ہد', 'ہد ', 'ہد،', 'ہدآ', 'ہدا', 'ہدر', 'ہدف', 'ہدو', 'ہدہ', 'ہدی', 'ہدے', 'ہذ', 'ہذا', 'ہذی', 'ہر', 'ہر ', 'ہرا', 'ہرب', 'ہرت', 'ہرج', 'ہرح', 'ہرخ', 'ہرد', 'ہرذ', 'ہرز', 'ہرس', 'ہرش', 'ہرط', 'ہرع', 'ہرف', 'ہرل', 'ہرم', 'ہرن', 'ہرو', 'ہري', 'ہرِ', 'ہرٹ', 'ہرچ', 'ہرڑ', 'ہرک', 'ہرگ', 'ہرہ', 'ہری', 'ہرے', 'ہر’', 'ہز', 'ہزا', 'ہزی', 'ہس', 'ہست', 'ہسم', 'ہسن', 'ہسٹ', 'ہسپ', 'ہش', 'ہش ', 'ہشا', 'ہشت', 'ہشر', 'ہشم', 'ہشو', 'ہشک', 'ہشی', 'ہض', 'ہضا', 'ہضم', 'ہظ', 'ہظم', 'ہع', 'ہع ', 'ہعن', 'ہف', 'ہفت', 'ہق', 'ہقا', 'ہقو', 'ہل', 'ہل ', 'ہلا', 'ہلت', 'ہلخ', 'ہلد', 'ہلر', 'ہلز', 'ہلو', 'ہلچ', 'ہلک', 'ہلگ', 'ہلہ', 'ہلی', 'ہلے', 'ہم', 'ہم ', 'ہم،', 'ہما', 'ہمت', 'ہمد', 'ہمر', 'ہمس', 'ہمش', 'ہمن', 'ہمو', 'ہمي', 'ہمک', 'ہمہ', 'ہمی', 'ہمے', 'ہم‘', 'ہن', 'ہن ', 'ہن،', 'ہنا', 'ہنت', 'ہند', 'ہنر', 'ہنس', 'ہنش', 'ہنم', 'ہنن', 'ہنو', 'ہنٹ', 'ہنچ', 'ہنڈ', 'ہنگ', 'ہنہ', 'ہنی', 'ہنے', 'ہن‘', 'ہو', 'ہو ', 'ہو)', 'ہو-', 'ہو،', 'ہو؟', 'ہوئ', 'ہوا', 'ہوب', 'ہوت', 'ہوج', 'ہود', 'ہور', 'ہوس', 'ہوش', 'ہوع', 'ہول', 'ہوم', 'ہون', 'ہوو', 'ہوٹ', 'ہوپ', 'ہوچ', 'ہوڈ', 'ہوک', 'ہوگ', 'ہوں', 'ہوہ', 'ہوی', 'ہوے', 'ہوۓ', 'ہو۔', 'ہو‘', 'ہي', 'ہيت', 'ہير', 'ہيز', 'ہيل', 'ہين', 'ہيو', 'ہيٹ', 'ہيڈ', 'ہيک', 'ہيں', 'ہُ', 'ہُل', 'ہِ', 'ہِ ', 'ۂ', 'ۂ ', 'ہٰ', 'ہٰذ', 'ہٴ', 'ہٴ ', 'ہٹ', 'ہٹ ', 'ہٹ،', 'ہٹا', 'ہٹت', 'ہٹن', 'ہٹی', 'ہٹے', 'ہپ', 'ہپر', 'ہپو', 'ہپھ', 'ہچ', 'ہچا', 'ہچک', 'ہچہ', 'ہڈ', 'ہڈ ', 'ہڈی', 'ہڑ', 'ہڑت', 'ہک', 'ہک ', 'ہکا', 'ہکس', 'ہکش', 'ہکو', 'ہکے', 'ہگ', 'ہگل', 'ہگہ', 'ہگے', 'ہں', 'ہں ', 'ہہ', 'ہہ ', 'ہہو', 'ہی', 'ہی ', 'ہی\"', 'ہی3', 'ہی6', 'ہی،', 'ہیئ', 'ہیا', 'ہیب', 'ہیت', 'ہید', 'ہیر', 'ہیز', 'ہیس', 'ہیش', 'ہیض', 'ہیل', 'ہیم', 'ہین', 'ہیو', 'ہیٹ', 'ہیپ', 'ہیچ', 'ہیڈ', 'ہیک', 'ہیگ', 'ہیں', 'ہیہ', 'ہیی', 'ہیے', 'ہی۔', 'ہے', 'ہے ', 'ہے!', 'ہے\"', \"ہے'\", 'ہے)', 'ہے,', 'ہے-', 'ہے.', 'ہے:', 'ہے،', 'ہے؛', 'ہے؟', 'ہےا', 'ہےب', 'ہےت', 'ہےج', 'ہےد', 'ہےع', 'ہےل', 'ہےم', 'ہےک', 'ہےگ', 'ہےہ', 'ہےی', 'ہے۔', 'ہے—', 'ہے‘', 'ہ۔', 'ہ۔ ', \"ہ۔'\", 'ہ۔‘', 'ہ\\u200f', 'ہ\\u200f ', 'ہ‘', 'ہ‘ ', 'ہ‘‘', 'ہ’', 'ہ’ح', 'ہ’د', 'ہ’ر', 'ہ’م', 'ہ’گ', 'ہ’’', 'ہ”', 'ہ”ج', 'ۂ', 'ۂ ', 'ۃ', 'ۃ ', 'ی', 'ی ', 'ی!', 'ی!‘', 'ی\"', 'ی\" ', 'ی\"۔', \"ی'\", \"ی' \", \"ی'۔\", 'ی(', 'ی( ', 'ی(n', 'ی(ا', 'ی(س', 'ی(ش', 'ی(و', 'ی(ڈ', 'ی(ک', 'ی)', 'ی) ', 'ی)،', 'ی)م', 'ی,', 'ی, ', 'ی-', 'ی- ', 'ی-ا', 'ی-س', 'ی-ٹ', 'ی.', 'ی..', 'ی/', 'ی/1', 'ی/4', 'ی0', 'ی0.', 'ی1', 'ی10', 'ی12', 'ی15', 'ی16', 'ی19', 'ی2', 'ی20', 'ی25', 'ی26', 'ی3', 'ی31', 'ی5', 'ی53', 'ی6', 'ی6g', 'ی6،', 'ی9', 'ی9.', 'ی95', 'ی:', 'ی: ', 'ی:ب', 'ی:و', 'ی:ک', 'ی]', 'ی]س', 'یb', 'یb ', 'ی،', 'ی، ', 'ی،1', 'ی،2', 'ی،3', 'ی،5', 'ی،ا', 'ی،ب', 'ی،ج', 'ی،خ', 'ی،د', 'ی،ع', 'ی،و', 'ی،چ', 'ی،ک', 'ی،گ', 'ی؟', 'ی؟ ', \"ی؟'\", 'ی؟:', 'یآ', 'یآں', 'یؤ', 'یؤ ', 'یؤر', 'یئ', 'یئت', 'یئر', 'یئل', 'یئم', 'یئن', 'یئو', 'یئٹ', 'یئک', 'یئگ', 'یئں', 'یئی', 'یئے', 'یا', 'یا ', \"یا'\", 'یا(', 'یا)', 'یا,', 'یا.', 'یا:', 'یا،', 'یا؟', 'یاء', 'یاؤ', 'یائ', 'یاا', 'یاب', 'یات', 'یاج', 'یاح', 'یاد', 'یار', 'یاز', 'یاس', 'یاش', 'یاض', 'یاط', 'یاع', 'یاف', 'یاق', 'یال', 'یام', 'یان', 'یاو', 'یاٹ', 'یاپ', 'یاچ', 'یاک', 'یاگ', 'یاں', 'یاھ', 'یاہ', 'یای', 'یا۔', 'یا‘', 'یب', 'یب ', 'یب)', 'یب2', 'یب،', 'یبا', 'یبت', 'یبخ', 'یبر', 'یبز', 'یبس', 'یبل', 'یبم', 'یبن', 'یبو', 'یبِ', 'یبٹ', 'یبک', 'یبہ', 'یبی', 'یبے', 'یب۔', 'یت', 'یت ', \"یت'\", 'یت:', 'یت،', 'یتا', 'یتج', 'یتر', 'یتس', 'یتن', 'یتو', 'یتژ', 'یتک', 'یتھ', 'یتہ', 'یتی', 'یتے', 'یت۔', 'یت‘', 'یث', 'یث ', 'یثا', 'یثی', 'یج', 'یج ', 'یج،', 'یجئ', 'یجا', 'یجب', 'یجت', 'یجر', 'یجم', 'یجن', 'یجو', 'یجٹ', 'یجپ', 'یجک', 'یجھ', 'یجہ', 'یجی', 'یجے', 'یح', 'یح ', 'یحا', 'یحت', 'یحد', 'یحہ', 'یحی', 'یخ', 'یخ ', 'یخ،', 'یخا', 'یخل', 'یخو', 'یخی', 'یخ‘', 'ید', 'ید ', 'ید\"', \"ید'\", 'ید4', 'ید،', 'یدا', 'یدب', 'یدت', 'یدح', 'یدذ', 'یدر', 'یدل', 'یدم', 'یدن', 'یدو', 'یدِ', 'یدپ', 'یدک', 'یدگ', 'یدھ', 'یدہ', 'یدی', 'یدے', 'یذ', 'یذ ', 'یذہ', 'یر', 'یر ', \"یر'\", 'یر)', 'یر:', 'یر،', 'یرئ', 'یرا', 'یرب', 'یرت', 'یرج', 'یرح', 'یرخ', 'یرد', 'یرر', 'یرز', 'یرس', 'یرش', 'یرض', 'یرع', 'یرغ', 'یرف', 'یرق', 'یرل', 'یرم', 'یرن', 'یرو', 'یرِ', 'یرٹ', 'یرپ', 'یرڈ', 'یرک', 'یرھ', 'یرہ', 'یری', 'یرے', 'یر۔', 'یر‘', 'یز', 'یز ', 'یز)', 'یز،', 'یزا', 'یزب', 'یزد', 'یزر', 'یزس', 'یزل', 'یزم', 'یزن', 'یزو', 'یزٹ', 'یزپ', 'یزک', 'یزہ', 'یزی', 'یزے', 'یز‘', 'یس', 'یس ', \"یس'\", 'یس)', 'یس،', 'یسئ', 'یسا', 'یست', 'یسج', 'یسر', 'یسز', 'یسس', 'یسف', 'یسل', 'یسم', 'یسن', 'یسو', 'یسٹ', 'یسپ', 'یسڈ', 'یسک', 'یسہ', 'یسی', 'یسے', 'یس‘', 'یس“', 'یش', 'یش ', 'یش،', 'یشا', 'یشت', 'یشر', 'یشز', 'یشق', 'یشل', 'یشم', 'یشن', 'یشو', 'یشي', 'یشِ', 'یشٹ', 'یشڈ', 'یشک', 'یشگ', 'یشہ', 'یشی', 'یشے', 'یص', 'یص ', 'یصؒ', 'یصد', 'یصر', 'یصل', 'یض', 'یض ', 'یضر', 'یضو', 'یضہ', 'یضے', 'یط', 'یط ', 'یطا', 'یطس', 'یظ', 'یظ ', 'یظ،', 'یع', 'یع ', 'یع)', 'یع،', 'یعا', 'یعت', 'یعر', 'یعق', 'یعن', 'یعچ', 'یعہ', 'یعی', 'یعے', 'یغ', 'یغ ', 'یغا', 'یغہ', 'یف', 'یف ', 'یف)', 'یفا', 'یفت', 'یفر', 'یفش', 'یفل', 'یفن', 'یفو', 'یفٹ', 'یفپ', 'یفک', 'یفہ', 'یفی', 'یفے', 'یق', 'یق ', 'یق،', 'یقا', 'یقت', 'یقل', 'یقن', 'یقو', 'یقہ', 'یقی', 'یقے', 'یل', 'یل ', 'یل)', 'یل6', 'یل،', 'یلئ', 'یلا', 'یلب', 'یلت', 'یلج', 'یلر', 'یلز', 'یلس', 'یلش', 'یلف', 'یلم', 'یلن', 'یلو', 'یلي', 'یلِ', 'یلٹ', 'یلپ', 'یلڈ', 'یلک', 'یلگ', 'یلہ', 'یلی', 'یلے', 'یل‘', 'یم', 'یم ', 'یم(', 'یم:', 'یم،', 'یمئ', 'یما', 'یمب', 'یمت', 'یمج', 'یمر', 'یمز', 'یمس', 'یمل', 'یمن', 'یمو', 'یمِ', 'یمپ', 'یمہ', 'یمی', 'یمے', 'یم۔', 'ین', 'ین ', 'ین(', 'ین)', 'ین:', 'ین،', 'ینئ', 'ینا', 'ینت', 'ینج', 'یند', 'ینر', 'ینز', 'ینس', 'ینش', 'ینظ', 'ینف', 'ینل', 'ینم', 'ینن', 'ینو', 'یني', 'ینِ', 'ینٹ', 'ینچ', 'ینڈ', 'ینک', 'ینگ', 'ینہ', 'ینی', 'ینے', 'ین۔', 'ین‘', 'یو', 'یو ', 'یو\"', 'یو)', 'یو,', 'یو6', 'یو:', 'یو،', 'یوئ', 'یوا', 'یوب', 'یوت', 'یوج', 'یود', 'یور', 'یوز', 'یوس', 'یوش', 'یوف', 'یوق', 'یول', 'یوم', 'یون', 'یوو', 'یوي', 'یوٹ', 'یوپ', 'یوچ', 'یوڈ', 'یوژ', 'یوک', 'یوگ', 'یوں', 'یوہ', 'یوی', 'یوے', 'یو۔', 'یو‘', 'یي', 'یيس', 'یٰ', 'یٰ ', 'یٰ،', 'یٹ', 'یٹ ', \"یٹ'\", 'یٹ،', 'یٹا', 'یٹب', 'یٹت', 'یٹر', 'یٹز', 'یٹس', 'یٹف', 'یٹل', 'یٹم', 'یٹن', 'یٹو', 'یٹي', 'یٹڈ', 'یٹک', 'یٹگ', 'یٹھ', 'یٹی', 'یٹے', 'یٹ۔', 'یٹ‘', 'یپ', 'یپ ', \"یپ'\", 'یپ)', 'یپ،', 'یپا', 'یپب', 'یپت', 'یپر', 'یپس', 'یپش', 'یپل', 'یپن', 'یپو', 'یپي', 'یپٹ', 'یپک', 'یپھ', 'یپی', 'یپ‘', 'یچ', 'یچ ', 'یچ,', 'یچ-', 'یچ،', 'یچا', 'یچر', 'یچز', 'یچش', 'یچل', 'یچن', 'یچو', 'یچک', 'یچھ', 'یچہ', 'یچی', 'یچے', 'یچ۔', 'یڈ', 'یڈ ', \"یڈ'\", 'یڈ)', 'یڈ،', 'یڈا', 'یڈب', 'یڈج', 'یڈر', 'یڈز', 'یڈس', 'یڈل', 'یڈم', 'یڈن', 'یڈو', 'یڈي', 'یڈٹ', 'یڈڈ', 'یڈک', 'یڈں', 'یڈی', 'یڈے', 'یڈ۔', 'یڑ', 'یڑ ', 'یڑا', 'یڑن', 'یڑو', 'یڑھ', 'یڑی', 'یڑے', 'یژ', 'یژن', 'یک', 'یک ', 'یک)', 'یک6', 'یک:', 'یک،', 'یکا', 'یکب', 'یکت', 'یکج', 'یکد', 'یکر', 'یکز', 'یکس', 'یکش', 'یکط', 'یکل', 'یکم', 'یکن', 'یکو', 'یکِ', 'یکٹ', 'یکپ', 'یکچ', 'یکڑ', 'یکگ', 'یکھ', 'یکہ', 'یکی', 'یکے', 'یک۔', 'یک‘', 'یک’', 'یگ', 'یگ ', 'یگ:', 'یگ،', 'یگا', 'یگر', 'یگز', 'یگل', 'یگم', 'یگن', 'یگو', 'یگھ', 'یگی', 'یں', 'یں ', 'یں!', \"یں'\", 'یں)', 'یں,', 'یں-', 'یں.', 'یں1', 'یں2', 'یں3', 'یں5', 'یں6', 'یں9', 'یں:', 'یں?', 'یںa', 'یں،', 'یں؟', 'یںا', 'یںب', 'یںت', 'یںج', 'یںح', 'یںخ', 'یںد', 'یںر', 'یںس', 'یںش', 'یںع', 'یںف', 'یںق', 'یںل', 'یںم', 'یںن', 'یںو', 'یںپ', 'یںڈ', 'یںک', 'یںگ', 'یںہ', 'یں۔', 'یں‘', 'یں’', 'یں“', 'یھ', 'یھا', 'یھر', 'یھل', 'یہ', 'یہ ', 'یہ)', 'یہ:', 'یہ،', 'یہا', 'یہل', 'یہم', 'یہو', 'یہں', 'یہہ', 'یہی', 'یہے', 'یہ۔', 'یۂ', 'یۂ ', 'یی', 'یی ', 'ییر', 'ییل', 'ییو', 'ییٰ', 'ییٹ', 'ییک', 'ییں', 'ییے', 'یے', 'یے ', 'یے!', 'یے\"', \"یے'\", 'یے)', 'یے3', 'یے،', 'یے؟', 'یےآ', 'یےا', 'یےب', 'یےح', 'یےد', 'یےس', 'یےش', 'یےف', 'یےم', 'یےن', 'یےک', 'یےگ', 'یے۔', 'یے‘', 'ی۔', 'ی۔ ', \"ی۔'\", 'ی۔(', 'ی۔1', 'ی۔2', 'ی۔6', 'ی۔آ', 'ی۔ا', 'ی۔ب', 'ی۔ت', 'ی۔ج', 'ی۔خ', 'ی۔د', 'ی۔ر', 'ی۔س', 'ی۔ش', 'ی۔ف', 'ی۔ق', 'ی۔ل', 'ی۔م', 'ی۔ن', 'ی۔و', 'ی۔ي', 'ی۔ٹ', 'ی۔پ', 'ی۔ک', 'ی۔گ', 'ی۔ہ', 'ی۔ی', 'ی۔۔', 'ی۔‘', 'ی۔’', 'ی۔“', 'ی—', 'ی—ف', 'ی‘', 'ی‘ ', 'ی‘،', 'ی‘س', 'ی‘‘', 'ی’', 'ی’ ', 'ی“', 'ی“ ', 'یﷺ', 'یﷺ ', 'ے', 'ے ', 'ے!', 'ے! ', 'ے\"', 'ے\" ', 'ے\"،', 'ے\"۔', \"ے'\", \"ے' \", \"ے'ی\", \"ے'۔\", 'ے(', 'ے((', 'ے(1', 'ے(ب', 'ے)', 'ے) ', 'ے)،', 'ے,', 'ے, ', 'ے,ح', 'ے,پ', 'ے,گ', 'ے-', 'ے- ', 'ے-1', 'ے-5', 'ے-6', 'ے.', 'ے. ', 'ے1', 'ے10', 'ے12', 'ے15', 'ے18', 'ے2', 'ے2 ', 'ے20', 'ے21', 'ے29', 'ے3', 'ے3 ', 'ے3,', 'ے30', 'ے35', 'ے4', 'ے4 ', 'ے40', 'ے42', 'ے45', 'ے48', 'ے49', 'ے6', 'ے6 ', 'ے7', 'ے7ہ', 'ے8', 'ے80', 'ے:', 'ے: ', 'ےa', 'ےab', 'ے،', 'ے، ', 'ے،ا', 'ے،ب', 'ے،ت', 'ے،ج', 'ے،خ', 'ے،د', 'ے،ذ', 'ے،ر', 'ے،س', 'ے،ل', 'ے،م', 'ے،ن', 'ے،و', 'ے،پ', 'ے،چ', 'ے،ک', 'ے،گ', 'ے،ہ', 'ے،‘', 'ے،’', 'ے؛', 'ے؛ ', 'ے؟', 'ے؟ ', \"ے؟'\", 'ے؟ا', 'ے؟ت', 'ے؟ص', 'ے؟م', 'ے؟‘', 'ےآ', 'ےآج', 'ےآد', 'ےآس', 'ےآو', 'ےئ', 'ےئ ', 'ےا', 'ےا ', 'ےائ', 'ےاث', 'ےار', 'ےاس', 'ےاش', 'ےاض', 'ےاع', 'ےام', 'ےان', 'ےاو', 'ےاپ', 'ےاچ', 'ےاک', 'ےاگ', 'ےای', 'ےب', 'ےبا', 'ےبع', 'ےبغ', 'ےبڑ', 'ےبھ', 'ےبہ', 'ےت', 'ےتا', 'ےتج', 'ےتح', 'ےتع', 'ےتق', 'ےتو', 'ےتھ', 'ےج', 'ےجا', 'ےجب', 'ےجس', 'ےجن', 'ےجو', 'ےجی', 'ےح', 'ےحد', 'ےحو', 'ےحک', 'ےخ', 'ےخو', 'ےخی', 'ےد', 'ےدر', 'ےدل', 'ےدن', 'ےدو', 'ےدھ', 'ےدی', 'ےذ', 'ےذخ', 'ےذر', 'ےر', 'ےرو', 'ےز', 'ےزی', 'ےس', 'ےسا', 'ےسب', 'ےسر', 'ےسس', 'ےسن', 'ےسو', 'ےسی', 'ےسے', 'ےش', 'ےشا', 'ےشم', 'ےشک', 'ےص', 'ےصر', 'ےع', 'ےعا', 'ےعز', 'ےعل', 'ےعم', 'ےف', 'ےفا', 'ےفر', 'ےفن', 'ےفو', 'ےفٹ', 'ےفی', 'ےق', 'ےقا', 'ےل', 'ےلئ', 'ےلا', 'ےلح', 'ےلو', 'ےلگ', 'ےلہ', 'ےلی', 'ےم', 'ےما', 'ےمت', 'ےمح', 'ےمخ', 'ےمد', 'ےمر', 'ےمز', 'ےمس', 'ےمط', 'ےمع', 'ےمق', 'ےمن', 'ےمو', 'ےمی', 'ےن', 'ےنا', 'ےنر', 'ےنص', 'ےنق', 'ےنے', 'ےو', 'ےو ', 'ےوا', 'ےور', 'ےوق', 'ےوي', 'ےوہ', 'ےوی', 'ےٹ', 'ےٹو', 'ےٹي', 'ےٹک', 'ےپ', 'ےپر', 'ےپو', 'ےپچ', 'ےپی', 'ےچ', 'ےچا', 'ےچم', 'ےچو', 'ےچی', 'ےڈ', 'ےڈر', 'ےک', 'ےکا', 'ےکر', 'ےکف', 'ےکل', 'ےکم', 'ےکو', 'ےکپ', 'ےکچ', 'ےکھ', 'ےکہ', 'ےکی', 'ےکے', 'ےگ', 'ےگئ', 'ےگا', 'ےگل', 'ےگو', 'ےگڑ', 'ےگی', 'ےہ', 'ےہا', 'ےہو', 'ےہی', 'ےہے', 'ےی', 'ےیا', 'ےیم', 'ےیہ', 'ےے', 'ےے ', 'ے۔', 'ے۔ ', 'ے۔\"', \"ے۔'\", 'ے۔(', 'ے۔1', 'ے۔2', 'ے۔:', 'ے۔a', 'ے۔آ', 'ے۔ا', 'ے۔ب', 'ے۔ت', 'ے۔ث', 'ے۔ج', 'ے۔ح', 'ے۔خ', 'ے۔د', 'ے۔ذ', 'ے۔ر', 'ے۔ز', 'ے۔س', 'ے۔ش', 'ے۔ص', 'ے۔ط', 'ے۔ع', 'ے۔غ', 'ے۔ف', 'ے۔ق', 'ے۔ل', 'ے۔م', 'ے۔ن', 'ے۔و', 'ے۔پ', 'ے۔چ', 'ے۔ک', 'ے۔گ', 'ے۔ہ', 'ے۔ی', 'ے۔۔', 'ے۔‘', 'ے۔“', 'ے—', 'ے—ف', 'ے‘', 'ے‘ ', 'ے‘،', 'ے‘ج', 'ے‘چ', 'ے‘ہ', 'ے‘۔', 'ے‘‘', 'ے’', 'ے’د', 'ے’ن', 'ے’’', 'ے“', 'ے“۔', 'ۓ', 'ۓ ', 'ۓا', 'ۓاس', 'ۓگ', 'ۓگی', '۔', '۔ ', '۔\"', '۔\" ', \"۔'\", \"۔' \", \"۔'ن\", '۔(', '۔(ب', '۔(ن', '۔/', '۔/3', '۔0', '۔0 ', '۔1', '۔1 ', '۔10', '۔13', '۔18', '۔19', '۔2', '۔2 ', '۔20', '۔21', '۔22', '۔23', '۔25', '۔26', '۔29', '۔3', '۔3 ', '۔39', '۔4', '۔4 ', '۔5', '۔5g', '۔5ا', '۔5ج', '۔5۔', '۔6', '۔6 ', '۔63', '۔6g', '۔6ا', '۔8', '۔81', '۔9', '۔95', '۔:', '۔:ا', '۔:ج', '۔a', '۔as', '۔h', '۔hi', '۔s', '۔so', '۔w', '۔wi', '۔،', '۔، ', '۔؟', '۔؟ ', '۔آ', '۔آئ', '۔آج', '۔آخ', '۔آر', '۔آس', '۔آپ', '۔ا', '۔ا ', '۔اب', '۔اج', '۔اد', '۔ار', '۔اس', '۔اع', '۔اف', '۔ال', '۔ام', '۔ان', '۔او', '۔اي', '۔اِ', '۔آ', '۔اپ', '۔اگ', '۔اہ', '۔ای', '۔ب', '۔با', '۔بخ', '۔بر', '۔بس', '۔بظ', '۔بع', '۔بل', '۔بن', '۔بو', '۔بھ', '۔بی', '۔ت', '۔تا', '۔تح', '۔تر', '۔تف', '۔تم', '۔تن', '۔تو', '۔تی', '۔ث', '۔ثا', '۔ج', '۔جا', '۔جب', '۔جد', '۔جر', '۔جس', '۔جل', '۔جن', '۔جک', '۔جی', '۔ح', '۔حا', '۔حت', '۔خ', '۔خا', '۔خب', '۔خر', '۔خش', '۔خو', '۔خی', '۔د', '۔در', '۔دل', '۔دن', '۔دو', '۔دی', '۔ذ', '۔ذا', '۔ذر', '۔ذی', '۔ر', '۔را', '۔رش', '۔رو', '۔رپ', '۔ری', '۔ز', '۔زم', '۔زو', '۔زي', '۔زی', '۔س', '۔سا', '۔سب', '۔سر', '۔سس', '۔سش', '۔سم', '۔سن', '۔سو', '۔سٹ', '۔سپ', '۔سہ', '۔سی', '۔ش', '۔شا', '۔شب', '۔شم', '۔شو', '۔شک', '۔ص', '۔صا', '۔صف', '۔صل', '۔صن', '۔صو', '۔ض', '۔ضر', '۔ط', '۔طا', '۔طب', '۔ع', '۔عا', '۔عق', '۔عل', '۔عو', '۔عی', '۔غ', '۔غذ', '۔غی', '۔ف', '۔فا', '۔فر', '۔فل', '۔فو', '۔فی', '۔ق', '۔قا', '۔قب', '۔قر', '۔قو', '۔ل', '۔لا', '۔لن', '۔لو', '۔لہ', '۔لی', '۔م', '۔ما', '۔مت', '۔مث', '۔مح', '۔مس', '۔مع', '۔مق', '۔مل', '۔مم', '۔من', '۔مو', '۔مگ', '۔می', '۔ن', '۔نئ', '۔نا', '۔نب', '۔نو', '۔ني', '۔نہ', '۔نی', '۔و', '۔وا', '۔ور', '۔وز', '۔وس', '۔وف', '۔وو', '۔وي', '۔وٹ', '۔وک', '۔وہ', '۔وی', '۔ي', '۔يو', '۔ٹ', '۔ٹا', '۔ٹر', '۔ٹم', '۔ٹو', '۔ٹک', '۔ٹی', '۔پ', '۔پا', '۔پر', '۔پل', '۔پو', '۔پٹ', '۔پھ', '۔پہ', '۔پی', '۔چ', '۔چا', '۔چل', '۔چن', '۔چو', '۔چھ', '۔چی', '۔ڈ', '۔ڈا', '۔ڈی', '۔ک', '۔کئ', '۔کا', '۔کب', '۔کر', '۔کل', '۔کم', '۔کو', '۔کپ', '۔کچ', '۔کھ', '۔کہ', '۔کی', '۔گ', '۔گا', '۔گر', '۔گز', '۔گل', '۔گو', '۔گھ', '۔گی', '۔ہ', '۔ہا', '۔ہر', '۔ہم', '۔ہن', '۔ہو', '۔ہی', '۔ی', '۔یا', '۔یح', '۔یع', '۔یو', '۔یہ', '۔۔', '۔۔ ', \"۔۔'\", '۔۔؟', '۔۔ا', '۔۔پ', '۔۔ڈ', '۔۔۔', '۔‘', '۔‘ ', '۔‘ا', '۔‘ش', '۔‘ط', '۔‘ل', '۔‘م', '۔‘ن', '۔‘ٹ', '۔‘چ', '۔‘ی', '۔‘’', '۔’', '۔’ ', '۔’ر', '۔’س', '۔’ل', '۔’م', '۔“', '۔“ ', '۔“ت', '۔“ی', '۰', '۰۔', '۰۔ ', '۱', '۱۔', '۱۔ ', '۱۰', '۱۰۔', '۱۱', '۱۱۔', '۲', '۲۔', '۲۔پ', '۲۵', '۲۵؍', '۳', '۳۔', '۳۔ ', '۴', '۴ ', '۵', '۵؍', '۵؍د', '۵۔', '۵۔ ', '۶', '۶ ', '۷', '۷۔', '۷۔ ', '۸', '۸۔', '۸۔ ', '۹', '۹۔', '۹۔ ', '\\u200b', '\\u200bک', '\\u200bکر', '\\u200b\\u200b', '\\u200b\\u200bک', '\\u200f', '\\u200f ', '\\u200fا', '\\u200fان', '\\u200fب', '\\u200fبا', '\\u200fو', '\\u200fوا', '–', '– ', '—', '— ', '—ا', '—اس', '—ف', '—فو', '‘', '‘ ', '‘(', '‘(پ', '‘.', '‘. ', '‘1', '‘19', '‘g', '‘gr', '‘،', '‘، ', '‘ا', '‘اس', '‘او', '‘اي', '‘اے', '‘ب', '‘بل', '‘بگ', '‘ج', '‘جس', '‘خ', '‘خی', '‘د', '‘دن', '‘دو', '‘س', '‘سم', '‘سی', '‘سے', '‘ش', '‘شا', '‘ط', '‘طا', '‘ع', '‘عل', '‘ل', '‘لی', '‘م', '‘ما', '‘ن', '‘ن ', '‘نا', '‘ٹ', '‘ٹو', '‘پ', '‘پر', '‘پک', '‘چ', '‘چا', '‘چن', '‘ک', '‘کا', '‘کر', '‘کو', '‘کہ', '‘کی', '‘کے', '‘ہ', '‘ہا', '‘ہل', '‘ی', '‘یہ', '‘۔', '‘۔ ', '‘۔ا', '‘۔ت', '‘۔ک', '‘۔‘', '‘‘', '‘‘ ', '‘‘(', '‘‘.', '‘‘1', '‘‘،', '‘‘ا', '‘‘س', '‘‘پ', '‘‘ک', '‘‘ہ', '‘‘۔', '‘’', '‘’س', '’', '’ ', '’3', '’33', '’4', '’41', '’8', '’87', '’s', '’sa', '’su', '’آ', '’آئ', '’آس', '’آف', '’آن', '’آٹ', '’آپ', '’ا', '’اب', '’ات', '’اس', '’اص', '’اط', '’اع', '’اق', '’ال', '’ام', '’ان', '’او', '’اي', '’اُ', '’اِ', '’آ', '’اپ', '’اگ', '’ای', '’اے', '’ب', '’با', '’بد', '’بر', '’بس', '’بل', '’بن', '’بو', '’بڑ', '’بگ', '’بھ', '’بہ', '’بی', '’بے', '’ت', '’تا', '’تب', '’تج', '’تم', '’تو', '’تھ', '’تی', '’ج', '’جا', '’جب', '’جد', '’جس', '’جم', '’جن', '’جڑ', '’جھ', '’جہ', '’جی', '’ح', '’حک', '’خ', '’خا', '’خد', '’د', '’دخ', '’در', '’دل', '’دم', '’دن', '’دو', '’دھ', '’دی', '’ر', '’را', '’رت', '’رج', '’رد', '’رو', '’رِ', '’رچ', '’رہ', '’ری', '’ز', '’زو', '’زی', '’س', '’سا', '’سخ', '’سر', '’سش', '’سل', '’سم', '’سن', '’سو', '’سُ', '’سٹ', '’سپ', '’سی', '’سے', '’ش', '’شد', '’شی', '’ص', '’صف', '’صو', '’ط', '’طی', '’ع', '’عا', '’عج', '’عل', '’عو', '’ف', '’فا', '’فر', '’فز', '’فن', '’فو', '’فُ', '’فٹ', '’فی', '’ق', '’قا', '’ل', '’لا', '’لو', '’لک', '’لہ', '’م', '’ما', '’مب', '’مج', '’مخ', '’مر', '’مز', '’مس', '’مش', '’مض', '’مع', '’مل', '’مم', '’من', '’مو', '’مک', '’می', '’ن', '’نئ', '’نش', '’نظ', '’نو', '’ني', '’نہ', '’نی', '’و', '’وا', '’وج', '’ور', '’وز', '’وق', '’وک', '’وہ', '’وی', '’ٹ', '’ٹا', '’ٹو', '’پ', '’پا', '’پت', '’پر', '’پل', '’پو', '’پک', '’پھ', '’پہ', '’پی', '’چ', '’چا', '’چل', '’چن', '’چک', '’چھ', '’چی', '’ڈ', '’ڈا', '’ڈر', '’ڈس', '’ڈن', '’ڈی', '’ک', '’کا', '’کب', '’کر', '’کس', '’کش', '’کم', '’کن', '’کو', '’کپ', '’کچ', '’کی', '’گ', '’گد', '’گر', '’گز', '’گو', '’گی', '’ہ', '’ہا', '’ہز', '’ہم', '’ہو', '’ہپ', '’ہی', '’ی', '’یش', '’یہ', '’۔', '’۔ ', '’’', '’’ ', '’’4', '’’8', '’’s', '’’ا', '’’ب', '’’ت', '’’ج', '’’د', '’’ر', '’’س', '’’ف', '’’ل', '’’م', '’’ن', '’’و', '’’ٹ', '’’پ', '’’چ', '’’ڈ', '’’ک', '’’گ', '’’ہ', '’’ی', '“', '“ ', '“ت', '“تا', '“ی', '“یہ', '“۔', '“۔ ', '“۔و', '”', '” ', '”ا', '”ای', '”ب', '”با', '”بر', '”بڑ', '”ج', '”جی', '”س', '”سا', '”ش', '”شو', '”ص', '”صر', '”ل', '”لی', '”م', '”می', '”ن', '”نو', '”ہ', '”ہم', '․', '․چ', '․چن', '․․', '․․چ', '․․․', 'ﷺ', 'ﷺ ', 'ﺅ', 'ﺅ ', 'ﺅن', 'ﺅنٹ', 'ﺅنڈ', 'ﺅٹ', 'ﺅٹ ', 'ﺅں', 'ﺅں ', '\\ufeff', '\\ufeff ', '\\ufeffآ', '\\ufeffآئ', '\\ufeffا', '\\ufeffار', '\\ufeffاس', '\\ufeffال', '\\ufeffام', '\\ufeffان', '\\ufeffآ', '\\ufeffای', '\\ufeffب', '\\ufeffبن', '\\ufeffبو', '\\ufeffبھ', '\\ufeffج', '\\ufeffجا', '\\ufeffز', '\\ufeffزن', '\\ufeffس', '\\ufeffسا', '\\ufeffسو', '\\ufeffسی', '\\ufeffل', '\\ufeffلا', '\\ufeffلن', '\\ufeffم', '\\ufeffما', '\\ufeffمر', '\\ufeffمش', '\\ufeffمع', '\\ufeffمم', '\\ufeffن', '\\ufeffنئ', '\\ufeffني', '\\ufeffنی', '\\ufeffو', '\\ufeffوا', '\\ufeffون', '\\ufeffوی', '\\ufeffٹ', '\\ufeffٹي', '\\ufeffپ', '\\ufeffپا', '\\ufeffپی', '\\ufeffچ', '\\ufeffچا', '\\ufeffچن', '\\ufeffچي', '\\ufeffچی', '\\ufeffڈ', '\\ufeffڈی', '\\ufeffک', '\\ufeffکر', '\\ufeffکو', '\\ufeffکي', '\\ufeffکی', '\\ufeffگ', '\\ufeffگز', '\\ufeffہ', '\\ufeffہر', '\\ufeffہن', '\\ufeffہو', '\\ufeffی', '\\ufeffیو', '🏾', '🏾 ', '👍', '👍🏾', '👍🏾 ']\n",
            "(1038, 21523) (262, 21523) (300, 21523)\n"
          ]
        }
      ]
    },
    {
      "cell_type": "code",
      "metadata": {
        "id": "RzidrcavofVG"
      },
      "source": [
        "y_train = y_train_index\n",
        "y_test = y_dev_index\n",
        "x_train = x_train_c\n",
        "x_test = x_dev_c"
      ],
      "execution_count": null,
      "outputs": []
    },
    {
      "cell_type": "code",
      "metadata": {
        "id": "23aiN2YTmnQU",
        "colab": {
          "base_uri": "https://localhost:8080/"
        },
        "outputId": "bbbee788-4522-43b2-8f21-220a2ea2cff8"
      },
      "source": [
        "\n",
        "from sklearn import metrics\n",
        "\n",
        "from sklearn import metrics\n",
        "from sklearn.svm import SVC\n",
        "#model_SVM = SVC(kernel = 'linear', probability=True) #rbf #poly #linear\n",
        "model_SVM = SVC(probability=True) #rbf #poly #linear\n",
        "model_SVM.fit(x_train, y_train)\n",
        "y_pred_SVM = model_SVM.predict(x_test)\n",
        "print(\"SVM\")\n",
        "print(metrics.classification_report(y_test, y_pred_SVM))\n",
        "\n",
        "\n",
        "from sklearn.ensemble import RandomForestClassifier\n",
        "rf = RandomForestClassifier()\n",
        "rf.fit(x_train,y_train)\n",
        "y_pred_rf = rf.predict(x_test)\n",
        "print(\"random\")\n",
        "print(metrics.classification_report(y_test, y_pred_rf, target_names=le.classes_))\n",
        "\n",
        "from sklearn.tree import DecisionTreeClassifier\n",
        "decision = DecisionTreeClassifier()\n",
        "decision.fit(x_train,y_train)\n",
        "y_pred_decision = decision.predict(x_test)\n",
        "print(\"Decision Tree\")\n",
        "print(metrics.classification_report(y_test, y_pred_decision, target_names=le.classes_ ))\n",
        "\n",
        "from sklearn.ensemble import GradientBoostingClassifier\n",
        "gradient = GradientBoostingClassifier(n_estimators=100,max_depth=None,min_samples_split=2, random_state=0)\n",
        "gradient.fit(x_train,y_train)\n",
        "y_pred_gradient = gradient.predict(x_test)\n",
        "print(\"Gradient Boosting\")\n",
        "print(metrics.classification_report(y_test, y_pred_gradient ))\n",
        "\n",
        "from sklearn.ensemble import AdaBoostClassifier\n",
        "AdaBoostclf = AdaBoostClassifier()\n",
        "AdaBoostclf.fit(x_train,y_train)\n",
        "y_pred_AdaBoostclf = AdaBoostclf.predict(x_test)\n",
        "print(\"AdaBoost classifier\")\n",
        "print(metrics.classification_report(y_test, y_pred_AdaBoostclf, target_names=le.classes_ ))"
      ],
      "execution_count": null,
      "outputs": [
        {
          "output_type": "stream",
          "name": "stdout",
          "text": [
            "SVM\n",
            "              precision    recall  f1-score   support\n",
            "\n",
            "           0       0.97      0.31      0.47       112\n",
            "           1       0.66      0.99      0.79       150\n",
            "\n",
            "    accuracy                           0.70       262\n",
            "   macro avg       0.82      0.65      0.63       262\n",
            "weighted avg       0.79      0.70      0.66       262\n",
            "\n",
            "random\n",
            "              precision    recall  f1-score   support\n",
            "\n",
            "           F       0.80      0.74      0.77       112\n",
            "           R       0.82      0.86      0.84       150\n",
            "\n",
            "    accuracy                           0.81       262\n",
            "   macro avg       0.81      0.80      0.80       262\n",
            "weighted avg       0.81      0.81      0.81       262\n",
            "\n",
            "Decision Tree\n",
            "              precision    recall  f1-score   support\n",
            "\n",
            "           F       0.68      0.73      0.71       112\n",
            "           R       0.79      0.75      0.77       150\n",
            "\n",
            "    accuracy                           0.74       262\n",
            "   macro avg       0.74      0.74      0.74       262\n",
            "weighted avg       0.74      0.74      0.74       262\n",
            "\n",
            "Gradient Boosting\n",
            "              precision    recall  f1-score   support\n",
            "\n",
            "           0       0.69      0.71      0.70       112\n",
            "           1       0.78      0.76      0.77       150\n",
            "\n",
            "    accuracy                           0.74       262\n",
            "   macro avg       0.74      0.74      0.74       262\n",
            "weighted avg       0.74      0.74      0.74       262\n",
            "\n",
            "AdaBoost classifier\n",
            "              precision    recall  f1-score   support\n",
            "\n",
            "           F       0.81      0.74      0.77       112\n",
            "           R       0.82      0.87      0.84       150\n",
            "\n",
            "    accuracy                           0.81       262\n",
            "   macro avg       0.81      0.80      0.81       262\n",
            "weighted avg       0.81      0.81      0.81       262\n",
            "\n"
          ]
        }
      ]
    },
    {
      "cell_type": "markdown",
      "metadata": {
        "id": "eE6bQKFem7i4"
      },
      "source": [
        "MAJORITY VOTING"
      ]
    },
    {
      "cell_type": "code",
      "metadata": {
        "id": "CIZoiDFzmn0E",
        "colab": {
          "base_uri": "https://localhost:8080/"
        },
        "outputId": "ca98393e-288a-460e-cfe8-45bf3ec55ede"
      },
      "source": [
        "import statistics\n",
        "final_pred = np.array([])\n",
        "for i in range(0,len(x_test)):\n",
        "    final_pred = np.append(final_pred, statistics.mode([y_pred_rf[i], y_pred_decision[i], y_pred_AdaBoostclf[i]]))\n",
        "\n",
        "print(\"MAJORITY VOTING\")\n",
        "print(metrics.classification_report(y_test, final_pred, target_names=le.classes_))"
      ],
      "execution_count": null,
      "outputs": [
        {
          "output_type": "stream",
          "name": "stdout",
          "text": [
            "MAJORITY VOTING\n",
            "              precision    recall  f1-score   support\n",
            "\n",
            "           F       0.79      0.79      0.79       112\n",
            "           R       0.85      0.84      0.84       150\n",
            "\n",
            "    accuracy                           0.82       262\n",
            "   macro avg       0.82      0.82      0.82       262\n",
            "weighted avg       0.82      0.82      0.82       262\n",
            "\n"
          ]
        }
      ]
    },
    {
      "cell_type": "markdown",
      "metadata": {
        "id": "TRAmcPkrnbIh"
      },
      "source": [
        "AVERAGING"
      ]
    },
    {
      "cell_type": "code",
      "metadata": {
        "id": "qJFcY5aImnxk"
      },
      "source": [
        "pred1=rf.predict_proba(x_test)\n",
        "#pred2=decision.predict_proba(x_test)\n",
        "pred3=AdaBoostclf.predict_proba(x_test)\n",
        "\n",
        "predictions_test=(pred1+pred3)/3"
      ],
      "execution_count": null,
      "outputs": []
    },
    {
      "cell_type": "code",
      "metadata": {
        "id": "kY4a8JQ3pjeb",
        "colab": {
          "base_uri": "https://localhost:8080/"
        },
        "outputId": "dd744519-bbaf-4900-f7e1-db970bd04e14"
      },
      "source": [
        "predictions_test1 = np.zeros_like(predictions_test)\n",
        "predictions_test1[np.arange(len(predictions_test)), predictions_test.argmax(1)] = 1\n",
        "prediction_array = np.argmax(predictions_test1, axis = 1)\n",
        "from sklearn.metrics import classification_report\n",
        "print(classification_report(y_test,prediction_array, target_names=le.classes_)) "
      ],
      "execution_count": null,
      "outputs": [
        {
          "output_type": "stream",
          "name": "stdout",
          "text": [
            "              precision    recall  f1-score   support\n",
            "\n",
            "           F       0.81      0.73      0.77       112\n",
            "           R       0.81      0.87      0.84       150\n",
            "\n",
            "    accuracy                           0.81       262\n",
            "   macro avg       0.81      0.80      0.81       262\n",
            "weighted avg       0.81      0.81      0.81       262\n",
            "\n"
          ]
        }
      ]
    },
    {
      "cell_type": "markdown",
      "metadata": {
        "id": "onZX4YzuoF6Z"
      },
      "source": [
        "WEIGHTAGED AVERAGE"
      ]
    },
    {
      "cell_type": "code",
      "metadata": {
        "id": "0hut7e2Dmnv-",
        "colab": {
          "base_uri": "https://localhost:8080/"
        },
        "outputId": "93c2dbaf-067d-4485-e604-d70b9c77ea5d"
      },
      "source": [
        "predictions_test_w=(pred1*0.4+pred2*0.2+pred3*0.4)\n",
        "\n",
        "predictions_test1w = np.zeros_like(predictions_test_w)\n",
        "predictions_test1w[np.arange(len(predictions_test_w)), predictions_test_w.argmax(1)] = 1\n",
        "prediction_array_w = np.argmax(predictions_test1w, axis = 1)\n",
        "from sklearn.metrics import classification_report\n",
        "print(classification_report(y_test,prediction_array_w, target_names=le.classes_)) "
      ],
      "execution_count": null,
      "outputs": [
        {
          "output_type": "stream",
          "name": "stdout",
          "text": [
            "              precision    recall  f1-score   support\n",
            "\n",
            "           F       0.71      0.75      0.73       112\n",
            "           R       0.80      0.77      0.78       150\n",
            "\n",
            "    accuracy                           0.76       262\n",
            "   macro avg       0.76      0.76      0.76       262\n",
            "weighted avg       0.76      0.76      0.76       262\n",
            "\n"
          ]
        }
      ]
    },
    {
      "cell_type": "markdown",
      "metadata": {
        "id": "RZgTbJDrTul9"
      },
      "source": [
        "MODEL TESTING"
      ]
    },
    {
      "cell_type": "code",
      "metadata": {
        "id": "UvJ2HLyvrKXS"
      },
      "source": [
        "y_pred_rf_testing = rf.predict(x_test_sub)\n",
        "y_pred_decision_testing = decision.predict(x_test_sub)\n",
        "y_pred_AdaBoostclf_testing = AdaBoostclf.predict(x_test_sub)\n"
      ],
      "execution_count": null,
      "outputs": []
    },
    {
      "cell_type": "code",
      "metadata": {
        "id": "OEM4a339UkHK"
      },
      "source": [
        "pred1_testing = rf.predict_proba(x_test_sub)\n",
        "pred2_testing = decision.predict_proba(x_test_sub)\n",
        "pred3_testing = AdaBoostclf.predict_proba(x_test_sub)"
      ],
      "execution_count": null,
      "outputs": []
    },
    {
      "cell_type": "code",
      "metadata": {
        "id": "orSmV9HGWDTW"
      },
      "source": [
        "df1 = df_test\n",
        "df2 = df_test\n",
        "df3 = df_test"
      ],
      "execution_count": null,
      "outputs": []
    },
    {
      "cell_type": "markdown",
      "metadata": {
        "id": "nhBan6ESUlqh"
      },
      "source": [
        "MAJORITY TESTING"
      ]
    },
    {
      "cell_type": "code",
      "metadata": {
        "id": "HA612dlIUkPx"
      },
      "source": [
        "import statistics\n",
        "\n",
        "final_pred_testing = np.array([])\n",
        "for i in range(0,len(x_test_sub)):\n",
        "    final_pred_testing = np.append(final_pred_testing, statistics.mode([y_pred_rf_testing[i], y_pred_decision_testing[i], y_pred_AdaBoostclf_testing[i]]))\n"
      ],
      "execution_count": null,
      "outputs": []
    },
    {
      "cell_type": "code",
      "metadata": {
        "id": "KA5X9YAdZOaR"
      },
      "source": [
        "final_pred_testing = final_pred_testing.astype(int)"
      ],
      "execution_count": null,
      "outputs": []
    },
    {
      "cell_type": "code",
      "metadata": {
        "id": "1XOpAXnBVcZM"
      },
      "source": [
        "le.inverse_transform(final_pred_testing)\n",
        "df1['Label1'] = le.inverse_transform(final_pred_testing)\n",
        "final_submission_majority = df1[['file number', 'Label1']]\n",
        "final_submission_majority.to_csv(\"/content/drive/MyDrive/HASOC_2021/Urdu-Fake-news-detection-FIRE2021-main/Majority_LR_DT_ADD_Majority_char_TFIDF_1-3_20000_URDU_88.csv\", sep=\",\", index=False)"
      ],
      "execution_count": null,
      "outputs": []
    },
    {
      "cell_type": "markdown",
      "metadata": {
        "id": "HeHwbn57XODo"
      },
      "source": [
        "AVERAGE"
      ]
    },
    {
      "cell_type": "code",
      "metadata": {
        "id": "qUWTmV-PXM1k"
      },
      "source": [
        "predictions_test_average=(pred1_testing+pred3_testing)/2\n",
        "\n",
        "predictions_test_average1 = np.zeros_like(predictions_test_average)\n",
        "predictions_test_average1[np.arange(len(predictions_test_average)), predictions_test_average.argmax(1)] = 1\n",
        "predictions_test_average1 = np.argmax(predictions_test_average1, axis = 1)"
      ],
      "execution_count": null,
      "outputs": []
    },
    {
      "cell_type": "code",
      "metadata": {
        "id": "I-TLJx8LXutT"
      },
      "source": [
        "le.inverse_transform(predictions_test_average1)\n",
        "df2['Label2'] = le.inverse_transform(predictions_test_average1)\n",
        "final_submission_average = df2[['file number', 'Label2']]\n",
        "final_submission_average.to_csv(\"/content/drive/MyDrive/HASOC_2021/Urdu-Fake-news-detection-FIRE2021-main/Average_char_LR_ADD_TFIDF_1-3_URDU_85.csv\", sep=\",\", index=False)"
      ],
      "execution_count": null,
      "outputs": []
    },
    {
      "cell_type": "markdown",
      "metadata": {
        "id": "nZkN945UX-1j"
      },
      "source": [
        "WEIGHTAGE AVERAGE"
      ]
    },
    {
      "cell_type": "code",
      "metadata": {
        "id": "_RbzahXoX9-_"
      },
      "source": [
        "predictions_test_w_testing =(pred1_testing*0.4+pred2_testing*0.2+pred3_testing*0.4)\n",
        "\n",
        "predictions_test_w_testing1 = np.zeros_like(predictions_test_w_testing)\n",
        "predictions_test_w_testing1[np.arange(len(predictions_test_w_testing)), predictions_test_w_testing.argmax(1)] = 1\n",
        "predictions_test_w_testing1 = np.argmax(predictions_test_w_testing1, axis = 1)"
      ],
      "execution_count": null,
      "outputs": []
    },
    {
      "cell_type": "code",
      "metadata": {
        "id": "0TTr4zyOaOdv",
        "colab": {
          "base_uri": "https://localhost:8080/"
        },
        "outputId": "7c2484ed-9e4d-4d9d-ba42-019cb6aa9c1d"
      },
      "source": [
        "predictions_test_w_testing1"
      ],
      "execution_count": null,
      "outputs": [
        {
          "output_type": "execute_result",
          "data": {
            "text/plain": [
              "array([1, 1, 1, 1, 1, 1, 1, 1, 1, 1, 1, 1, 1, 1, 0, 1, 1, 1, 1, 1, 1, 1,\n",
              "       1, 1, 1, 1, 1, 1, 1, 1, 1, 1, 1, 1, 1, 1, 1, 1, 1, 1, 1, 1, 1, 1,\n",
              "       1, 1, 1, 0, 1, 1, 1, 0, 1, 1, 1, 1, 1, 1, 1, 1, 1, 0, 1, 1, 1, 1,\n",
              "       1, 1, 0, 0, 1, 1, 1, 1, 1, 1, 1, 1, 1, 1, 1, 1, 1, 1, 1, 1, 0, 1,\n",
              "       1, 1, 0, 1, 0, 1, 1, 1, 1, 1, 1, 1, 1, 1, 0, 0, 1, 1, 1, 1, 1, 1,\n",
              "       1, 1, 1, 1, 1, 1, 1, 1, 1, 1, 1, 1, 1, 1, 1, 1, 1, 1, 1, 1, 1, 1,\n",
              "       1, 1, 1, 1, 1, 1, 0, 1, 0, 1, 1, 0, 1, 1, 1, 1, 1, 1, 1, 0, 1, 1,\n",
              "       1, 1, 0, 0, 0, 1, 1, 1, 1, 1, 1, 1, 1, 1, 1, 1, 1, 1, 1, 1, 1, 1,\n",
              "       1, 1, 1, 1, 1, 0, 1, 1, 1, 1, 1, 1, 0, 1, 1, 1, 1, 0, 1, 0, 1, 1,\n",
              "       1, 1, 1, 1, 1, 0, 0, 1, 1, 1, 1, 1, 0, 1, 1, 1, 1, 0, 1, 1, 1, 1,\n",
              "       1, 1, 1, 1, 1, 0, 1, 1, 0, 0, 1, 0, 1, 1, 1, 1, 1, 1, 1, 0, 1, 1,\n",
              "       1, 1, 1, 0, 1, 0, 1, 1, 1, 0, 1, 1, 1, 1, 0, 1, 0, 1, 0, 1, 1, 1,\n",
              "       0, 1, 0, 1, 1, 1, 0, 1, 1, 1, 1, 1, 0, 1, 1, 1, 1, 0, 1, 1, 1, 0,\n",
              "       1, 0, 1, 1, 1, 1, 1, 1, 1, 1, 1, 1, 1, 1])"
            ]
          },
          "metadata": {},
          "execution_count": 37
        }
      ]
    },
    {
      "cell_type": "code",
      "metadata": {
        "id": "YaXEjhLMYc6H"
      },
      "source": [
        "le.inverse_transform(predictions_test_w_testing1)\n",
        "df3['Label3'] = le.inverse_transform(predictions_test_w_testing1)\n",
        "final_submission_Weightage_average = df3[['file number', 'Label3']]\n",
        "final_submission_Weightage_average.to_csv(\"/content/drive/MyDrive/HASOC_2021/Urdu-Fake-news-detection-FIRE2021-main/Weightage_average_char_TFIDF_1-3_URDU_85.csv\", sep=\",\", index=False)"
      ],
      "execution_count": null,
      "outputs": []
    },
    {
      "cell_type": "code",
      "metadata": {
        "id": "hA9vfG1uaxz2",
        "colab": {
          "base_uri": "https://localhost:8080/"
        },
        "outputId": "3b234d5d-9543-4d71-d01c-7319dc6b3614"
      },
      "source": [
        "df3.shape"
      ],
      "execution_count": null,
      "outputs": [
        {
          "output_type": "execute_result",
          "data": {
            "text/plain": [
              "(300, 5)"
            ]
          },
          "metadata": {},
          "execution_count": 40
        }
      ]
    },
    {
      "cell_type": "code",
      "metadata": {
        "id": "0PjV1c96b9Ah",
        "colab": {
          "base_uri": "https://localhost:8080/",
          "height": 423
        },
        "outputId": "fc0fb139-ff72-4cbe-f379-8ab0509196d4"
      },
      "source": [
        "df3"
      ],
      "execution_count": null,
      "outputs": [
        {
          "output_type": "execute_result",
          "data": {
            "text/html": [
              "<div>\n",
              "<style scoped>\n",
              "    .dataframe tbody tr th:only-of-type {\n",
              "        vertical-align: middle;\n",
              "    }\n",
              "\n",
              "    .dataframe tbody tr th {\n",
              "        vertical-align: top;\n",
              "    }\n",
              "\n",
              "    .dataframe thead th {\n",
              "        text-align: right;\n",
              "    }\n",
              "</style>\n",
              "<table border=\"1\" class=\"dataframe\">\n",
              "  <thead>\n",
              "    <tr style=\"text-align: right;\">\n",
              "      <th></th>\n",
              "      <th>text</th>\n",
              "      <th>file number</th>\n",
              "      <th>Label1</th>\n",
              "      <th>Label2</th>\n",
              "      <th>Label3</th>\n",
              "    </tr>\n",
              "  </thead>\n",
              "  <tbody>\n",
              "    <tr>\n",
              "      <th>0</th>\n",
              "      <td>موٹرولا کی 3 میٹر دوری سے فون چارج کرنے والی ن...</td>\n",
              "      <td>106</td>\n",
              "      <td>R</td>\n",
              "      <td>R</td>\n",
              "      <td>R</td>\n",
              "    </tr>\n",
              "    <tr>\n",
              "      <th>1</th>\n",
              "      <td>ٹک ٹاک نے ایک اور بڑا سنگ میل طے کرلیاٹک ٹاک ک...</td>\n",
              "      <td>227</td>\n",
              "      <td>R</td>\n",
              "      <td>R</td>\n",
              "      <td>R</td>\n",
              "    </tr>\n",
              "    <tr>\n",
              "      <th>2</th>\n",
              "      <td>جرمن حکومت کا وہ منصوبہ جو اسمارٹ فونز صنعت کو...</td>\n",
              "      <td>49</td>\n",
              "      <td>R</td>\n",
              "      <td>R</td>\n",
              "      <td>R</td>\n",
              "    </tr>\n",
              "    <tr>\n",
              "      <th>3</th>\n",
              "      <td>گیمنگ کے لیے شوقین افراد کیلئے طاقتور ترین اسم...</td>\n",
              "      <td>206</td>\n",
              "      <td>R</td>\n",
              "      <td>R</td>\n",
              "      <td>R</td>\n",
              "    </tr>\n",
              "    <tr>\n",
              "      <th>4</th>\n",
              "      <td>سام سنگ کی دنگ کردینے والی منفرد ڈیوائسسام سنگ...</td>\n",
              "      <td>18</td>\n",
              "      <td>R</td>\n",
              "      <td>R</td>\n",
              "      <td>R</td>\n",
              "    </tr>\n",
              "    <tr>\n",
              "      <th>...</th>\n",
              "      <td>...</td>\n",
              "      <td>...</td>\n",
              "      <td>...</td>\n",
              "      <td>...</td>\n",
              "      <td>...</td>\n",
              "    </tr>\n",
              "    <tr>\n",
              "      <th>295</th>\n",
              "      <td>نوجوان موجد کی بنائی یہ چین چہرہ چھونے پر یادد...</td>\n",
              "      <td>291</td>\n",
              "      <td>R</td>\n",
              "      <td>R</td>\n",
              "      <td>R</td>\n",
              "    </tr>\n",
              "    <tr>\n",
              "      <th>296</th>\n",
              "      <td>ای وی ایم کو ہیک کرنا مشکل ہو گا ، وزیر سائنس ...</td>\n",
              "      <td>290</td>\n",
              "      <td>R</td>\n",
              "      <td>R</td>\n",
              "      <td>R</td>\n",
              "    </tr>\n",
              "    <tr>\n",
              "      <th>297</th>\n",
              "      <td>برطانیہ میں بننے والی دنیا کی دوسری سب سے بڑی ...</td>\n",
              "      <td>292</td>\n",
              "      <td>R</td>\n",
              "      <td>R</td>\n",
              "      <td>R</td>\n",
              "    </tr>\n",
              "    <tr>\n",
              "      <th>298</th>\n",
              "      <td>ایپل نے اپنے ڈیبٹ کارڈ کی تفصیلات بتا دیں\\nایپ...</td>\n",
              "      <td>293</td>\n",
              "      <td>R</td>\n",
              "      <td>R</td>\n",
              "      <td>R</td>\n",
              "    </tr>\n",
              "    <tr>\n",
              "      <th>299</th>\n",
              "      <td>سمندری لہروں سے بجلی بنانے والی دنیا کی طاقتور...</td>\n",
              "      <td>294</td>\n",
              "      <td>R</td>\n",
              "      <td>R</td>\n",
              "      <td>R</td>\n",
              "    </tr>\n",
              "  </tbody>\n",
              "</table>\n",
              "<p>300 rows × 5 columns</p>\n",
              "</div>"
            ],
            "text/plain": [
              "                                                  text  ... Label3\n",
              "0    موٹرولا کی 3 میٹر دوری سے فون چارج کرنے والی ن...  ...      R\n",
              "1    ٹک ٹاک نے ایک اور بڑا سنگ میل طے کرلیاٹک ٹاک ک...  ...      R\n",
              "2    جرمن حکومت کا وہ منصوبہ جو اسمارٹ فونز صنعت کو...  ...      R\n",
              "3    گیمنگ کے لیے شوقین افراد کیلئے طاقتور ترین اسم...  ...      R\n",
              "4    سام سنگ کی دنگ کردینے والی منفرد ڈیوائسسام سنگ...  ...      R\n",
              "..                                                 ...  ...    ...\n",
              "295  نوجوان موجد کی بنائی یہ چین چہرہ چھونے پر یادد...  ...      R\n",
              "296  ای وی ایم کو ہیک کرنا مشکل ہو گا ، وزیر سائنس ...  ...      R\n",
              "297  برطانیہ میں بننے والی دنیا کی دوسری سب سے بڑی ...  ...      R\n",
              "298  ایپل نے اپنے ڈیبٹ کارڈ کی تفصیلات بتا دیں\\nایپ...  ...      R\n",
              "299  سمندری لہروں سے بجلی بنانے والی دنیا کی طاقتور...  ...      R\n",
              "\n",
              "[300 rows x 5 columns]"
            ]
          },
          "metadata": {},
          "execution_count": 41
        }
      ]
    },
    {
      "cell_type": "code",
      "metadata": {
        "id": "mEkoLh37cxFB"
      },
      "source": [
        ""
      ],
      "execution_count": null,
      "outputs": []
    }
  ]
}